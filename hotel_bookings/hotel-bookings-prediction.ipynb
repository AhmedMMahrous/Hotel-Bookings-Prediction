{
 "cells": [
  {
   "cell_type": "markdown",
   "id": "abandoned-chambers",
   "metadata": {
    "_cell_guid": "b1076dfc-b9ad-4769-8c92-a6c4dae69d19",
    "_uuid": "8f2839f25d086af736a60e9eeb907d3b93b6e0e5",
    "papermill": {
     "duration": 0.058272,
     "end_time": "2021-05-17T09:13:01.625101",
     "exception": false,
     "start_time": "2021-05-17T09:13:01.566829",
     "status": "completed"
    },
    "tags": []
   },
   "source": [
    "# Importing libaraies"
   ]
  },
  {
   "cell_type": "code",
   "execution_count": 1,
   "id": "better-patrick",
   "metadata": {
    "execution": {
     "iopub.execute_input": "2021-05-17T09:13:01.750578Z",
     "iopub.status.busy": "2021-05-17T09:13:01.749921Z",
     "iopub.status.idle": "2021-05-17T09:13:02.674974Z",
     "shell.execute_reply": "2021-05-17T09:13:02.673292Z"
    },
    "papermill": {
     "duration": 0.991044,
     "end_time": "2021-05-17T09:13:02.675258",
     "exception": false,
     "start_time": "2021-05-17T09:13:01.684214",
     "status": "completed"
    },
    "tags": []
   },
   "outputs": [],
   "source": [
    "import numpy as np  # linear algebra\n",
    "import pandas as pd  # data processing, CSV file I/O (e.g. pd.read_csv)\n",
    "import matplotlib.pyplot as plt\n",
    "import seaborn as sns\n",
    "import warnings\n",
    "warnings.filterwarnings(\"ignore\")"
   ]
  },
  {
   "cell_type": "markdown",
   "id": "complete-warren",
   "metadata": {
    "papermill": {
     "duration": 0.05621,
     "end_time": "2021-05-17T09:13:02.788611",
     "exception": false,
     "start_time": "2021-05-17T09:13:02.732401",
     "status": "completed"
    },
    "tags": []
   },
   "source": [
    "### Importing the dataset"
   ]
  },
  {
   "cell_type": "code",
   "execution_count": 2,
   "id": "important-socket",
   "metadata": {
    "execution": {
     "iopub.execute_input": "2021-05-17T09:13:02.911047Z",
     "iopub.status.busy": "2021-05-17T09:13:02.910059Z",
     "iopub.status.idle": "2021-05-17T09:13:03.570466Z",
     "shell.execute_reply": "2021-05-17T09:13:03.569801Z"
    },
    "papermill": {
     "duration": 0.724182,
     "end_time": "2021-05-17T09:13:03.570628",
     "exception": false,
     "start_time": "2021-05-17T09:13:02.846446",
     "status": "completed"
    },
    "tags": []
   },
   "outputs": [],
   "source": [
    "df = pd.read_csv('../input/hotel-bookings/hotel_bookings.csv')"
   ]
  },
  {
   "cell_type": "code",
   "execution_count": 3,
   "id": "under-aaron",
   "metadata": {
    "execution": {
     "iopub.execute_input": "2021-05-17T09:13:03.686965Z",
     "iopub.status.busy": "2021-05-17T09:13:03.686001Z",
     "iopub.status.idle": "2021-05-17T09:13:03.731780Z",
     "shell.execute_reply": "2021-05-17T09:13:03.730781Z"
    },
    "papermill": {
     "duration": 0.105612,
     "end_time": "2021-05-17T09:13:03.731991",
     "exception": false,
     "start_time": "2021-05-17T09:13:03.626379",
     "status": "completed"
    },
    "tags": []
   },
   "outputs": [
    {
     "data": {
      "text/html": [
       "<div>\n",
       "<style scoped>\n",
       "    .dataframe tbody tr th:only-of-type {\n",
       "        vertical-align: middle;\n",
       "    }\n",
       "\n",
       "    .dataframe tbody tr th {\n",
       "        vertical-align: top;\n",
       "    }\n",
       "\n",
       "    .dataframe thead th {\n",
       "        text-align: right;\n",
       "    }\n",
       "</style>\n",
       "<table border=\"1\" class=\"dataframe\">\n",
       "  <thead>\n",
       "    <tr style=\"text-align: right;\">\n",
       "      <th></th>\n",
       "      <th>hotel</th>\n",
       "      <th>is_canceled</th>\n",
       "      <th>lead_time</th>\n",
       "      <th>arrival_date_year</th>\n",
       "      <th>arrival_date_month</th>\n",
       "      <th>arrival_date_week_number</th>\n",
       "      <th>arrival_date_day_of_month</th>\n",
       "      <th>stays_in_weekend_nights</th>\n",
       "      <th>stays_in_week_nights</th>\n",
       "      <th>adults</th>\n",
       "      <th>...</th>\n",
       "      <th>deposit_type</th>\n",
       "      <th>agent</th>\n",
       "      <th>company</th>\n",
       "      <th>days_in_waiting_list</th>\n",
       "      <th>customer_type</th>\n",
       "      <th>adr</th>\n",
       "      <th>required_car_parking_spaces</th>\n",
       "      <th>total_of_special_requests</th>\n",
       "      <th>reservation_status</th>\n",
       "      <th>reservation_status_date</th>\n",
       "    </tr>\n",
       "  </thead>\n",
       "  <tbody>\n",
       "    <tr>\n",
       "      <th>0</th>\n",
       "      <td>Resort Hotel</td>\n",
       "      <td>0</td>\n",
       "      <td>342</td>\n",
       "      <td>2015</td>\n",
       "      <td>July</td>\n",
       "      <td>27</td>\n",
       "      <td>1</td>\n",
       "      <td>0</td>\n",
       "      <td>0</td>\n",
       "      <td>2</td>\n",
       "      <td>...</td>\n",
       "      <td>No Deposit</td>\n",
       "      <td>NaN</td>\n",
       "      <td>NaN</td>\n",
       "      <td>0</td>\n",
       "      <td>Transient</td>\n",
       "      <td>0.0</td>\n",
       "      <td>0</td>\n",
       "      <td>0</td>\n",
       "      <td>Check-Out</td>\n",
       "      <td>7/1/2015</td>\n",
       "    </tr>\n",
       "    <tr>\n",
       "      <th>1</th>\n",
       "      <td>Resort Hotel</td>\n",
       "      <td>0</td>\n",
       "      <td>737</td>\n",
       "      <td>2015</td>\n",
       "      <td>July</td>\n",
       "      <td>27</td>\n",
       "      <td>1</td>\n",
       "      <td>0</td>\n",
       "      <td>0</td>\n",
       "      <td>2</td>\n",
       "      <td>...</td>\n",
       "      <td>No Deposit</td>\n",
       "      <td>NaN</td>\n",
       "      <td>NaN</td>\n",
       "      <td>0</td>\n",
       "      <td>Transient</td>\n",
       "      <td>0.0</td>\n",
       "      <td>0</td>\n",
       "      <td>0</td>\n",
       "      <td>Check-Out</td>\n",
       "      <td>7/1/2015</td>\n",
       "    </tr>\n",
       "    <tr>\n",
       "      <th>2</th>\n",
       "      <td>Resort Hotel</td>\n",
       "      <td>0</td>\n",
       "      <td>7</td>\n",
       "      <td>2015</td>\n",
       "      <td>July</td>\n",
       "      <td>27</td>\n",
       "      <td>1</td>\n",
       "      <td>0</td>\n",
       "      <td>1</td>\n",
       "      <td>1</td>\n",
       "      <td>...</td>\n",
       "      <td>No Deposit</td>\n",
       "      <td>NaN</td>\n",
       "      <td>NaN</td>\n",
       "      <td>0</td>\n",
       "      <td>Transient</td>\n",
       "      <td>75.0</td>\n",
       "      <td>0</td>\n",
       "      <td>0</td>\n",
       "      <td>Check-Out</td>\n",
       "      <td>7/2/2015</td>\n",
       "    </tr>\n",
       "    <tr>\n",
       "      <th>3</th>\n",
       "      <td>Resort Hotel</td>\n",
       "      <td>0</td>\n",
       "      <td>13</td>\n",
       "      <td>2015</td>\n",
       "      <td>July</td>\n",
       "      <td>27</td>\n",
       "      <td>1</td>\n",
       "      <td>0</td>\n",
       "      <td>1</td>\n",
       "      <td>1</td>\n",
       "      <td>...</td>\n",
       "      <td>No Deposit</td>\n",
       "      <td>304.0</td>\n",
       "      <td>NaN</td>\n",
       "      <td>0</td>\n",
       "      <td>Transient</td>\n",
       "      <td>75.0</td>\n",
       "      <td>0</td>\n",
       "      <td>0</td>\n",
       "      <td>Check-Out</td>\n",
       "      <td>7/2/2015</td>\n",
       "    </tr>\n",
       "    <tr>\n",
       "      <th>4</th>\n",
       "      <td>Resort Hotel</td>\n",
       "      <td>0</td>\n",
       "      <td>14</td>\n",
       "      <td>2015</td>\n",
       "      <td>July</td>\n",
       "      <td>27</td>\n",
       "      <td>1</td>\n",
       "      <td>0</td>\n",
       "      <td>2</td>\n",
       "      <td>2</td>\n",
       "      <td>...</td>\n",
       "      <td>No Deposit</td>\n",
       "      <td>240.0</td>\n",
       "      <td>NaN</td>\n",
       "      <td>0</td>\n",
       "      <td>Transient</td>\n",
       "      <td>98.0</td>\n",
       "      <td>0</td>\n",
       "      <td>1</td>\n",
       "      <td>Check-Out</td>\n",
       "      <td>7/3/2015</td>\n",
       "    </tr>\n",
       "  </tbody>\n",
       "</table>\n",
       "<p>5 rows × 32 columns</p>\n",
       "</div>"
      ],
      "text/plain": [
       "          hotel  is_canceled  lead_time  arrival_date_year arrival_date_month  \\\n",
       "0  Resort Hotel            0        342               2015               July   \n",
       "1  Resort Hotel            0        737               2015               July   \n",
       "2  Resort Hotel            0          7               2015               July   \n",
       "3  Resort Hotel            0         13               2015               July   \n",
       "4  Resort Hotel            0         14               2015               July   \n",
       "\n",
       "   arrival_date_week_number  arrival_date_day_of_month  \\\n",
       "0                        27                          1   \n",
       "1                        27                          1   \n",
       "2                        27                          1   \n",
       "3                        27                          1   \n",
       "4                        27                          1   \n",
       "\n",
       "   stays_in_weekend_nights  stays_in_week_nights  adults  ...  deposit_type  \\\n",
       "0                        0                     0       2  ...    No Deposit   \n",
       "1                        0                     0       2  ...    No Deposit   \n",
       "2                        0                     1       1  ...    No Deposit   \n",
       "3                        0                     1       1  ...    No Deposit   \n",
       "4                        0                     2       2  ...    No Deposit   \n",
       "\n",
       "   agent company days_in_waiting_list customer_type   adr  \\\n",
       "0    NaN     NaN                    0     Transient   0.0   \n",
       "1    NaN     NaN                    0     Transient   0.0   \n",
       "2    NaN     NaN                    0     Transient  75.0   \n",
       "3  304.0     NaN                    0     Transient  75.0   \n",
       "4  240.0     NaN                    0     Transient  98.0   \n",
       "\n",
       "   required_car_parking_spaces  total_of_special_requests  reservation_status  \\\n",
       "0                            0                          0           Check-Out   \n",
       "1                            0                          0           Check-Out   \n",
       "2                            0                          0           Check-Out   \n",
       "3                            0                          0           Check-Out   \n",
       "4                            0                          1           Check-Out   \n",
       "\n",
       "  reservation_status_date  \n",
       "0                7/1/2015  \n",
       "1                7/1/2015  \n",
       "2                7/2/2015  \n",
       "3                7/2/2015  \n",
       "4                7/3/2015  \n",
       "\n",
       "[5 rows x 32 columns]"
      ]
     },
     "execution_count": 3,
     "metadata": {},
     "output_type": "execute_result"
    }
   ],
   "source": [
    "df.head()"
   ]
  },
  {
   "cell_type": "code",
   "execution_count": 4,
   "id": "visible-punch",
   "metadata": {
    "execution": {
     "iopub.execute_input": "2021-05-17T09:13:03.873786Z",
     "iopub.status.busy": "2021-05-17T09:13:03.861935Z",
     "iopub.status.idle": "2021-05-17T09:13:03.879275Z",
     "shell.execute_reply": "2021-05-17T09:13:03.878689Z"
    },
    "papermill": {
     "duration": 0.08907,
     "end_time": "2021-05-17T09:13:03.879444",
     "exception": false,
     "start_time": "2021-05-17T09:13:03.790374",
     "status": "completed"
    },
    "tags": []
   },
   "outputs": [
    {
     "data": {
      "text/html": [
       "<div>\n",
       "<style scoped>\n",
       "    .dataframe tbody tr th:only-of-type {\n",
       "        vertical-align: middle;\n",
       "    }\n",
       "\n",
       "    .dataframe tbody tr th {\n",
       "        vertical-align: top;\n",
       "    }\n",
       "\n",
       "    .dataframe thead th {\n",
       "        text-align: right;\n",
       "    }\n",
       "</style>\n",
       "<table border=\"1\" class=\"dataframe\">\n",
       "  <thead>\n",
       "    <tr style=\"text-align: right;\">\n",
       "      <th></th>\n",
       "      <th>hotel</th>\n",
       "      <th>is_canceled</th>\n",
       "      <th>lead_time</th>\n",
       "      <th>arrival_date_year</th>\n",
       "      <th>arrival_date_month</th>\n",
       "      <th>arrival_date_week_number</th>\n",
       "      <th>arrival_date_day_of_month</th>\n",
       "      <th>stays_in_weekend_nights</th>\n",
       "      <th>stays_in_week_nights</th>\n",
       "      <th>adults</th>\n",
       "      <th>...</th>\n",
       "      <th>deposit_type</th>\n",
       "      <th>agent</th>\n",
       "      <th>company</th>\n",
       "      <th>days_in_waiting_list</th>\n",
       "      <th>customer_type</th>\n",
       "      <th>adr</th>\n",
       "      <th>required_car_parking_spaces</th>\n",
       "      <th>total_of_special_requests</th>\n",
       "      <th>reservation_status</th>\n",
       "      <th>reservation_status_date</th>\n",
       "    </tr>\n",
       "  </thead>\n",
       "  <tbody>\n",
       "    <tr>\n",
       "      <th>119385</th>\n",
       "      <td>City Hotel</td>\n",
       "      <td>0</td>\n",
       "      <td>23</td>\n",
       "      <td>2017</td>\n",
       "      <td>August</td>\n",
       "      <td>35</td>\n",
       "      <td>30</td>\n",
       "      <td>2</td>\n",
       "      <td>5</td>\n",
       "      <td>2</td>\n",
       "      <td>...</td>\n",
       "      <td>No Deposit</td>\n",
       "      <td>394.0</td>\n",
       "      <td>NaN</td>\n",
       "      <td>0</td>\n",
       "      <td>Transient</td>\n",
       "      <td>96.14</td>\n",
       "      <td>0</td>\n",
       "      <td>0</td>\n",
       "      <td>Check-Out</td>\n",
       "      <td>9/6/2017</td>\n",
       "    </tr>\n",
       "    <tr>\n",
       "      <th>119386</th>\n",
       "      <td>City Hotel</td>\n",
       "      <td>0</td>\n",
       "      <td>102</td>\n",
       "      <td>2017</td>\n",
       "      <td>August</td>\n",
       "      <td>35</td>\n",
       "      <td>31</td>\n",
       "      <td>2</td>\n",
       "      <td>5</td>\n",
       "      <td>3</td>\n",
       "      <td>...</td>\n",
       "      <td>No Deposit</td>\n",
       "      <td>9.0</td>\n",
       "      <td>NaN</td>\n",
       "      <td>0</td>\n",
       "      <td>Transient</td>\n",
       "      <td>225.43</td>\n",
       "      <td>0</td>\n",
       "      <td>2</td>\n",
       "      <td>Check-Out</td>\n",
       "      <td>9/7/2017</td>\n",
       "    </tr>\n",
       "    <tr>\n",
       "      <th>119387</th>\n",
       "      <td>City Hotel</td>\n",
       "      <td>0</td>\n",
       "      <td>34</td>\n",
       "      <td>2017</td>\n",
       "      <td>August</td>\n",
       "      <td>35</td>\n",
       "      <td>31</td>\n",
       "      <td>2</td>\n",
       "      <td>5</td>\n",
       "      <td>2</td>\n",
       "      <td>...</td>\n",
       "      <td>No Deposit</td>\n",
       "      <td>9.0</td>\n",
       "      <td>NaN</td>\n",
       "      <td>0</td>\n",
       "      <td>Transient</td>\n",
       "      <td>157.71</td>\n",
       "      <td>0</td>\n",
       "      <td>4</td>\n",
       "      <td>Check-Out</td>\n",
       "      <td>9/7/2017</td>\n",
       "    </tr>\n",
       "    <tr>\n",
       "      <th>119388</th>\n",
       "      <td>City Hotel</td>\n",
       "      <td>0</td>\n",
       "      <td>109</td>\n",
       "      <td>2017</td>\n",
       "      <td>August</td>\n",
       "      <td>35</td>\n",
       "      <td>31</td>\n",
       "      <td>2</td>\n",
       "      <td>5</td>\n",
       "      <td>2</td>\n",
       "      <td>...</td>\n",
       "      <td>No Deposit</td>\n",
       "      <td>89.0</td>\n",
       "      <td>NaN</td>\n",
       "      <td>0</td>\n",
       "      <td>Transient</td>\n",
       "      <td>104.40</td>\n",
       "      <td>0</td>\n",
       "      <td>0</td>\n",
       "      <td>Check-Out</td>\n",
       "      <td>9/7/2017</td>\n",
       "    </tr>\n",
       "    <tr>\n",
       "      <th>119389</th>\n",
       "      <td>City Hotel</td>\n",
       "      <td>0</td>\n",
       "      <td>205</td>\n",
       "      <td>2017</td>\n",
       "      <td>August</td>\n",
       "      <td>35</td>\n",
       "      <td>29</td>\n",
       "      <td>2</td>\n",
       "      <td>7</td>\n",
       "      <td>2</td>\n",
       "      <td>...</td>\n",
       "      <td>No Deposit</td>\n",
       "      <td>9.0</td>\n",
       "      <td>NaN</td>\n",
       "      <td>0</td>\n",
       "      <td>Transient</td>\n",
       "      <td>151.20</td>\n",
       "      <td>0</td>\n",
       "      <td>2</td>\n",
       "      <td>Check-Out</td>\n",
       "      <td>9/7/2017</td>\n",
       "    </tr>\n",
       "  </tbody>\n",
       "</table>\n",
       "<p>5 rows × 32 columns</p>\n",
       "</div>"
      ],
      "text/plain": [
       "             hotel  is_canceled  lead_time  arrival_date_year  \\\n",
       "119385  City Hotel            0         23               2017   \n",
       "119386  City Hotel            0        102               2017   \n",
       "119387  City Hotel            0         34               2017   \n",
       "119388  City Hotel            0        109               2017   \n",
       "119389  City Hotel            0        205               2017   \n",
       "\n",
       "       arrival_date_month  arrival_date_week_number  \\\n",
       "119385             August                        35   \n",
       "119386             August                        35   \n",
       "119387             August                        35   \n",
       "119388             August                        35   \n",
       "119389             August                        35   \n",
       "\n",
       "        arrival_date_day_of_month  stays_in_weekend_nights  \\\n",
       "119385                         30                        2   \n",
       "119386                         31                        2   \n",
       "119387                         31                        2   \n",
       "119388                         31                        2   \n",
       "119389                         29                        2   \n",
       "\n",
       "        stays_in_week_nights  adults  ...  deposit_type  agent company  \\\n",
       "119385                     5       2  ...    No Deposit  394.0     NaN   \n",
       "119386                     5       3  ...    No Deposit    9.0     NaN   \n",
       "119387                     5       2  ...    No Deposit    9.0     NaN   \n",
       "119388                     5       2  ...    No Deposit   89.0     NaN   \n",
       "119389                     7       2  ...    No Deposit    9.0     NaN   \n",
       "\n",
       "       days_in_waiting_list customer_type     adr  \\\n",
       "119385                    0     Transient   96.14   \n",
       "119386                    0     Transient  225.43   \n",
       "119387                    0     Transient  157.71   \n",
       "119388                    0     Transient  104.40   \n",
       "119389                    0     Transient  151.20   \n",
       "\n",
       "        required_car_parking_spaces  total_of_special_requests  \\\n",
       "119385                            0                          0   \n",
       "119386                            0                          2   \n",
       "119387                            0                          4   \n",
       "119388                            0                          0   \n",
       "119389                            0                          2   \n",
       "\n",
       "        reservation_status reservation_status_date  \n",
       "119385           Check-Out                9/6/2017  \n",
       "119386           Check-Out                9/7/2017  \n",
       "119387           Check-Out                9/7/2017  \n",
       "119388           Check-Out                9/7/2017  \n",
       "119389           Check-Out                9/7/2017  \n",
       "\n",
       "[5 rows x 32 columns]"
      ]
     },
     "execution_count": 4,
     "metadata": {},
     "output_type": "execute_result"
    }
   ],
   "source": [
    "df.tail()"
   ]
  },
  {
   "cell_type": "code",
   "execution_count": 5,
   "id": "japanese-income",
   "metadata": {
    "execution": {
     "iopub.execute_input": "2021-05-17T09:13:04.001532Z",
     "iopub.status.busy": "2021-05-17T09:13:04.000798Z",
     "iopub.status.idle": "2021-05-17T09:13:04.032113Z",
     "shell.execute_reply": "2021-05-17T09:13:04.031445Z"
    },
    "papermill": {
     "duration": 0.094319,
     "end_time": "2021-05-17T09:13:04.032272",
     "exception": false,
     "start_time": "2021-05-17T09:13:03.937953",
     "status": "completed"
    },
    "tags": []
   },
   "outputs": [
    {
     "data": {
      "text/html": [
       "<div>\n",
       "<style scoped>\n",
       "    .dataframe tbody tr th:only-of-type {\n",
       "        vertical-align: middle;\n",
       "    }\n",
       "\n",
       "    .dataframe tbody tr th {\n",
       "        vertical-align: top;\n",
       "    }\n",
       "\n",
       "    .dataframe thead th {\n",
       "        text-align: right;\n",
       "    }\n",
       "</style>\n",
       "<table border=\"1\" class=\"dataframe\">\n",
       "  <thead>\n",
       "    <tr style=\"text-align: right;\">\n",
       "      <th></th>\n",
       "      <th>hotel</th>\n",
       "      <th>is_canceled</th>\n",
       "      <th>lead_time</th>\n",
       "      <th>arrival_date_year</th>\n",
       "      <th>arrival_date_month</th>\n",
       "      <th>arrival_date_week_number</th>\n",
       "      <th>arrival_date_day_of_month</th>\n",
       "      <th>stays_in_weekend_nights</th>\n",
       "      <th>stays_in_week_nights</th>\n",
       "      <th>adults</th>\n",
       "      <th>...</th>\n",
       "      <th>deposit_type</th>\n",
       "      <th>agent</th>\n",
       "      <th>company</th>\n",
       "      <th>days_in_waiting_list</th>\n",
       "      <th>customer_type</th>\n",
       "      <th>adr</th>\n",
       "      <th>required_car_parking_spaces</th>\n",
       "      <th>total_of_special_requests</th>\n",
       "      <th>reservation_status</th>\n",
       "      <th>reservation_status_date</th>\n",
       "    </tr>\n",
       "  </thead>\n",
       "  <tbody>\n",
       "    <tr>\n",
       "      <th>90257</th>\n",
       "      <td>City Hotel</td>\n",
       "      <td>0</td>\n",
       "      <td>112</td>\n",
       "      <td>2016</td>\n",
       "      <td>June</td>\n",
       "      <td>23</td>\n",
       "      <td>2</td>\n",
       "      <td>0</td>\n",
       "      <td>2</td>\n",
       "      <td>2</td>\n",
       "      <td>...</td>\n",
       "      <td>No Deposit</td>\n",
       "      <td>3.0</td>\n",
       "      <td>NaN</td>\n",
       "      <td>0</td>\n",
       "      <td>Transient-Party</td>\n",
       "      <td>100.00</td>\n",
       "      <td>0</td>\n",
       "      <td>0</td>\n",
       "      <td>Check-Out</td>\n",
       "      <td>6/4/2016</td>\n",
       "    </tr>\n",
       "    <tr>\n",
       "      <th>71555</th>\n",
       "      <td>City Hotel</td>\n",
       "      <td>1</td>\n",
       "      <td>133</td>\n",
       "      <td>2017</td>\n",
       "      <td>July</td>\n",
       "      <td>27</td>\n",
       "      <td>7</td>\n",
       "      <td>0</td>\n",
       "      <td>2</td>\n",
       "      <td>2</td>\n",
       "      <td>...</td>\n",
       "      <td>No Deposit</td>\n",
       "      <td>9.0</td>\n",
       "      <td>NaN</td>\n",
       "      <td>0</td>\n",
       "      <td>Transient</td>\n",
       "      <td>141.30</td>\n",
       "      <td>0</td>\n",
       "      <td>1</td>\n",
       "      <td>Canceled</td>\n",
       "      <td>3/6/2017</td>\n",
       "    </tr>\n",
       "    <tr>\n",
       "      <th>101772</th>\n",
       "      <td>City Hotel</td>\n",
       "      <td>0</td>\n",
       "      <td>35</td>\n",
       "      <td>2016</td>\n",
       "      <td>November</td>\n",
       "      <td>47</td>\n",
       "      <td>15</td>\n",
       "      <td>0</td>\n",
       "      <td>3</td>\n",
       "      <td>1</td>\n",
       "      <td>...</td>\n",
       "      <td>No Deposit</td>\n",
       "      <td>9.0</td>\n",
       "      <td>NaN</td>\n",
       "      <td>0</td>\n",
       "      <td>Transient</td>\n",
       "      <td>96.00</td>\n",
       "      <td>0</td>\n",
       "      <td>2</td>\n",
       "      <td>Check-Out</td>\n",
       "      <td>11/18/2016</td>\n",
       "    </tr>\n",
       "    <tr>\n",
       "      <th>98896</th>\n",
       "      <td>City Hotel</td>\n",
       "      <td>0</td>\n",
       "      <td>39</td>\n",
       "      <td>2016</td>\n",
       "      <td>October</td>\n",
       "      <td>41</td>\n",
       "      <td>3</td>\n",
       "      <td>1</td>\n",
       "      <td>2</td>\n",
       "      <td>2</td>\n",
       "      <td>...</td>\n",
       "      <td>No Deposit</td>\n",
       "      <td>9.0</td>\n",
       "      <td>NaN</td>\n",
       "      <td>0</td>\n",
       "      <td>Transient</td>\n",
       "      <td>118.00</td>\n",
       "      <td>0</td>\n",
       "      <td>0</td>\n",
       "      <td>Check-Out</td>\n",
       "      <td>10/6/2016</td>\n",
       "    </tr>\n",
       "    <tr>\n",
       "      <th>61769</th>\n",
       "      <td>City Hotel</td>\n",
       "      <td>1</td>\n",
       "      <td>263</td>\n",
       "      <td>2016</td>\n",
       "      <td>December</td>\n",
       "      <td>53</td>\n",
       "      <td>26</td>\n",
       "      <td>1</td>\n",
       "      <td>3</td>\n",
       "      <td>2</td>\n",
       "      <td>...</td>\n",
       "      <td>No Deposit</td>\n",
       "      <td>8.0</td>\n",
       "      <td>NaN</td>\n",
       "      <td>0</td>\n",
       "      <td>Transient</td>\n",
       "      <td>63.75</td>\n",
       "      <td>0</td>\n",
       "      <td>0</td>\n",
       "      <td>Canceled</td>\n",
       "      <td>4/8/2016</td>\n",
       "    </tr>\n",
       "  </tbody>\n",
       "</table>\n",
       "<p>5 rows × 32 columns</p>\n",
       "</div>"
      ],
      "text/plain": [
       "             hotel  is_canceled  lead_time  arrival_date_year  \\\n",
       "90257   City Hotel            0        112               2016   \n",
       "71555   City Hotel            1        133               2017   \n",
       "101772  City Hotel            0         35               2016   \n",
       "98896   City Hotel            0         39               2016   \n",
       "61769   City Hotel            1        263               2016   \n",
       "\n",
       "       arrival_date_month  arrival_date_week_number  \\\n",
       "90257                June                        23   \n",
       "71555                July                        27   \n",
       "101772           November                        47   \n",
       "98896             October                        41   \n",
       "61769            December                        53   \n",
       "\n",
       "        arrival_date_day_of_month  stays_in_weekend_nights  \\\n",
       "90257                           2                        0   \n",
       "71555                           7                        0   \n",
       "101772                         15                        0   \n",
       "98896                           3                        1   \n",
       "61769                          26                        1   \n",
       "\n",
       "        stays_in_week_nights  adults  ...  deposit_type  agent company  \\\n",
       "90257                      2       2  ...    No Deposit    3.0     NaN   \n",
       "71555                      2       2  ...    No Deposit    9.0     NaN   \n",
       "101772                     3       1  ...    No Deposit    9.0     NaN   \n",
       "98896                      2       2  ...    No Deposit    9.0     NaN   \n",
       "61769                      3       2  ...    No Deposit    8.0     NaN   \n",
       "\n",
       "       days_in_waiting_list    customer_type     adr  \\\n",
       "90257                     0  Transient-Party  100.00   \n",
       "71555                     0        Transient  141.30   \n",
       "101772                    0        Transient   96.00   \n",
       "98896                     0        Transient  118.00   \n",
       "61769                     0        Transient   63.75   \n",
       "\n",
       "        required_car_parking_spaces  total_of_special_requests  \\\n",
       "90257                             0                          0   \n",
       "71555                             0                          1   \n",
       "101772                            0                          2   \n",
       "98896                             0                          0   \n",
       "61769                             0                          0   \n",
       "\n",
       "        reservation_status reservation_status_date  \n",
       "90257            Check-Out                6/4/2016  \n",
       "71555             Canceled                3/6/2017  \n",
       "101772           Check-Out              11/18/2016  \n",
       "98896            Check-Out               10/6/2016  \n",
       "61769             Canceled                4/8/2016  \n",
       "\n",
       "[5 rows x 32 columns]"
      ]
     },
     "execution_count": 5,
     "metadata": {},
     "output_type": "execute_result"
    }
   ],
   "source": [
    "# Take a sample of 5\n",
    "df.sample(5)"
   ]
  },
  {
   "cell_type": "code",
   "execution_count": 6,
   "id": "tight-longer",
   "metadata": {
    "execution": {
     "iopub.execute_input": "2021-05-17T09:13:04.156183Z",
     "iopub.status.busy": "2021-05-17T09:13:04.155140Z",
     "iopub.status.idle": "2021-05-17T09:13:04.159980Z",
     "shell.execute_reply": "2021-05-17T09:13:04.159450Z"
    },
    "papermill": {
     "duration": 0.068418,
     "end_time": "2021-05-17T09:13:04.160144",
     "exception": false,
     "start_time": "2021-05-17T09:13:04.091726",
     "status": "completed"
    },
    "tags": []
   },
   "outputs": [
    {
     "data": {
      "text/plain": [
       "(119390, 32)"
      ]
     },
     "execution_count": 6,
     "metadata": {},
     "output_type": "execute_result"
    }
   ],
   "source": [
    "df.shape"
   ]
  },
  {
   "cell_type": "code",
   "execution_count": 7,
   "id": "federal-cherry",
   "metadata": {
    "execution": {
     "iopub.execute_input": "2021-05-17T09:13:04.283482Z",
     "iopub.status.busy": "2021-05-17T09:13:04.282384Z",
     "iopub.status.idle": "2021-05-17T09:13:04.366059Z",
     "shell.execute_reply": "2021-05-17T09:13:04.365217Z"
    },
    "papermill": {
     "duration": 0.147818,
     "end_time": "2021-05-17T09:13:04.366311",
     "exception": false,
     "start_time": "2021-05-17T09:13:04.218493",
     "status": "completed"
    },
    "tags": []
   },
   "outputs": [
    {
     "name": "stdout",
     "output_type": "stream",
     "text": [
      "<class 'pandas.core.frame.DataFrame'>\n",
      "RangeIndex: 119390 entries, 0 to 119389\n",
      "Data columns (total 32 columns):\n",
      " #   Column                          Non-Null Count   Dtype  \n",
      "---  ------                          --------------   -----  \n",
      " 0   hotel                           119390 non-null  object \n",
      " 1   is_canceled                     119390 non-null  int64  \n",
      " 2   lead_time                       119390 non-null  int64  \n",
      " 3   arrival_date_year               119390 non-null  int64  \n",
      " 4   arrival_date_month              119390 non-null  object \n",
      " 5   arrival_date_week_number        119390 non-null  int64  \n",
      " 6   arrival_date_day_of_month       119390 non-null  int64  \n",
      " 7   stays_in_weekend_nights         119390 non-null  int64  \n",
      " 8   stays_in_week_nights            119390 non-null  int64  \n",
      " 9   adults                          119390 non-null  int64  \n",
      " 10  children                        119386 non-null  float64\n",
      " 11  babies                          119390 non-null  int64  \n",
      " 12  meal                            119390 non-null  object \n",
      " 13  country                         118902 non-null  object \n",
      " 14  market_segment                  119390 non-null  object \n",
      " 15  distribution_channel            119390 non-null  object \n",
      " 16  is_repeated_guest               119390 non-null  int64  \n",
      " 17  previous_cancellations          119390 non-null  int64  \n",
      " 18  previous_bookings_not_canceled  119390 non-null  int64  \n",
      " 19  reserved_room_type              119390 non-null  object \n",
      " 20  assigned_room_type              119390 non-null  object \n",
      " 21  booking_changes                 119390 non-null  int64  \n",
      " 22  deposit_type                    119390 non-null  object \n",
      " 23  agent                           103050 non-null  float64\n",
      " 24  company                         6797 non-null    float64\n",
      " 25  days_in_waiting_list            119390 non-null  int64  \n",
      " 26  customer_type                   119390 non-null  object \n",
      " 27  adr                             119390 non-null  float64\n",
      " 28  required_car_parking_spaces     119390 non-null  int64  \n",
      " 29  total_of_special_requests       119390 non-null  int64  \n",
      " 30  reservation_status              119390 non-null  object \n",
      " 31  reservation_status_date         119390 non-null  object \n",
      "dtypes: float64(4), int64(16), object(12)\n",
      "memory usage: 29.1+ MB\n"
     ]
    }
   ],
   "source": [
    "df.info()  #info() is used to check the Information about the data and the datatypes of each respective attribute."
   ]
  },
  {
   "cell_type": "code",
   "execution_count": 8,
   "id": "settled-analyst",
   "metadata": {
    "execution": {
     "iopub.execute_input": "2021-05-17T09:13:04.492969Z",
     "iopub.status.busy": "2021-05-17T09:13:04.491808Z",
     "iopub.status.idle": "2021-05-17T09:13:04.660656Z",
     "shell.execute_reply": "2021-05-17T09:13:04.661320Z"
    },
    "papermill": {
     "duration": 0.236221,
     "end_time": "2021-05-17T09:13:04.661540",
     "exception": false,
     "start_time": "2021-05-17T09:13:04.425319",
     "status": "completed"
    },
    "tags": []
   },
   "outputs": [
    {
     "data": {
      "text/html": [
       "<div>\n",
       "<style scoped>\n",
       "    .dataframe tbody tr th:only-of-type {\n",
       "        vertical-align: middle;\n",
       "    }\n",
       "\n",
       "    .dataframe tbody tr th {\n",
       "        vertical-align: top;\n",
       "    }\n",
       "\n",
       "    .dataframe thead th {\n",
       "        text-align: right;\n",
       "    }\n",
       "</style>\n",
       "<table border=\"1\" class=\"dataframe\">\n",
       "  <thead>\n",
       "    <tr style=\"text-align: right;\">\n",
       "      <th></th>\n",
       "      <th>count</th>\n",
       "      <th>mean</th>\n",
       "      <th>std</th>\n",
       "      <th>min</th>\n",
       "      <th>25%</th>\n",
       "      <th>50%</th>\n",
       "      <th>75%</th>\n",
       "      <th>max</th>\n",
       "    </tr>\n",
       "  </thead>\n",
       "  <tbody>\n",
       "    <tr>\n",
       "      <th>is_canceled</th>\n",
       "      <td>119390.0</td>\n",
       "      <td>0.370416</td>\n",
       "      <td>0.482918</td>\n",
       "      <td>0.00</td>\n",
       "      <td>0.00</td>\n",
       "      <td>0.000</td>\n",
       "      <td>1.0</td>\n",
       "      <td>1.0</td>\n",
       "    </tr>\n",
       "    <tr>\n",
       "      <th>lead_time</th>\n",
       "      <td>119390.0</td>\n",
       "      <td>104.011416</td>\n",
       "      <td>106.863097</td>\n",
       "      <td>0.00</td>\n",
       "      <td>18.00</td>\n",
       "      <td>69.000</td>\n",
       "      <td>160.0</td>\n",
       "      <td>737.0</td>\n",
       "    </tr>\n",
       "    <tr>\n",
       "      <th>arrival_date_year</th>\n",
       "      <td>119390.0</td>\n",
       "      <td>2016.156554</td>\n",
       "      <td>0.707476</td>\n",
       "      <td>2015.00</td>\n",
       "      <td>2016.00</td>\n",
       "      <td>2016.000</td>\n",
       "      <td>2017.0</td>\n",
       "      <td>2017.0</td>\n",
       "    </tr>\n",
       "    <tr>\n",
       "      <th>arrival_date_week_number</th>\n",
       "      <td>119390.0</td>\n",
       "      <td>27.165173</td>\n",
       "      <td>13.605138</td>\n",
       "      <td>1.00</td>\n",
       "      <td>16.00</td>\n",
       "      <td>28.000</td>\n",
       "      <td>38.0</td>\n",
       "      <td>53.0</td>\n",
       "    </tr>\n",
       "    <tr>\n",
       "      <th>arrival_date_day_of_month</th>\n",
       "      <td>119390.0</td>\n",
       "      <td>15.798241</td>\n",
       "      <td>8.780829</td>\n",
       "      <td>1.00</td>\n",
       "      <td>8.00</td>\n",
       "      <td>16.000</td>\n",
       "      <td>23.0</td>\n",
       "      <td>31.0</td>\n",
       "    </tr>\n",
       "    <tr>\n",
       "      <th>stays_in_weekend_nights</th>\n",
       "      <td>119390.0</td>\n",
       "      <td>0.927599</td>\n",
       "      <td>0.998613</td>\n",
       "      <td>0.00</td>\n",
       "      <td>0.00</td>\n",
       "      <td>1.000</td>\n",
       "      <td>2.0</td>\n",
       "      <td>19.0</td>\n",
       "    </tr>\n",
       "    <tr>\n",
       "      <th>stays_in_week_nights</th>\n",
       "      <td>119390.0</td>\n",
       "      <td>2.500302</td>\n",
       "      <td>1.908286</td>\n",
       "      <td>0.00</td>\n",
       "      <td>1.00</td>\n",
       "      <td>2.000</td>\n",
       "      <td>3.0</td>\n",
       "      <td>50.0</td>\n",
       "    </tr>\n",
       "    <tr>\n",
       "      <th>adults</th>\n",
       "      <td>119390.0</td>\n",
       "      <td>1.856403</td>\n",
       "      <td>0.579261</td>\n",
       "      <td>0.00</td>\n",
       "      <td>2.00</td>\n",
       "      <td>2.000</td>\n",
       "      <td>2.0</td>\n",
       "      <td>55.0</td>\n",
       "    </tr>\n",
       "    <tr>\n",
       "      <th>children</th>\n",
       "      <td>119386.0</td>\n",
       "      <td>0.103890</td>\n",
       "      <td>0.398561</td>\n",
       "      <td>0.00</td>\n",
       "      <td>0.00</td>\n",
       "      <td>0.000</td>\n",
       "      <td>0.0</td>\n",
       "      <td>10.0</td>\n",
       "    </tr>\n",
       "    <tr>\n",
       "      <th>babies</th>\n",
       "      <td>119390.0</td>\n",
       "      <td>0.007949</td>\n",
       "      <td>0.097436</td>\n",
       "      <td>0.00</td>\n",
       "      <td>0.00</td>\n",
       "      <td>0.000</td>\n",
       "      <td>0.0</td>\n",
       "      <td>10.0</td>\n",
       "    </tr>\n",
       "    <tr>\n",
       "      <th>is_repeated_guest</th>\n",
       "      <td>119390.0</td>\n",
       "      <td>0.031912</td>\n",
       "      <td>0.175767</td>\n",
       "      <td>0.00</td>\n",
       "      <td>0.00</td>\n",
       "      <td>0.000</td>\n",
       "      <td>0.0</td>\n",
       "      <td>1.0</td>\n",
       "    </tr>\n",
       "    <tr>\n",
       "      <th>previous_cancellations</th>\n",
       "      <td>119390.0</td>\n",
       "      <td>0.087118</td>\n",
       "      <td>0.844336</td>\n",
       "      <td>0.00</td>\n",
       "      <td>0.00</td>\n",
       "      <td>0.000</td>\n",
       "      <td>0.0</td>\n",
       "      <td>26.0</td>\n",
       "    </tr>\n",
       "    <tr>\n",
       "      <th>previous_bookings_not_canceled</th>\n",
       "      <td>119390.0</td>\n",
       "      <td>0.137097</td>\n",
       "      <td>1.497437</td>\n",
       "      <td>0.00</td>\n",
       "      <td>0.00</td>\n",
       "      <td>0.000</td>\n",
       "      <td>0.0</td>\n",
       "      <td>72.0</td>\n",
       "    </tr>\n",
       "    <tr>\n",
       "      <th>booking_changes</th>\n",
       "      <td>119390.0</td>\n",
       "      <td>0.221124</td>\n",
       "      <td>0.652306</td>\n",
       "      <td>0.00</td>\n",
       "      <td>0.00</td>\n",
       "      <td>0.000</td>\n",
       "      <td>0.0</td>\n",
       "      <td>21.0</td>\n",
       "    </tr>\n",
       "    <tr>\n",
       "      <th>agent</th>\n",
       "      <td>103050.0</td>\n",
       "      <td>86.693382</td>\n",
       "      <td>110.774548</td>\n",
       "      <td>1.00</td>\n",
       "      <td>9.00</td>\n",
       "      <td>14.000</td>\n",
       "      <td>229.0</td>\n",
       "      <td>535.0</td>\n",
       "    </tr>\n",
       "    <tr>\n",
       "      <th>company</th>\n",
       "      <td>6797.0</td>\n",
       "      <td>189.266735</td>\n",
       "      <td>131.655015</td>\n",
       "      <td>6.00</td>\n",
       "      <td>62.00</td>\n",
       "      <td>179.000</td>\n",
       "      <td>270.0</td>\n",
       "      <td>543.0</td>\n",
       "    </tr>\n",
       "    <tr>\n",
       "      <th>days_in_waiting_list</th>\n",
       "      <td>119390.0</td>\n",
       "      <td>2.321149</td>\n",
       "      <td>17.594721</td>\n",
       "      <td>0.00</td>\n",
       "      <td>0.00</td>\n",
       "      <td>0.000</td>\n",
       "      <td>0.0</td>\n",
       "      <td>391.0</td>\n",
       "    </tr>\n",
       "    <tr>\n",
       "      <th>adr</th>\n",
       "      <td>119390.0</td>\n",
       "      <td>101.831122</td>\n",
       "      <td>50.535790</td>\n",
       "      <td>-6.38</td>\n",
       "      <td>69.29</td>\n",
       "      <td>94.575</td>\n",
       "      <td>126.0</td>\n",
       "      <td>5400.0</td>\n",
       "    </tr>\n",
       "    <tr>\n",
       "      <th>required_car_parking_spaces</th>\n",
       "      <td>119390.0</td>\n",
       "      <td>0.062518</td>\n",
       "      <td>0.245291</td>\n",
       "      <td>0.00</td>\n",
       "      <td>0.00</td>\n",
       "      <td>0.000</td>\n",
       "      <td>0.0</td>\n",
       "      <td>8.0</td>\n",
       "    </tr>\n",
       "    <tr>\n",
       "      <th>total_of_special_requests</th>\n",
       "      <td>119390.0</td>\n",
       "      <td>0.571363</td>\n",
       "      <td>0.792798</td>\n",
       "      <td>0.00</td>\n",
       "      <td>0.00</td>\n",
       "      <td>0.000</td>\n",
       "      <td>1.0</td>\n",
       "      <td>5.0</td>\n",
       "    </tr>\n",
       "  </tbody>\n",
       "</table>\n",
       "</div>"
      ],
      "text/plain": [
       "                                   count         mean         std      min  \\\n",
       "is_canceled                     119390.0     0.370416    0.482918     0.00   \n",
       "lead_time                       119390.0   104.011416  106.863097     0.00   \n",
       "arrival_date_year               119390.0  2016.156554    0.707476  2015.00   \n",
       "arrival_date_week_number        119390.0    27.165173   13.605138     1.00   \n",
       "arrival_date_day_of_month       119390.0    15.798241    8.780829     1.00   \n",
       "stays_in_weekend_nights         119390.0     0.927599    0.998613     0.00   \n",
       "stays_in_week_nights            119390.0     2.500302    1.908286     0.00   \n",
       "adults                          119390.0     1.856403    0.579261     0.00   \n",
       "children                        119386.0     0.103890    0.398561     0.00   \n",
       "babies                          119390.0     0.007949    0.097436     0.00   \n",
       "is_repeated_guest               119390.0     0.031912    0.175767     0.00   \n",
       "previous_cancellations          119390.0     0.087118    0.844336     0.00   \n",
       "previous_bookings_not_canceled  119390.0     0.137097    1.497437     0.00   \n",
       "booking_changes                 119390.0     0.221124    0.652306     0.00   \n",
       "agent                           103050.0    86.693382  110.774548     1.00   \n",
       "company                           6797.0   189.266735  131.655015     6.00   \n",
       "days_in_waiting_list            119390.0     2.321149   17.594721     0.00   \n",
       "adr                             119390.0   101.831122   50.535790    -6.38   \n",
       "required_car_parking_spaces     119390.0     0.062518    0.245291     0.00   \n",
       "total_of_special_requests       119390.0     0.571363    0.792798     0.00   \n",
       "\n",
       "                                    25%       50%     75%     max  \n",
       "is_canceled                        0.00     0.000     1.0     1.0  \n",
       "lead_time                         18.00    69.000   160.0   737.0  \n",
       "arrival_date_year               2016.00  2016.000  2017.0  2017.0  \n",
       "arrival_date_week_number          16.00    28.000    38.0    53.0  \n",
       "arrival_date_day_of_month          8.00    16.000    23.0    31.0  \n",
       "stays_in_weekend_nights            0.00     1.000     2.0    19.0  \n",
       "stays_in_week_nights               1.00     2.000     3.0    50.0  \n",
       "adults                             2.00     2.000     2.0    55.0  \n",
       "children                           0.00     0.000     0.0    10.0  \n",
       "babies                             0.00     0.000     0.0    10.0  \n",
       "is_repeated_guest                  0.00     0.000     0.0     1.0  \n",
       "previous_cancellations             0.00     0.000     0.0    26.0  \n",
       "previous_bookings_not_canceled     0.00     0.000     0.0    72.0  \n",
       "booking_changes                    0.00     0.000     0.0    21.0  \n",
       "agent                              9.00    14.000   229.0   535.0  \n",
       "company                           62.00   179.000   270.0   543.0  \n",
       "days_in_waiting_list               0.00     0.000     0.0   391.0  \n",
       "adr                               69.29    94.575   126.0  5400.0  \n",
       "required_car_parking_spaces        0.00     0.000     0.0     8.0  \n",
       "total_of_special_requests          0.00     0.000     1.0     5.0  "
      ]
     },
     "execution_count": 8,
     "metadata": {},
     "output_type": "execute_result"
    }
   ],
   "source": [
    "df.describe().T #The described method will help to see how data has been spread for numerical values.\n",
    "              # We can clearly see the minimum value, mean values, different percentile values, and maximum values."
   ]
  },
  {
   "cell_type": "code",
   "execution_count": 9,
   "id": "digital-volleyball",
   "metadata": {
    "execution": {
     "iopub.execute_input": "2021-05-17T09:13:04.785345Z",
     "iopub.status.busy": "2021-05-17T09:13:04.784377Z",
     "iopub.status.idle": "2021-05-17T09:13:04.790372Z",
     "shell.execute_reply": "2021-05-17T09:13:04.790819Z"
    },
    "papermill": {
     "duration": 0.069572,
     "end_time": "2021-05-17T09:13:04.791012",
     "exception": false,
     "start_time": "2021-05-17T09:13:04.721440",
     "status": "completed"
    },
    "tags": []
   },
   "outputs": [
    {
     "data": {
      "text/plain": [
       "Index(['hotel', 'is_canceled', 'lead_time', 'arrival_date_year',\n",
       "       'arrival_date_month', 'arrival_date_week_number',\n",
       "       'arrival_date_day_of_month', 'stays_in_weekend_nights',\n",
       "       'stays_in_week_nights', 'adults', 'children', 'babies', 'meal',\n",
       "       'country', 'market_segment', 'distribution_channel',\n",
       "       'is_repeated_guest', 'previous_cancellations',\n",
       "       'previous_bookings_not_canceled', 'reserved_room_type',\n",
       "       'assigned_room_type', 'booking_changes', 'deposit_type', 'agent',\n",
       "       'company', 'days_in_waiting_list', 'customer_type', 'adr',\n",
       "       'required_car_parking_spaces', 'total_of_special_requests',\n",
       "       'reservation_status', 'reservation_status_date'],\n",
       "      dtype='object')"
      ]
     },
     "execution_count": 9,
     "metadata": {},
     "output_type": "execute_result"
    }
   ],
   "source": [
    "df.columns"
   ]
  },
  {
   "cell_type": "markdown",
   "id": "similar-temperature",
   "metadata": {
    "papermill": {
     "duration": 0.062952,
     "end_time": "2021-05-17T09:13:04.914828",
     "exception": false,
     "start_time": "2021-05-17T09:13:04.851876",
     "status": "completed"
    },
    "tags": []
   },
   "source": [
    "### Drop missing values"
   ]
  },
  {
   "cell_type": "code",
   "execution_count": 10,
   "id": "foster-mozambique",
   "metadata": {
    "execution": {
     "iopub.execute_input": "2021-05-17T09:13:05.046399Z",
     "iopub.status.busy": "2021-05-17T09:13:05.045308Z",
     "iopub.status.idle": "2021-05-17T09:13:05.110358Z",
     "shell.execute_reply": "2021-05-17T09:13:05.110775Z"
    },
    "papermill": {
     "duration": 0.132363,
     "end_time": "2021-05-17T09:13:05.110985",
     "exception": false,
     "start_time": "2021-05-17T09:13:04.978622",
     "status": "completed"
    },
    "tags": []
   },
   "outputs": [
    {
     "data": {
      "text/plain": [
       "hotel                                  0\n",
       "is_canceled                            0\n",
       "lead_time                              0\n",
       "arrival_date_year                      0\n",
       "arrival_date_month                     0\n",
       "arrival_date_week_number               0\n",
       "arrival_date_day_of_month              0\n",
       "stays_in_weekend_nights                0\n",
       "stays_in_week_nights                   0\n",
       "adults                                 0\n",
       "children                               4\n",
       "babies                                 0\n",
       "meal                                   0\n",
       "country                              488\n",
       "market_segment                         0\n",
       "distribution_channel                   0\n",
       "is_repeated_guest                      0\n",
       "previous_cancellations                 0\n",
       "previous_bookings_not_canceled         0\n",
       "reserved_room_type                     0\n",
       "assigned_room_type                     0\n",
       "booking_changes                        0\n",
       "deposit_type                           0\n",
       "agent                              16340\n",
       "company                           112593\n",
       "days_in_waiting_list                   0\n",
       "customer_type                          0\n",
       "adr                                    0\n",
       "required_car_parking_spaces            0\n",
       "total_of_special_requests              0\n",
       "reservation_status                     0\n",
       "reservation_status_date                0\n",
       "dtype: int64"
      ]
     },
     "execution_count": 10,
     "metadata": {},
     "output_type": "execute_result"
    }
   ],
   "source": [
    "df.isna().sum()"
   ]
  },
  {
   "cell_type": "code",
   "execution_count": 11,
   "id": "white-pickup",
   "metadata": {
    "execution": {
     "iopub.execute_input": "2021-05-17T09:13:05.238530Z",
     "iopub.status.busy": "2021-05-17T09:13:05.237515Z",
     "iopub.status.idle": "2021-05-17T09:13:05.242473Z",
     "shell.execute_reply": "2021-05-17T09:13:05.241761Z"
    },
    "papermill": {
     "duration": 0.070081,
     "end_time": "2021-05-17T09:13:05.242632",
     "exception": false,
     "start_time": "2021-05-17T09:13:05.172551",
     "status": "completed"
    },
    "tags": []
   },
   "outputs": [],
   "source": [
    "# Replace missing values:\n",
    "# agent: If no agency is given, booking was most likely made without one.\n",
    "# company: If none given, it was most likely private.\n",
    "# rest schould be self-explanatory."
   ]
  },
  {
   "cell_type": "code",
   "execution_count": 12,
   "id": "strong-camera",
   "metadata": {
    "execution": {
     "iopub.execute_input": "2021-05-17T09:13:05.368566Z",
     "iopub.status.busy": "2021-05-17T09:13:05.367872Z",
     "iopub.status.idle": "2021-05-17T09:13:05.369904Z",
     "shell.execute_reply": "2021-05-17T09:13:05.370355Z"
    },
    "papermill": {
     "duration": 0.067929,
     "end_time": "2021-05-17T09:13:05.370558",
     "exception": false,
     "start_time": "2021-05-17T09:13:05.302629",
     "status": "completed"
    },
    "tags": []
   },
   "outputs": [],
   "source": [
    "def data_clean(df):\n",
    "    df.fillna(0,inplace=True)\n",
    "    print(df.isnull().sum())"
   ]
  },
  {
   "cell_type": "code",
   "execution_count": 13,
   "id": "worth-christian",
   "metadata": {
    "execution": {
     "iopub.execute_input": "2021-05-17T09:13:05.498009Z",
     "iopub.status.busy": "2021-05-17T09:13:05.497349Z",
     "iopub.status.idle": "2021-05-17T09:13:05.621125Z",
     "shell.execute_reply": "2021-05-17T09:13:05.622327Z"
    },
    "papermill": {
     "duration": 0.190753,
     "end_time": "2021-05-17T09:13:05.622600",
     "exception": false,
     "start_time": "2021-05-17T09:13:05.431847",
     "status": "completed"
    },
    "tags": []
   },
   "outputs": [
    {
     "name": "stdout",
     "output_type": "stream",
     "text": [
      "hotel                             0\n",
      "is_canceled                       0\n",
      "lead_time                         0\n",
      "arrival_date_year                 0\n",
      "arrival_date_month                0\n",
      "arrival_date_week_number          0\n",
      "arrival_date_day_of_month         0\n",
      "stays_in_weekend_nights           0\n",
      "stays_in_week_nights              0\n",
      "adults                            0\n",
      "children                          0\n",
      "babies                            0\n",
      "meal                              0\n",
      "country                           0\n",
      "market_segment                    0\n",
      "distribution_channel              0\n",
      "is_repeated_guest                 0\n",
      "previous_cancellations            0\n",
      "previous_bookings_not_canceled    0\n",
      "reserved_room_type                0\n",
      "assigned_room_type                0\n",
      "booking_changes                   0\n",
      "deposit_type                      0\n",
      "agent                             0\n",
      "company                           0\n",
      "days_in_waiting_list              0\n",
      "customer_type                     0\n",
      "adr                               0\n",
      "required_car_parking_spaces       0\n",
      "total_of_special_requests         0\n",
      "reservation_status                0\n",
      "reservation_status_date           0\n",
      "dtype: int64\n"
     ]
    }
   ],
   "source": [
    "data_clean(df)"
   ]
  },
  {
   "cell_type": "code",
   "execution_count": 14,
   "id": "leading-processor",
   "metadata": {
    "execution": {
     "iopub.execute_input": "2021-05-17T09:13:05.755658Z",
     "iopub.status.busy": "2021-05-17T09:13:05.754943Z",
     "iopub.status.idle": "2021-05-17T09:13:05.765109Z",
     "shell.execute_reply": "2021-05-17T09:13:05.766006Z"
    },
    "papermill": {
     "duration": 0.078154,
     "end_time": "2021-05-17T09:13:05.766284",
     "exception": false,
     "start_time": "2021-05-17T09:13:05.688130",
     "status": "completed"
    },
    "tags": []
   },
   "outputs": [
    {
     "name": "stdout",
     "output_type": "stream",
     "text": [
      "children has unique values as [ 0.  1.  2. 10.  3.]\n",
      "adults has unique values as [ 2  1  3  4 40 26 50 27 55  0 20  6  5 10]\n",
      "babies has unique values as [ 0  1  2 10  9]\n"
     ]
    }
   ],
   "source": [
    "list=['children','adults','babies']\n",
    "\n",
    "for i in list:\n",
    "    print('{} has unique values as {}'.format(i,df[i].unique()))"
   ]
  },
  {
   "cell_type": "markdown",
   "id": "rural-cause",
   "metadata": {
    "papermill": {
     "duration": 0.063808,
     "end_time": "2021-05-17T09:13:05.892266",
     "exception": false,
     "start_time": "2021-05-17T09:13:05.828458",
     "status": "completed"
    },
    "tags": []
   },
   "source": [
    "#### seems to have some dirtiness in data as Adults,babies & children cant be zero at a same time"
   ]
  },
  {
   "cell_type": "code",
   "execution_count": 15,
   "id": "fleet-mineral",
   "metadata": {
    "execution": {
     "iopub.execute_input": "2021-05-17T09:13:06.021854Z",
     "iopub.status.busy": "2021-05-17T09:13:06.021074Z",
     "iopub.status.idle": "2021-05-17T09:13:06.119815Z",
     "shell.execute_reply": "2021-05-17T09:13:06.119261Z"
    },
    "papermill": {
     "duration": 0.163211,
     "end_time": "2021-05-17T09:13:06.119980",
     "exception": false,
     "start_time": "2021-05-17T09:13:05.956769",
     "status": "completed"
    },
    "tags": []
   },
   "outputs": [
    {
     "data": {
      "text/html": [
       "<div>\n",
       "<style scoped>\n",
       "    .dataframe tbody tr th:only-of-type {\n",
       "        vertical-align: middle;\n",
       "    }\n",
       "\n",
       "    .dataframe tbody tr th {\n",
       "        vertical-align: top;\n",
       "    }\n",
       "\n",
       "    .dataframe thead th {\n",
       "        text-align: right;\n",
       "    }\n",
       "</style>\n",
       "<table border=\"1\" class=\"dataframe\">\n",
       "  <thead>\n",
       "    <tr style=\"text-align: right;\">\n",
       "      <th></th>\n",
       "      <th>hotel</th>\n",
       "      <th>is_canceled</th>\n",
       "      <th>lead_time</th>\n",
       "      <th>arrival_date_year</th>\n",
       "      <th>arrival_date_month</th>\n",
       "      <th>arrival_date_week_number</th>\n",
       "      <th>arrival_date_day_of_month</th>\n",
       "      <th>stays_in_weekend_nights</th>\n",
       "      <th>stays_in_week_nights</th>\n",
       "      <th>adults</th>\n",
       "      <th>...</th>\n",
       "      <th>deposit_type</th>\n",
       "      <th>agent</th>\n",
       "      <th>company</th>\n",
       "      <th>days_in_waiting_list</th>\n",
       "      <th>customer_type</th>\n",
       "      <th>adr</th>\n",
       "      <th>required_car_parking_spaces</th>\n",
       "      <th>total_of_special_requests</th>\n",
       "      <th>reservation_status</th>\n",
       "      <th>reservation_status_date</th>\n",
       "    </tr>\n",
       "  </thead>\n",
       "  <tbody>\n",
       "    <tr>\n",
       "      <th>2224</th>\n",
       "      <td>Resort Hotel</td>\n",
       "      <td>0</td>\n",
       "      <td>1</td>\n",
       "      <td>2015</td>\n",
       "      <td>October</td>\n",
       "      <td>41</td>\n",
       "      <td>6</td>\n",
       "      <td>0</td>\n",
       "      <td>3</td>\n",
       "      <td>0</td>\n",
       "      <td>...</td>\n",
       "      <td>No Deposit</td>\n",
       "      <td>0.0</td>\n",
       "      <td>174.0</td>\n",
       "      <td>0</td>\n",
       "      <td>Transient-Party</td>\n",
       "      <td>0.00</td>\n",
       "      <td>0</td>\n",
       "      <td>0</td>\n",
       "      <td>Check-Out</td>\n",
       "      <td>10/6/2015</td>\n",
       "    </tr>\n",
       "    <tr>\n",
       "      <th>2409</th>\n",
       "      <td>Resort Hotel</td>\n",
       "      <td>0</td>\n",
       "      <td>0</td>\n",
       "      <td>2015</td>\n",
       "      <td>October</td>\n",
       "      <td>42</td>\n",
       "      <td>12</td>\n",
       "      <td>0</td>\n",
       "      <td>0</td>\n",
       "      <td>0</td>\n",
       "      <td>...</td>\n",
       "      <td>No Deposit</td>\n",
       "      <td>0.0</td>\n",
       "      <td>174.0</td>\n",
       "      <td>0</td>\n",
       "      <td>Transient</td>\n",
       "      <td>0.00</td>\n",
       "      <td>0</td>\n",
       "      <td>0</td>\n",
       "      <td>Check-Out</td>\n",
       "      <td>10/12/2015</td>\n",
       "    </tr>\n",
       "    <tr>\n",
       "      <th>3181</th>\n",
       "      <td>Resort Hotel</td>\n",
       "      <td>0</td>\n",
       "      <td>36</td>\n",
       "      <td>2015</td>\n",
       "      <td>November</td>\n",
       "      <td>47</td>\n",
       "      <td>20</td>\n",
       "      <td>1</td>\n",
       "      <td>2</td>\n",
       "      <td>0</td>\n",
       "      <td>...</td>\n",
       "      <td>No Deposit</td>\n",
       "      <td>38.0</td>\n",
       "      <td>0.0</td>\n",
       "      <td>0</td>\n",
       "      <td>Transient-Party</td>\n",
       "      <td>0.00</td>\n",
       "      <td>0</td>\n",
       "      <td>0</td>\n",
       "      <td>Check-Out</td>\n",
       "      <td>11/23/2015</td>\n",
       "    </tr>\n",
       "    <tr>\n",
       "      <th>3684</th>\n",
       "      <td>Resort Hotel</td>\n",
       "      <td>0</td>\n",
       "      <td>165</td>\n",
       "      <td>2015</td>\n",
       "      <td>December</td>\n",
       "      <td>53</td>\n",
       "      <td>30</td>\n",
       "      <td>1</td>\n",
       "      <td>4</td>\n",
       "      <td>0</td>\n",
       "      <td>...</td>\n",
       "      <td>No Deposit</td>\n",
       "      <td>308.0</td>\n",
       "      <td>0.0</td>\n",
       "      <td>122</td>\n",
       "      <td>Transient-Party</td>\n",
       "      <td>0.00</td>\n",
       "      <td>0</td>\n",
       "      <td>0</td>\n",
       "      <td>Check-Out</td>\n",
       "      <td>1/4/2016</td>\n",
       "    </tr>\n",
       "    <tr>\n",
       "      <th>3708</th>\n",
       "      <td>Resort Hotel</td>\n",
       "      <td>0</td>\n",
       "      <td>165</td>\n",
       "      <td>2015</td>\n",
       "      <td>December</td>\n",
       "      <td>53</td>\n",
       "      <td>30</td>\n",
       "      <td>2</td>\n",
       "      <td>4</td>\n",
       "      <td>0</td>\n",
       "      <td>...</td>\n",
       "      <td>No Deposit</td>\n",
       "      <td>308.0</td>\n",
       "      <td>0.0</td>\n",
       "      <td>122</td>\n",
       "      <td>Transient-Party</td>\n",
       "      <td>0.00</td>\n",
       "      <td>0</td>\n",
       "      <td>0</td>\n",
       "      <td>Check-Out</td>\n",
       "      <td>1/5/2016</td>\n",
       "    </tr>\n",
       "    <tr>\n",
       "      <th>...</th>\n",
       "      <td>...</td>\n",
       "      <td>...</td>\n",
       "      <td>...</td>\n",
       "      <td>...</td>\n",
       "      <td>...</td>\n",
       "      <td>...</td>\n",
       "      <td>...</td>\n",
       "      <td>...</td>\n",
       "      <td>...</td>\n",
       "      <td>...</td>\n",
       "      <td>...</td>\n",
       "      <td>...</td>\n",
       "      <td>...</td>\n",
       "      <td>...</td>\n",
       "      <td>...</td>\n",
       "      <td>...</td>\n",
       "      <td>...</td>\n",
       "      <td>...</td>\n",
       "      <td>...</td>\n",
       "      <td>...</td>\n",
       "      <td>...</td>\n",
       "    </tr>\n",
       "    <tr>\n",
       "      <th>115029</th>\n",
       "      <td>City Hotel</td>\n",
       "      <td>0</td>\n",
       "      <td>107</td>\n",
       "      <td>2017</td>\n",
       "      <td>June</td>\n",
       "      <td>26</td>\n",
       "      <td>27</td>\n",
       "      <td>0</td>\n",
       "      <td>3</td>\n",
       "      <td>0</td>\n",
       "      <td>...</td>\n",
       "      <td>No Deposit</td>\n",
       "      <td>7.0</td>\n",
       "      <td>0.0</td>\n",
       "      <td>0</td>\n",
       "      <td>Transient</td>\n",
       "      <td>100.80</td>\n",
       "      <td>0</td>\n",
       "      <td>0</td>\n",
       "      <td>Check-Out</td>\n",
       "      <td>6/30/2017</td>\n",
       "    </tr>\n",
       "    <tr>\n",
       "      <th>115091</th>\n",
       "      <td>City Hotel</td>\n",
       "      <td>0</td>\n",
       "      <td>1</td>\n",
       "      <td>2017</td>\n",
       "      <td>June</td>\n",
       "      <td>26</td>\n",
       "      <td>30</td>\n",
       "      <td>0</td>\n",
       "      <td>1</td>\n",
       "      <td>0</td>\n",
       "      <td>...</td>\n",
       "      <td>No Deposit</td>\n",
       "      <td>0.0</td>\n",
       "      <td>0.0</td>\n",
       "      <td>0</td>\n",
       "      <td>Transient</td>\n",
       "      <td>0.00</td>\n",
       "      <td>1</td>\n",
       "      <td>1</td>\n",
       "      <td>Check-Out</td>\n",
       "      <td>7/1/2017</td>\n",
       "    </tr>\n",
       "    <tr>\n",
       "      <th>116251</th>\n",
       "      <td>City Hotel</td>\n",
       "      <td>0</td>\n",
       "      <td>44</td>\n",
       "      <td>2017</td>\n",
       "      <td>July</td>\n",
       "      <td>28</td>\n",
       "      <td>15</td>\n",
       "      <td>1</td>\n",
       "      <td>1</td>\n",
       "      <td>0</td>\n",
       "      <td>...</td>\n",
       "      <td>No Deposit</td>\n",
       "      <td>425.0</td>\n",
       "      <td>0.0</td>\n",
       "      <td>0</td>\n",
       "      <td>Transient</td>\n",
       "      <td>73.80</td>\n",
       "      <td>0</td>\n",
       "      <td>0</td>\n",
       "      <td>Check-Out</td>\n",
       "      <td>7/17/2017</td>\n",
       "    </tr>\n",
       "    <tr>\n",
       "      <th>116534</th>\n",
       "      <td>City Hotel</td>\n",
       "      <td>0</td>\n",
       "      <td>2</td>\n",
       "      <td>2017</td>\n",
       "      <td>July</td>\n",
       "      <td>28</td>\n",
       "      <td>15</td>\n",
       "      <td>2</td>\n",
       "      <td>5</td>\n",
       "      <td>0</td>\n",
       "      <td>...</td>\n",
       "      <td>No Deposit</td>\n",
       "      <td>9.0</td>\n",
       "      <td>0.0</td>\n",
       "      <td>0</td>\n",
       "      <td>Transient-Party</td>\n",
       "      <td>22.86</td>\n",
       "      <td>0</td>\n",
       "      <td>1</td>\n",
       "      <td>Check-Out</td>\n",
       "      <td>7/22/2017</td>\n",
       "    </tr>\n",
       "    <tr>\n",
       "      <th>117087</th>\n",
       "      <td>City Hotel</td>\n",
       "      <td>0</td>\n",
       "      <td>170</td>\n",
       "      <td>2017</td>\n",
       "      <td>July</td>\n",
       "      <td>30</td>\n",
       "      <td>27</td>\n",
       "      <td>0</td>\n",
       "      <td>2</td>\n",
       "      <td>0</td>\n",
       "      <td>...</td>\n",
       "      <td>No Deposit</td>\n",
       "      <td>52.0</td>\n",
       "      <td>0.0</td>\n",
       "      <td>0</td>\n",
       "      <td>Transient</td>\n",
       "      <td>0.00</td>\n",
       "      <td>0</td>\n",
       "      <td>0</td>\n",
       "      <td>Check-Out</td>\n",
       "      <td>7/29/2017</td>\n",
       "    </tr>\n",
       "  </tbody>\n",
       "</table>\n",
       "<p>180 rows × 32 columns</p>\n",
       "</div>"
      ],
      "text/plain": [
       "               hotel  is_canceled  lead_time  arrival_date_year  \\\n",
       "2224    Resort Hotel            0          1               2015   \n",
       "2409    Resort Hotel            0          0               2015   \n",
       "3181    Resort Hotel            0         36               2015   \n",
       "3684    Resort Hotel            0        165               2015   \n",
       "3708    Resort Hotel            0        165               2015   \n",
       "...              ...          ...        ...                ...   \n",
       "115029    City Hotel            0        107               2017   \n",
       "115091    City Hotel            0          1               2017   \n",
       "116251    City Hotel            0         44               2017   \n",
       "116534    City Hotel            0          2               2017   \n",
       "117087    City Hotel            0        170               2017   \n",
       "\n",
       "       arrival_date_month  arrival_date_week_number  \\\n",
       "2224              October                        41   \n",
       "2409              October                        42   \n",
       "3181             November                        47   \n",
       "3684             December                        53   \n",
       "3708             December                        53   \n",
       "...                   ...                       ...   \n",
       "115029               June                        26   \n",
       "115091               June                        26   \n",
       "116251               July                        28   \n",
       "116534               July                        28   \n",
       "117087               July                        30   \n",
       "\n",
       "        arrival_date_day_of_month  stays_in_weekend_nights  \\\n",
       "2224                            6                        0   \n",
       "2409                           12                        0   \n",
       "3181                           20                        1   \n",
       "3684                           30                        1   \n",
       "3708                           30                        2   \n",
       "...                           ...                      ...   \n",
       "115029                         27                        0   \n",
       "115091                         30                        0   \n",
       "116251                         15                        1   \n",
       "116534                         15                        2   \n",
       "117087                         27                        0   \n",
       "\n",
       "        stays_in_week_nights  adults  ...  deposit_type  agent company  \\\n",
       "2224                       3       0  ...    No Deposit    0.0   174.0   \n",
       "2409                       0       0  ...    No Deposit    0.0   174.0   \n",
       "3181                       2       0  ...    No Deposit   38.0     0.0   \n",
       "3684                       4       0  ...    No Deposit  308.0     0.0   \n",
       "3708                       4       0  ...    No Deposit  308.0     0.0   \n",
       "...                      ...     ...  ...           ...    ...     ...   \n",
       "115029                     3       0  ...    No Deposit    7.0     0.0   \n",
       "115091                     1       0  ...    No Deposit    0.0     0.0   \n",
       "116251                     1       0  ...    No Deposit  425.0     0.0   \n",
       "116534                     5       0  ...    No Deposit    9.0     0.0   \n",
       "117087                     2       0  ...    No Deposit   52.0     0.0   \n",
       "\n",
       "       days_in_waiting_list    customer_type     adr  \\\n",
       "2224                      0  Transient-Party    0.00   \n",
       "2409                      0        Transient    0.00   \n",
       "3181                      0  Transient-Party    0.00   \n",
       "3684                    122  Transient-Party    0.00   \n",
       "3708                    122  Transient-Party    0.00   \n",
       "...                     ...              ...     ...   \n",
       "115029                    0        Transient  100.80   \n",
       "115091                    0        Transient    0.00   \n",
       "116251                    0        Transient   73.80   \n",
       "116534                    0  Transient-Party   22.86   \n",
       "117087                    0        Transient    0.00   \n",
       "\n",
       "        required_car_parking_spaces  total_of_special_requests  \\\n",
       "2224                              0                          0   \n",
       "2409                              0                          0   \n",
       "3181                              0                          0   \n",
       "3684                              0                          0   \n",
       "3708                              0                          0   \n",
       "...                             ...                        ...   \n",
       "115029                            0                          0   \n",
       "115091                            1                          1   \n",
       "116251                            0                          0   \n",
       "116534                            0                          1   \n",
       "117087                            0                          0   \n",
       "\n",
       "        reservation_status reservation_status_date  \n",
       "2224             Check-Out               10/6/2015  \n",
       "2409             Check-Out              10/12/2015  \n",
       "3181             Check-Out              11/23/2015  \n",
       "3684             Check-Out                1/4/2016  \n",
       "3708             Check-Out                1/5/2016  \n",
       "...                    ...                     ...  \n",
       "115029           Check-Out               6/30/2017  \n",
       "115091           Check-Out                7/1/2017  \n",
       "116251           Check-Out               7/17/2017  \n",
       "116534           Check-Out               7/22/2017  \n",
       "117087           Check-Out               7/29/2017  \n",
       "\n",
       "[180 rows x 32 columns]"
      ]
     },
     "execution_count": 15,
     "metadata": {},
     "output_type": "execute_result"
    }
   ],
   "source": [
    "filter=(df['children']==0) & (df['adults']==0) & (df['babies']==0)\n",
    "df[filter]"
   ]
  },
  {
   "cell_type": "code",
   "execution_count": 16,
   "id": "focused-copyright",
   "metadata": {
    "execution": {
     "iopub.execute_input": "2021-05-17T09:13:06.251252Z",
     "iopub.status.busy": "2021-05-17T09:13:06.250582Z",
     "iopub.status.idle": "2021-05-17T09:13:06.283222Z",
     "shell.execute_reply": "2021-05-17T09:13:06.282509Z"
    },
    "papermill": {
     "duration": 0.101047,
     "end_time": "2021-05-17T09:13:06.283397",
     "exception": false,
     "start_time": "2021-05-17T09:13:06.182350",
     "status": "completed"
    },
    "tags": []
   },
   "outputs": [],
   "source": [
    "data=df[~filter]"
   ]
  },
  {
   "cell_type": "code",
   "execution_count": 17,
   "id": "fifty-circular",
   "metadata": {
    "execution": {
     "iopub.execute_input": "2021-05-17T09:13:06.415901Z",
     "iopub.status.busy": "2021-05-17T09:13:06.414984Z",
     "iopub.status.idle": "2021-05-17T09:13:06.418559Z",
     "shell.execute_reply": "2021-05-17T09:13:06.419004Z"
    },
    "papermill": {
     "duration": 0.071759,
     "end_time": "2021-05-17T09:13:06.419210",
     "exception": false,
     "start_time": "2021-05-17T09:13:06.347451",
     "status": "completed"
    },
    "tags": []
   },
   "outputs": [
    {
     "data": {
      "text/plain": [
       "(119210, 32)"
      ]
     },
     "execution_count": 17,
     "metadata": {},
     "output_type": "execute_result"
    }
   ],
   "source": [
    "data.shape"
   ]
  },
  {
   "cell_type": "markdown",
   "id": "acoustic-class",
   "metadata": {
    "papermill": {
     "duration": 0.063412,
     "end_time": "2021-05-17T09:13:06.545735",
     "exception": false,
     "start_time": "2021-05-17T09:13:06.482323",
     "status": "completed"
    },
    "tags": []
   },
   "source": [
    "# Visualization"
   ]
  },
  {
   "cell_type": "code",
   "execution_count": 18,
   "id": "narrow-morning",
   "metadata": {
    "execution": {
     "iopub.execute_input": "2021-05-17T09:13:06.677597Z",
     "iopub.status.busy": "2021-05-17T09:13:06.676554Z",
     "iopub.status.idle": "2021-05-17T09:13:06.858471Z",
     "shell.execute_reply": "2021-05-17T09:13:06.857933Z"
    },
    "papermill": {
     "duration": 0.250144,
     "end_time": "2021-05-17T09:13:06.858634",
     "exception": false,
     "start_time": "2021-05-17T09:13:06.608490",
     "status": "completed"
    },
    "tags": []
   },
   "outputs": [
    {
     "data": {
      "text/plain": [
       "<AxesSubplot:title={'center':'How many people is not canceled?(0=No,1=Yes)'}, xlabel='is_canceled', ylabel='count'>"
      ]
     },
     "execution_count": 18,
     "metadata": {},
     "output_type": "execute_result"
    },
    {
     "data": {
      "image/png": "[encoded data removed]",
      "text/plain": [
       "<Figure size 360x360 with 1 Axes>"
      ]
     },
     "metadata": {
      "needs_background": "light"
     },
     "output_type": "display_data"
    }
   ],
   "source": [
    "plt.figure(figsize=(5,5))\n",
    "plt.title('How many people is not canceled?(0=No,1=Yes)')\n",
    "locs, labels = plt.xticks()\n",
    "sns.countplot(df['is_canceled'])"
   ]
  },
  {
   "cell_type": "code",
   "execution_count": 19,
   "id": "devoted-warren",
   "metadata": {
    "execution": {
     "iopub.execute_input": "2021-05-17T09:13:06.994676Z",
     "iopub.status.busy": "2021-05-17T09:13:06.993656Z",
     "iopub.status.idle": "2021-05-17T09:13:07.001396Z",
     "shell.execute_reply": "2021-05-17T09:13:07.001830Z"
    },
    "papermill": {
     "duration": 0.078343,
     "end_time": "2021-05-17T09:13:07.002058",
     "exception": false,
     "start_time": "2021-05-17T09:13:06.923715",
     "status": "completed"
    },
    "tags": []
   },
   "outputs": [
    {
     "data": {
      "text/plain": [
       "0    75166\n",
       "1    44224\n",
       "Name: is_canceled, dtype: int64"
      ]
     },
     "execution_count": 19,
     "metadata": {},
     "output_type": "execute_result"
    }
   ],
   "source": [
    "df['is_canceled'].value_counts()"
   ]
  },
  {
   "cell_type": "code",
   "execution_count": 20,
   "id": "appointed-accused",
   "metadata": {
    "execution": {
     "iopub.execute_input": "2021-05-17T09:13:07.133382Z",
     "iopub.status.busy": "2021-05-17T09:13:07.132300Z",
     "iopub.status.idle": "2021-05-17T09:13:07.251114Z",
     "shell.execute_reply": "2021-05-17T09:13:07.250453Z"
    },
    "papermill": {
     "duration": 0.185796,
     "end_time": "2021-05-17T09:13:07.251271",
     "exception": false,
     "start_time": "2021-05-17T09:13:07.065475",
     "status": "completed"
    },
    "tags": []
   },
   "outputs": [
    {
     "data": {
      "text/plain": [
       "<AxesSubplot:ylabel='is_canceled'>"
      ]
     },
     "execution_count": 20,
     "metadata": {},
     "output_type": "execute_result"
    },
    {
     "data": {
      "image/png": "[encoded data removed]",
      "text/plain": [
       "<Figure size 432x288 with 1 Axes>"
      ]
     },
     "metadata": {},
     "output_type": "display_data"
    }
   ],
   "source": [
    "df[\"is_canceled\"].value_counts().plot.pie(autopct = \"%1.1f%%\")"
   ]
  },
  {
   "cell_type": "markdown",
   "id": "radio-glance",
   "metadata": {
    "papermill": {
     "duration": 0.064796,
     "end_time": "2021-05-17T09:13:07.380572",
     "exception": false,
     "start_time": "2021-05-17T09:13:07.315776",
     "status": "completed"
    },
    "tags": []
   },
   "source": [
    "##  Where do the guests come from?Lets perform Spatial Analysis"
   ]
  },
  {
   "cell_type": "code",
   "execution_count": 21,
   "id": "compatible-glasgow",
   "metadata": {
    "execution": {
     "iopub.execute_input": "2021-05-17T09:13:07.516892Z",
     "iopub.status.busy": "2021-05-17T09:13:07.516209Z",
     "iopub.status.idle": "2021-05-17T09:13:07.562105Z",
     "shell.execute_reply": "2021-05-17T09:13:07.562607Z"
    },
    "papermill": {
     "duration": 0.117601,
     "end_time": "2021-05-17T09:13:07.562828",
     "exception": false,
     "start_time": "2021-05-17T09:13:07.445227",
     "status": "completed"
    },
    "tags": []
   },
   "outputs": [
    {
     "data": {
      "text/html": [
       "<div>\n",
       "<style scoped>\n",
       "    .dataframe tbody tr th:only-of-type {\n",
       "        vertical-align: middle;\n",
       "    }\n",
       "\n",
       "    .dataframe tbody tr th {\n",
       "        vertical-align: top;\n",
       "    }\n",
       "\n",
       "    .dataframe thead th {\n",
       "        text-align: right;\n",
       "    }\n",
       "</style>\n",
       "<table border=\"1\" class=\"dataframe\">\n",
       "  <thead>\n",
       "    <tr style=\"text-align: right;\">\n",
       "      <th></th>\n",
       "      <th>country</th>\n",
       "      <th>No of guests</th>\n",
       "    </tr>\n",
       "  </thead>\n",
       "  <tbody>\n",
       "    <tr>\n",
       "      <th>0</th>\n",
       "      <td>PRT</td>\n",
       "      <td>20977</td>\n",
       "    </tr>\n",
       "    <tr>\n",
       "      <th>1</th>\n",
       "      <td>GBR</td>\n",
       "      <td>9668</td>\n",
       "    </tr>\n",
       "    <tr>\n",
       "      <th>2</th>\n",
       "      <td>FRA</td>\n",
       "      <td>8468</td>\n",
       "    </tr>\n",
       "    <tr>\n",
       "      <th>3</th>\n",
       "      <td>ESP</td>\n",
       "      <td>6383</td>\n",
       "    </tr>\n",
       "    <tr>\n",
       "      <th>4</th>\n",
       "      <td>DEU</td>\n",
       "      <td>6067</td>\n",
       "    </tr>\n",
       "    <tr>\n",
       "      <th>...</th>\n",
       "      <td>...</td>\n",
       "      <td>...</td>\n",
       "    </tr>\n",
       "    <tr>\n",
       "      <th>161</th>\n",
       "      <td>KIR</td>\n",
       "      <td>1</td>\n",
       "    </tr>\n",
       "    <tr>\n",
       "      <th>162</th>\n",
       "      <td>FRO</td>\n",
       "      <td>1</td>\n",
       "    </tr>\n",
       "    <tr>\n",
       "      <th>163</th>\n",
       "      <td>CYM</td>\n",
       "      <td>1</td>\n",
       "    </tr>\n",
       "    <tr>\n",
       "      <th>164</th>\n",
       "      <td>PLW</td>\n",
       "      <td>1</td>\n",
       "    </tr>\n",
       "    <tr>\n",
       "      <th>165</th>\n",
       "      <td>BFA</td>\n",
       "      <td>1</td>\n",
       "    </tr>\n",
       "  </tbody>\n",
       "</table>\n",
       "<p>166 rows × 2 columns</p>\n",
       "</div>"
      ],
      "text/plain": [
       "    country  No of guests\n",
       "0       PRT         20977\n",
       "1       GBR          9668\n",
       "2       FRA          8468\n",
       "3       ESP          6383\n",
       "4       DEU          6067\n",
       "..      ...           ...\n",
       "161     KIR             1\n",
       "162     FRO             1\n",
       "163     CYM             1\n",
       "164     PLW             1\n",
       "165     BFA             1\n",
       "\n",
       "[166 rows x 2 columns]"
      ]
     },
     "execution_count": 21,
     "metadata": {},
     "output_type": "execute_result"
    }
   ],
   "source": [
    "country_wise_data=data[data['is_canceled']==0]['country'].value_counts().reset_index()\n",
    "country_wise_data.columns=['country','No of guests']\n",
    "country_wise_data"
   ]
  },
  {
   "cell_type": "code",
   "execution_count": 22,
   "id": "completed-artist",
   "metadata": {
    "execution": {
     "iopub.execute_input": "2021-05-17T09:13:07.701317Z",
     "iopub.status.busy": "2021-05-17T09:13:07.700523Z",
     "iopub.status.idle": "2021-05-17T09:13:09.057821Z",
     "shell.execute_reply": "2021-05-17T09:13:09.057198Z"
    },
    "papermill": {
     "duration": 1.428568,
     "end_time": "2021-05-17T09:13:09.057983",
     "exception": false,
     "start_time": "2021-05-17T09:13:07.629415",
     "status": "completed"
    },
    "tags": []
   },
   "outputs": [],
   "source": [
    "import plotly.express as px"
   ]
  },
  {
   "cell_type": "markdown",
   "id": "beneficial-trader",
   "metadata": {
    "papermill": {
     "duration": 0.06623,
     "end_time": "2021-05-17T09:13:09.191751",
     "exception": false,
     "start_time": "2021-05-17T09:13:09.125521",
     "status": "completed"
    },
    "tags": []
   },
   "source": [
    "# show on map\n"
   ]
  },
  {
   "cell_type": "code",
   "execution_count": 23,
   "id": "classical-doubt",
   "metadata": {
    "execution": {
     "iopub.execute_input": "2021-05-17T09:13:09.327567Z",
     "iopub.status.busy": "2021-05-17T09:13:09.326522Z",
     "iopub.status.idle": "2021-05-17T09:13:10.551180Z",
     "shell.execute_reply": "2021-05-17T09:13:10.550617Z"
    },
    "papermill": {
     "duration": 1.293775,
     "end_time": "2021-05-17T09:13:10.551345",
     "exception": false,
     "start_time": "2021-05-17T09:13:09.257570",
     "status": "completed"
    },
    "tags": []
   },
   "outputs": [
    {
     "data": {
      "text/html": [
       "        <script type=\"text/javascript\">\n",
       "        window.PlotlyConfig = {MathJaxConfig: 'local'};\n",
       "        if (window.MathJax) {MathJax.Hub.Config({SVG: {font: \"STIX-Web\"}});}\n",
       "        if (typeof require !== 'undefined') {\n",
       "        require.undef(\"plotly\");\n",
       "        requirejs.config({\n",
       "            paths: {\n",
       "                'plotly': ['https://cdn.plot.ly/plotly-latest.min']\n",
       "            }\n",
       "        });\n",
       "        require(['plotly'], function(Plotly) {\n",
       "            window._Plotly = Plotly;\n",
       "        });\n",
       "        }\n",
       "        </script>\n",
       "        "
      ]
     },
     "metadata": {},
     "output_type": "display_data"
    },
    {
     "data": {
      "text/html": [
       "<div>                            <div id=\"cc3fd247-dd5f-4d9d-b840-7d3614c3ebd7\" class=\"plotly-graph-div\" style=\"height:525px; width:100%;\"></div>            <script type=\"text/javascript\">                require([\"plotly\"], function(Plotly) {                    window.PLOTLYENV=window.PLOTLYENV || {};                                    if (document.getElementById(\"cc3fd247-dd5f-4d9d-b840-7d3614c3ebd7\")) {                    Plotly.newPlot(                        \"cc3fd247-dd5f-4d9d-b840-7d3614c3ebd7\",                        [{\"coloraxis\": \"coloraxis\", \"geo\": \"geo\", \"hovertemplate\": \"<b>%{hovertext}</b><br><br>country=%{location}<br>No of guests=%{z}<extra></extra>\", \"hovertext\": [\"PRT\", \"GBR\", \"FRA\", \"ESP\", \"DEU\", \"IRL\", \"ITA\", \"BEL\", \"NLD\", \"USA\", \"BRA\", \"CHE\", \"AUT\", \"CN\", \"SWE\", \"POL\", \"CHN\", \"ISR\", \"NOR\", 0, \"RUS\", \"FIN\", \"ROU\", \"DNK\", \"AUS\", \"LUX\", \"JPN\", \"ARG\", \"AGO\", \"HUN\", \"MAR\", \"TUR\", \"CZE\", \"IND\", \"SRB\", \"GRC\", \"DZA\", \"KOR\", \"MEX\", \"HRV\", \"LTU\", \"NZL\", \"EST\", \"BGR\", \"IRN\", \"ISL\", \"CHL\", \"ZAF\", \"UKR\", \"COL\", \"MOZ\", \"LVA\", \"SVN\", \"SVK\", \"THA\", \"CYP\", \"TWN\", \"MYS\", \"URY\", \"PER\", \"LBN\", \"SGP\", \"EGY\", \"TUN\", \"ECU\", \"JOR\", \"CRI\", \"BLR\", \"PHL\", \"SAU\", \"VEN\", \"KAZ\", \"OMN\", \"IRQ\", \"MLT\", \"NGA\", \"CPV\", \"IDN\", \"ALB\", \"KWT\", \"CMR\", \"BOL\", \"BIH\", \"PRI\", \"PAN\", \"LBY\", \"MKD\", \"GNB\", \"ARE\", \"CUB\", \"AZE\", \"LKA\", \"GEO\", \"GIB\", \"JAM\", \"MUS\", \"DOM\", \"VNM\", \"ARM\", \"PAK\", \"SUR\", \"CAF\", \"BRB\", \"QAT\", \"KEN\", \"PRY\", \"GTM\", \"CIV\", \"MNE\", \"HKG\", \"SYR\", \"MCO\", \"BGD\", \"SEN\", \"MDV\", \"TMP\", \"LAO\", \"ZWE\", \"STP\", \"TZA\", \"ETH\", \"GHA\", \"COM\", \"ATA\", \"SLV\", \"KNA\", \"ABW\", \"UGA\", \"LIE\", \"TGO\", \"UZB\", \"MWI\", \"RWA\", \"GAB\", \"AND\", \"LCA\", \"NAM\", \"MLI\", \"NPL\", \"TJK\", \"ATF\", \"GUY\", \"BHR\", \"DMA\", \"SYC\", \"SMR\", \"SLE\", \"MAC\", \"NCL\", \"MRT\", \"ZMB\", \"BWA\", \"SDN\", \"ASM\", \"AIA\", \"BDI\", \"MDG\", \"PYF\", \"BHS\", \"MMR\", \"DJI\", \"KIR\", \"FRO\", \"CYM\", \"PLW\", \"BFA\"], \"locations\": [\"PRT\", \"GBR\", \"FRA\", \"ESP\", \"DEU\", \"IRL\", \"ITA\", \"BEL\", \"NLD\", \"USA\", \"BRA\", \"CHE\", \"AUT\", \"CN\", \"SWE\", \"POL\", \"CHN\", \"ISR\", \"NOR\", 0, \"RUS\", \"FIN\", \"ROU\", \"DNK\", \"AUS\", \"LUX\", \"JPN\", \"ARG\", \"AGO\", \"HUN\", \"MAR\", \"TUR\", \"CZE\", \"IND\", \"SRB\", \"GRC\", \"DZA\", \"KOR\", \"MEX\", \"HRV\", \"LTU\", \"NZL\", \"EST\", \"BGR\", \"IRN\", \"ISL\", \"CHL\", \"ZAF\", \"UKR\", \"COL\", \"MOZ\", \"LVA\", \"SVN\", \"SVK\", \"THA\", \"CYP\", \"TWN\", \"MYS\", \"URY\", \"PER\", \"LBN\", \"SGP\", \"EGY\", \"TUN\", \"ECU\", \"JOR\", \"CRI\", \"BLR\", \"PHL\", \"SAU\", \"VEN\", \"KAZ\", \"OMN\", \"IRQ\", \"MLT\", \"NGA\", \"CPV\", \"IDN\", \"ALB\", \"KWT\", \"CMR\", \"BOL\", \"BIH\", \"PRI\", \"PAN\", \"LBY\", \"MKD\", \"GNB\", \"ARE\", \"CUB\", \"AZE\", \"LKA\", \"GEO\", \"GIB\", \"JAM\", \"MUS\", \"DOM\", \"VNM\", \"ARM\", \"PAK\", \"SUR\", \"CAF\", \"BRB\", \"QAT\", \"KEN\", \"PRY\", \"GTM\", \"CIV\", \"MNE\", \"HKG\", \"SYR\", \"MCO\", \"BGD\", \"SEN\", \"MDV\", \"TMP\", \"LAO\", \"ZWE\", \"STP\", \"TZA\", \"ETH\", \"GHA\", \"COM\", \"ATA\", \"SLV\", \"KNA\", \"ABW\", \"UGA\", \"LIE\", \"TGO\", \"UZB\", \"MWI\", \"RWA\", \"GAB\", \"AND\", \"LCA\", \"NAM\", \"MLI\", \"NPL\", \"TJK\", \"ATF\", \"GUY\", \"BHR\", \"DMA\", \"SYC\", \"SMR\", \"SLE\", \"MAC\", \"NCL\", \"MRT\", \"ZMB\", \"BWA\", \"SDN\", \"ASM\", \"AIA\", \"BDI\", \"MDG\", \"PYF\", \"BHS\", \"MMR\", \"DJI\", \"KIR\", \"FRO\", \"CYM\", \"PLW\", \"BFA\"], \"name\": \"\", \"type\": \"choropleth\", \"z\": [20977, 9668, 8468, 6383, 6067, 2542, 2428, 1868, 1716, 1592, 1392, 1298, 1033, 1025, 793, 703, 537, 500, 426, 421, 391, 377, 366, 326, 319, 177, 169, 160, 157, 153, 150, 146, 134, 116, 98, 93, 82, 78, 75, 75, 74, 68, 65, 63, 59, 53, 49, 49, 48, 48, 48, 46, 41, 41, 41, 40, 37, 25, 23, 23, 22, 22, 21, 20, 19, 18, 18, 17, 15, 15, 14, 14, 14, 14, 13, 13, 12, 11, 10, 10, 10, 10, 10, 10, 9, 8, 8, 8, 8, 8, 8, 7, 7, 7, 6, 6, 6, 6, 6, 5, 5, 5, 4, 4, 4, 4, 4, 4, 3, 3, 3, 3, 3, 3, 3, 2, 2, 2, 2, 2, 2, 2, 2, 2, 2, 2, 2, 2, 2, 2, 2, 2, 2, 2, 2, 1, 1, 1, 1, 1, 1, 1, 1, 1, 1, 1, 1, 1, 1, 1, 1, 1, 1, 1, 1, 1, 1, 1, 1, 1, 1, 1, 1, 1, 1, 1]}],                        {\"coloraxis\": {\"colorbar\": {\"title\": {\"text\": \"No of guests\"}}, \"colorscale\": [[0.0, \"#0d0887\"], [0.1111111111111111, \"#46039f\"], [0.2222222222222222, \"#7201a8\"], [0.3333333333333333, \"#9c179e\"], [0.4444444444444444, \"#bd3786\"], [0.5555555555555556, \"#d8576b\"], [0.6666666666666666, \"#ed7953\"], [0.7777777777777778, \"#fb9f3a\"], [0.8888888888888888, \"#fdca26\"], [1.0, \"#f0f921\"]]}, \"geo\": {\"center\": {}, \"domain\": {\"x\": [0.0, 1.0], \"y\": [0.0, 1.0]}}, \"legend\": {\"tracegroupgap\": 0}, \"template\": {\"data\": {\"bar\": [{\"error_x\": {\"color\": \"#2a3f5f\"}, \"error_y\": {\"color\": \"#2a3f5f\"}, \"marker\": {\"line\": {\"color\": \"#E5ECF6\", \"width\": 0.5}}, \"type\": \"bar\"}], \"barpolar\": [{\"marker\": {\"line\": {\"color\": \"#E5ECF6\", \"width\": 0.5}}, \"type\": \"barpolar\"}], \"carpet\": [{\"aaxis\": {\"endlinecolor\": \"#2a3f5f\", \"gridcolor\": \"white\", \"linecolor\": \"white\", \"minorgridcolor\": \"white\", \"startlinecolor\": \"#2a3f5f\"}, \"baxis\": {\"endlinecolor\": \"#2a3f5f\", \"gridcolor\": \"white\", \"linecolor\": \"white\", \"minorgridcolor\": \"white\", \"startlinecolor\": \"#2a3f5f\"}, \"type\": \"carpet\"}], \"choropleth\": [{\"colorbar\": {\"outlinewidth\": 0, \"ticks\": \"\"}, \"type\": \"choropleth\"}], \"contour\": [{\"colorbar\": {\"outlinewidth\": 0, \"ticks\": \"\"}, \"colorscale\": [[0.0, \"#0d0887\"], [0.1111111111111111, \"#46039f\"], [0.2222222222222222, \"#7201a8\"], [0.3333333333333333, \"#9c179e\"], [0.4444444444444444, \"#bd3786\"], [0.5555555555555556, \"#d8576b\"], [0.6666666666666666, \"#ed7953\"], [0.7777777777777778, \"#fb9f3a\"], [0.8888888888888888, \"#fdca26\"], [1.0, \"#f0f921\"]], \"type\": \"contour\"}], \"contourcarpet\": [{\"colorbar\": {\"outlinewidth\": 0, \"ticks\": \"\"}, \"type\": \"contourcarpet\"}], \"heatmap\": [{\"colorbar\": {\"outlinewidth\": 0, \"ticks\": \"\"}, \"colorscale\": [[0.0, \"#0d0887\"], [0.1111111111111111, \"#46039f\"], [0.2222222222222222, \"#7201a8\"], [0.3333333333333333, \"#9c179e\"], [0.4444444444444444, \"#bd3786\"], [0.5555555555555556, \"#d8576b\"], [0.6666666666666666, \"#ed7953\"], [0.7777777777777778, \"#fb9f3a\"], [0.8888888888888888, \"#fdca26\"], [1.0, \"#f0f921\"]], \"type\": \"heatmap\"}], \"heatmapgl\": [{\"colorbar\": {\"outlinewidth\": 0, \"ticks\": \"\"}, \"colorscale\": [[0.0, \"#0d0887\"], [0.1111111111111111, \"#46039f\"], [0.2222222222222222, \"#7201a8\"], [0.3333333333333333, \"#9c179e\"], [0.4444444444444444, \"#bd3786\"], [0.5555555555555556, \"#d8576b\"], [0.6666666666666666, \"#ed7953\"], [0.7777777777777778, \"#fb9f3a\"], [0.8888888888888888, \"#fdca26\"], [1.0, \"#f0f921\"]], \"type\": \"heatmapgl\"}], \"histogram\": [{\"marker\": {\"colorbar\": {\"outlinewidth\": 0, \"ticks\": \"\"}}, \"type\": \"histogram\"}], \"histogram2d\": [{\"colorbar\": {\"outlinewidth\": 0, \"ticks\": \"\"}, \"colorscale\": [[0.0, \"#0d0887\"], [0.1111111111111111, \"#46039f\"], [0.2222222222222222, \"#7201a8\"], [0.3333333333333333, \"#9c179e\"], [0.4444444444444444, \"#bd3786\"], [0.5555555555555556, \"#d8576b\"], [0.6666666666666666, \"#ed7953\"], [0.7777777777777778, \"#fb9f3a\"], [0.8888888888888888, \"#fdca26\"], [1.0, \"#f0f921\"]], \"type\": \"histogram2d\"}], \"histogram2dcontour\": [{\"colorbar\": {\"outlinewidth\": 0, \"ticks\": \"\"}, \"colorscale\": [[0.0, \"#0d0887\"], [0.1111111111111111, \"#46039f\"], [0.2222222222222222, \"#7201a8\"], [0.3333333333333333, \"#9c179e\"], [0.4444444444444444, \"#bd3786\"], [0.5555555555555556, \"#d8576b\"], [0.6666666666666666, \"#ed7953\"], [0.7777777777777778, \"#fb9f3a\"], [0.8888888888888888, \"#fdca26\"], [1.0, \"#f0f921\"]], \"type\": \"histogram2dcontour\"}], \"mesh3d\": [{\"colorbar\": {\"outlinewidth\": 0, \"ticks\": \"\"}, \"type\": \"mesh3d\"}], \"parcoords\": [{\"line\": {\"colorbar\": {\"outlinewidth\": 0, \"ticks\": \"\"}}, \"type\": \"parcoords\"}], \"pie\": [{\"automargin\": true, \"type\": \"pie\"}], \"scatter\": [{\"marker\": {\"colorbar\": {\"outlinewidth\": 0, \"ticks\": \"\"}}, \"type\": \"scatter\"}], \"scatter3d\": [{\"line\": {\"colorbar\": {\"outlinewidth\": 0, \"ticks\": \"\"}}, \"marker\": {\"colorbar\": {\"outlinewidth\": 0, \"ticks\": \"\"}}, \"type\": \"scatter3d\"}], \"scattercarpet\": [{\"marker\": {\"colorbar\": {\"outlinewidth\": 0, \"ticks\": \"\"}}, \"type\": \"scattercarpet\"}], \"scattergeo\": [{\"marker\": {\"colorbar\": {\"outlinewidth\": 0, \"ticks\": \"\"}}, \"type\": \"scattergeo\"}], \"scattergl\": [{\"marker\": {\"colorbar\": {\"outlinewidth\": 0, \"ticks\": \"\"}}, \"type\": \"scattergl\"}], \"scattermapbox\": [{\"marker\": {\"colorbar\": {\"outlinewidth\": 0, \"ticks\": \"\"}}, \"type\": \"scattermapbox\"}], \"scatterpolar\": [{\"marker\": {\"colorbar\": {\"outlinewidth\": 0, \"ticks\": \"\"}}, \"type\": \"scatterpolar\"}], \"scatterpolargl\": [{\"marker\": {\"colorbar\": {\"outlinewidth\": 0, \"ticks\": \"\"}}, \"type\": \"scatterpolargl\"}], \"scatterternary\": [{\"marker\": {\"colorbar\": {\"outlinewidth\": 0, \"ticks\": \"\"}}, \"type\": \"scatterternary\"}], \"surface\": [{\"colorbar\": {\"outlinewidth\": 0, \"ticks\": \"\"}, \"colorscale\": [[0.0, \"#0d0887\"], [0.1111111111111111, \"#46039f\"], [0.2222222222222222, \"#7201a8\"], [0.3333333333333333, \"#9c179e\"], [0.4444444444444444, \"#bd3786\"], [0.5555555555555556, \"#d8576b\"], [0.6666666666666666, \"#ed7953\"], [0.7777777777777778, \"#fb9f3a\"], [0.8888888888888888, \"#fdca26\"], [1.0, \"#f0f921\"]], \"type\": \"surface\"}], \"table\": [{\"cells\": {\"fill\": {\"color\": \"#EBF0F8\"}, \"line\": {\"color\": \"white\"}}, \"header\": {\"fill\": {\"color\": \"#C8D4E3\"}, \"line\": {\"color\": \"white\"}}, \"type\": \"table\"}]}, \"layout\": {\"annotationdefaults\": {\"arrowcolor\": \"#2a3f5f\", \"arrowhead\": 0, \"arrowwidth\": 1}, \"autotypenumbers\": \"strict\", \"coloraxis\": {\"colorbar\": {\"outlinewidth\": 0, \"ticks\": \"\"}}, \"colorscale\": {\"diverging\": [[0, \"#8e0152\"], [0.1, \"#c51b7d\"], [0.2, \"#de77ae\"], [0.3, \"#f1b6da\"], [0.4, \"#fde0ef\"], [0.5, \"#f7f7f7\"], [0.6, \"#e6f5d0\"], [0.7, \"#b8e186\"], [0.8, \"#7fbc41\"], [0.9, \"#4d9221\"], [1, \"#276419\"]], \"sequential\": [[0.0, \"#0d0887\"], [0.1111111111111111, \"#46039f\"], [0.2222222222222222, \"#7201a8\"], [0.3333333333333333, \"#9c179e\"], [0.4444444444444444, \"#bd3786\"], [0.5555555555555556, \"#d8576b\"], [0.6666666666666666, \"#ed7953\"], [0.7777777777777778, \"#fb9f3a\"], [0.8888888888888888, \"#fdca26\"], [1.0, \"#f0f921\"]], \"sequentialminus\": [[0.0, \"#0d0887\"], [0.1111111111111111, \"#46039f\"], [0.2222222222222222, \"#7201a8\"], [0.3333333333333333, \"#9c179e\"], [0.4444444444444444, \"#bd3786\"], [0.5555555555555556, \"#d8576b\"], [0.6666666666666666, \"#ed7953\"], [0.7777777777777778, \"#fb9f3a\"], [0.8888888888888888, \"#fdca26\"], [1.0, \"#f0f921\"]]}, \"colorway\": [\"#636efa\", \"#EF553B\", \"#00cc96\", \"#ab63fa\", \"#FFA15A\", \"#19d3f3\", \"#FF6692\", \"#B6E880\", \"#FF97FF\", \"#FECB52\"], \"font\": {\"color\": \"#2a3f5f\"}, \"geo\": {\"bgcolor\": \"white\", \"lakecolor\": \"white\", \"landcolor\": \"#E5ECF6\", \"showlakes\": true, \"showland\": true, \"subunitcolor\": \"white\"}, \"hoverlabel\": {\"align\": \"left\"}, \"hovermode\": \"closest\", \"mapbox\": {\"style\": \"light\"}, \"paper_bgcolor\": \"white\", \"plot_bgcolor\": \"#E5ECF6\", \"polar\": {\"angularaxis\": {\"gridcolor\": \"white\", \"linecolor\": \"white\", \"ticks\": \"\"}, \"bgcolor\": \"#E5ECF6\", \"radialaxis\": {\"gridcolor\": \"white\", \"linecolor\": \"white\", \"ticks\": \"\"}}, \"scene\": {\"xaxis\": {\"backgroundcolor\": \"#E5ECF6\", \"gridcolor\": \"white\", \"gridwidth\": 2, \"linecolor\": \"white\", \"showbackground\": true, \"ticks\": \"\", \"zerolinecolor\": \"white\"}, \"yaxis\": {\"backgroundcolor\": \"#E5ECF6\", \"gridcolor\": \"white\", \"gridwidth\": 2, \"linecolor\": \"white\", \"showbackground\": true, \"ticks\": \"\", \"zerolinecolor\": \"white\"}, \"zaxis\": {\"backgroundcolor\": \"#E5ECF6\", \"gridcolor\": \"white\", \"gridwidth\": 2, \"linecolor\": \"white\", \"showbackground\": true, \"ticks\": \"\", \"zerolinecolor\": \"white\"}}, \"shapedefaults\": {\"line\": {\"color\": \"#2a3f5f\"}}, \"ternary\": {\"aaxis\": {\"gridcolor\": \"white\", \"linecolor\": \"white\", \"ticks\": \"\"}, \"baxis\": {\"gridcolor\": \"white\", \"linecolor\": \"white\", \"ticks\": \"\"}, \"bgcolor\": \"#E5ECF6\", \"caxis\": {\"gridcolor\": \"white\", \"linecolor\": \"white\", \"ticks\": \"\"}}, \"title\": {\"x\": 0.05}, \"xaxis\": {\"automargin\": true, \"gridcolor\": \"white\", \"linecolor\": \"white\", \"ticks\": \"\", \"title\": {\"standoff\": 15}, \"zerolinecolor\": \"white\", \"zerolinewidth\": 2}, \"yaxis\": {\"automargin\": true, \"gridcolor\": \"white\", \"linecolor\": \"white\", \"ticks\": \"\", \"title\": {\"standoff\": 15}, \"zerolinecolor\": \"white\", \"zerolinewidth\": 2}}}, \"title\": {\"text\": \"Home country of guests\"}},                        {\"responsive\": true}                    ).then(function(){\n",
       "                            \n",
       "var gd = document.getElementById('cc3fd247-dd5f-4d9d-b840-7d3614c3ebd7');\n",
       "var x = new MutationObserver(function (mutations, observer) {{\n",
       "        var display = window.getComputedStyle(gd).display;\n",
       "        if (!display || display === 'none') {{\n",
       "            console.log([gd, 'removed!']);\n",
       "            Plotly.purge(gd);\n",
       "            observer.disconnect();\n",
       "        }}\n",
       "}});\n",
       "\n",
       "// Listen for the removal of the full notebook cells\n",
       "var notebookContainer = gd.closest('#notebook-container');\n",
       "if (notebookContainer) {{\n",
       "    x.observe(notebookContainer, {childList: true});\n",
       "}}\n",
       "\n",
       "// Listen for the clearing of the current output cell\n",
       "var outputEl = gd.closest('.output');\n",
       "if (outputEl) {{\n",
       "    x.observe(outputEl, {childList: true});\n",
       "}}\n",
       "\n",
       "                        })                };                });            </script>        </div>"
      ]
     },
     "metadata": {},
     "output_type": "display_data"
    }
   ],
   "source": [
    "map_guest = px.choropleth(country_wise_data,\n",
    "                    locations=country_wise_data['country'],\n",
    "                    color=country_wise_data['No of guests'], \n",
    "                    hover_name=country_wise_data['country'], \n",
    "                    title=\"Home country of guests\")\n",
    "map_guest.show()"
   ]
  },
  {
   "cell_type": "markdown",
   "id": "cooked-defendant",
   "metadata": {
    "papermill": {
     "duration": 0.06692,
     "end_time": "2021-05-17T09:13:10.686826",
     "exception": false,
     "start_time": "2021-05-17T09:13:10.619906",
     "status": "completed"
    },
    "tags": []
   },
   "source": [
    "####  We notice that People from all over the world are staying in these two hotels. Most guests are from Portugal and other countries in Europe"
   ]
  },
  {
   "cell_type": "markdown",
   "id": "grateful-timer",
   "metadata": {
    "papermill": {
     "duration": 0.068799,
     "end_time": "2021-05-17T09:13:10.822799",
     "exception": false,
     "start_time": "2021-05-17T09:13:10.754000",
     "status": "completed"
    },
    "tags": []
   },
   "source": [
    "## How does the price per night vary over the year?"
   ]
  },
  {
   "cell_type": "code",
   "execution_count": 24,
   "id": "expired-simulation",
   "metadata": {
    "execution": {
     "iopub.execute_input": "2021-05-17T09:13:10.974241Z",
     "iopub.status.busy": "2021-05-17T09:13:10.973458Z",
     "iopub.status.idle": "2021-05-17T09:13:11.011303Z",
     "shell.execute_reply": "2021-05-17T09:13:11.010648Z"
    },
    "papermill": {
     "duration": 0.120608,
     "end_time": "2021-05-17T09:13:11.011493",
     "exception": false,
     "start_time": "2021-05-17T09:13:10.890885",
     "status": "completed"
    },
    "tags": []
   },
   "outputs": [],
   "source": [
    "data_resort = data[(data[\"hotel\"] == \"Resort Hotel\") & (data[\"is_canceled\"] == 0)]\n",
    "data_city = data[(data[\"hotel\"] == \"City Hotel\") & (data[\"is_canceled\"] == 0)]"
   ]
  },
  {
   "cell_type": "code",
   "execution_count": 25,
   "id": "surgical-norwegian",
   "metadata": {
    "execution": {
     "iopub.execute_input": "2021-05-17T09:13:11.165417Z",
     "iopub.status.busy": "2021-05-17T09:13:11.160728Z",
     "iopub.status.idle": "2021-05-17T09:13:11.176913Z",
     "shell.execute_reply": "2021-05-17T09:13:11.176342Z"
    },
    "papermill": {
     "duration": 0.098675,
     "end_time": "2021-05-17T09:13:11.177089",
     "exception": false,
     "start_time": "2021-05-17T09:13:11.078414",
     "status": "completed"
    },
    "tags": []
   },
   "outputs": [
    {
     "data": {
      "text/html": [
       "<div>\n",
       "<style scoped>\n",
       "    .dataframe tbody tr th:only-of-type {\n",
       "        vertical-align: middle;\n",
       "    }\n",
       "\n",
       "    .dataframe tbody tr th {\n",
       "        vertical-align: top;\n",
       "    }\n",
       "\n",
       "    .dataframe thead th {\n",
       "        text-align: right;\n",
       "    }\n",
       "</style>\n",
       "<table border=\"1\" class=\"dataframe\">\n",
       "  <thead>\n",
       "    <tr style=\"text-align: right;\">\n",
       "      <th></th>\n",
       "      <th>hotel</th>\n",
       "      <th>is_canceled</th>\n",
       "      <th>lead_time</th>\n",
       "      <th>arrival_date_year</th>\n",
       "      <th>arrival_date_month</th>\n",
       "      <th>arrival_date_week_number</th>\n",
       "      <th>arrival_date_day_of_month</th>\n",
       "      <th>stays_in_weekend_nights</th>\n",
       "      <th>stays_in_week_nights</th>\n",
       "      <th>adults</th>\n",
       "      <th>...</th>\n",
       "      <th>deposit_type</th>\n",
       "      <th>agent</th>\n",
       "      <th>company</th>\n",
       "      <th>days_in_waiting_list</th>\n",
       "      <th>customer_type</th>\n",
       "      <th>adr</th>\n",
       "      <th>required_car_parking_spaces</th>\n",
       "      <th>total_of_special_requests</th>\n",
       "      <th>reservation_status</th>\n",
       "      <th>reservation_status_date</th>\n",
       "    </tr>\n",
       "  </thead>\n",
       "  <tbody>\n",
       "    <tr>\n",
       "      <th>0</th>\n",
       "      <td>Resort Hotel</td>\n",
       "      <td>0</td>\n",
       "      <td>342</td>\n",
       "      <td>2015</td>\n",
       "      <td>July</td>\n",
       "      <td>27</td>\n",
       "      <td>1</td>\n",
       "      <td>0</td>\n",
       "      <td>0</td>\n",
       "      <td>2</td>\n",
       "      <td>...</td>\n",
       "      <td>No Deposit</td>\n",
       "      <td>0.0</td>\n",
       "      <td>0.0</td>\n",
       "      <td>0</td>\n",
       "      <td>Transient</td>\n",
       "      <td>0.0</td>\n",
       "      <td>0</td>\n",
       "      <td>0</td>\n",
       "      <td>Check-Out</td>\n",
       "      <td>7/1/2015</td>\n",
       "    </tr>\n",
       "    <tr>\n",
       "      <th>1</th>\n",
       "      <td>Resort Hotel</td>\n",
       "      <td>0</td>\n",
       "      <td>737</td>\n",
       "      <td>2015</td>\n",
       "      <td>July</td>\n",
       "      <td>27</td>\n",
       "      <td>1</td>\n",
       "      <td>0</td>\n",
       "      <td>0</td>\n",
       "      <td>2</td>\n",
       "      <td>...</td>\n",
       "      <td>No Deposit</td>\n",
       "      <td>0.0</td>\n",
       "      <td>0.0</td>\n",
       "      <td>0</td>\n",
       "      <td>Transient</td>\n",
       "      <td>0.0</td>\n",
       "      <td>0</td>\n",
       "      <td>0</td>\n",
       "      <td>Check-Out</td>\n",
       "      <td>7/1/2015</td>\n",
       "    </tr>\n",
       "    <tr>\n",
       "      <th>2</th>\n",
       "      <td>Resort Hotel</td>\n",
       "      <td>0</td>\n",
       "      <td>7</td>\n",
       "      <td>2015</td>\n",
       "      <td>July</td>\n",
       "      <td>27</td>\n",
       "      <td>1</td>\n",
       "      <td>0</td>\n",
       "      <td>1</td>\n",
       "      <td>1</td>\n",
       "      <td>...</td>\n",
       "      <td>No Deposit</td>\n",
       "      <td>0.0</td>\n",
       "      <td>0.0</td>\n",
       "      <td>0</td>\n",
       "      <td>Transient</td>\n",
       "      <td>75.0</td>\n",
       "      <td>0</td>\n",
       "      <td>0</td>\n",
       "      <td>Check-Out</td>\n",
       "      <td>7/2/2015</td>\n",
       "    </tr>\n",
       "    <tr>\n",
       "      <th>3</th>\n",
       "      <td>Resort Hotel</td>\n",
       "      <td>0</td>\n",
       "      <td>13</td>\n",
       "      <td>2015</td>\n",
       "      <td>July</td>\n",
       "      <td>27</td>\n",
       "      <td>1</td>\n",
       "      <td>0</td>\n",
       "      <td>1</td>\n",
       "      <td>1</td>\n",
       "      <td>...</td>\n",
       "      <td>No Deposit</td>\n",
       "      <td>304.0</td>\n",
       "      <td>0.0</td>\n",
       "      <td>0</td>\n",
       "      <td>Transient</td>\n",
       "      <td>75.0</td>\n",
       "      <td>0</td>\n",
       "      <td>0</td>\n",
       "      <td>Check-Out</td>\n",
       "      <td>7/2/2015</td>\n",
       "    </tr>\n",
       "    <tr>\n",
       "      <th>4</th>\n",
       "      <td>Resort Hotel</td>\n",
       "      <td>0</td>\n",
       "      <td>14</td>\n",
       "      <td>2015</td>\n",
       "      <td>July</td>\n",
       "      <td>27</td>\n",
       "      <td>1</td>\n",
       "      <td>0</td>\n",
       "      <td>2</td>\n",
       "      <td>2</td>\n",
       "      <td>...</td>\n",
       "      <td>No Deposit</td>\n",
       "      <td>240.0</td>\n",
       "      <td>0.0</td>\n",
       "      <td>0</td>\n",
       "      <td>Transient</td>\n",
       "      <td>98.0</td>\n",
       "      <td>0</td>\n",
       "      <td>1</td>\n",
       "      <td>Check-Out</td>\n",
       "      <td>7/3/2015</td>\n",
       "    </tr>\n",
       "  </tbody>\n",
       "</table>\n",
       "<p>5 rows × 32 columns</p>\n",
       "</div>"
      ],
      "text/plain": [
       "          hotel  is_canceled  lead_time  arrival_date_year arrival_date_month  \\\n",
       "0  Resort Hotel            0        342               2015               July   \n",
       "1  Resort Hotel            0        737               2015               July   \n",
       "2  Resort Hotel            0          7               2015               July   \n",
       "3  Resort Hotel            0         13               2015               July   \n",
       "4  Resort Hotel            0         14               2015               July   \n",
       "\n",
       "   arrival_date_week_number  arrival_date_day_of_month  \\\n",
       "0                        27                          1   \n",
       "1                        27                          1   \n",
       "2                        27                          1   \n",
       "3                        27                          1   \n",
       "4                        27                          1   \n",
       "\n",
       "   stays_in_weekend_nights  stays_in_week_nights  adults  ...  deposit_type  \\\n",
       "0                        0                     0       2  ...    No Deposit   \n",
       "1                        0                     0       2  ...    No Deposit   \n",
       "2                        0                     1       1  ...    No Deposit   \n",
       "3                        0                     1       1  ...    No Deposit   \n",
       "4                        0                     2       2  ...    No Deposit   \n",
       "\n",
       "   agent company days_in_waiting_list customer_type   adr  \\\n",
       "0    0.0     0.0                    0     Transient   0.0   \n",
       "1    0.0     0.0                    0     Transient   0.0   \n",
       "2    0.0     0.0                    0     Transient  75.0   \n",
       "3  304.0     0.0                    0     Transient  75.0   \n",
       "4  240.0     0.0                    0     Transient  98.0   \n",
       "\n",
       "   required_car_parking_spaces  total_of_special_requests  reservation_status  \\\n",
       "0                            0                          0           Check-Out   \n",
       "1                            0                          0           Check-Out   \n",
       "2                            0                          0           Check-Out   \n",
       "3                            0                          0           Check-Out   \n",
       "4                            0                          1           Check-Out   \n",
       "\n",
       "  reservation_status_date  \n",
       "0                7/1/2015  \n",
       "1                7/1/2015  \n",
       "2                7/2/2015  \n",
       "3                7/2/2015  \n",
       "4                7/3/2015  \n",
       "\n",
       "[5 rows x 32 columns]"
      ]
     },
     "execution_count": 25,
     "metadata": {},
     "output_type": "execute_result"
    }
   ],
   "source": [
    "data_resort.head()"
   ]
  },
  {
   "cell_type": "code",
   "execution_count": 26,
   "id": "positive-valley",
   "metadata": {
    "execution": {
     "iopub.execute_input": "2021-05-17T09:13:11.338114Z",
     "iopub.status.busy": "2021-05-17T09:13:11.330977Z",
     "iopub.status.idle": "2021-05-17T09:13:11.342811Z",
     "shell.execute_reply": "2021-05-17T09:13:11.342163Z"
    },
    "papermill": {
     "duration": 0.099006,
     "end_time": "2021-05-17T09:13:11.342974",
     "exception": false,
     "start_time": "2021-05-17T09:13:11.243968",
     "status": "completed"
    },
    "tags": []
   },
   "outputs": [
    {
     "data": {
      "text/html": [
       "<div>\n",
       "<style scoped>\n",
       "    .dataframe tbody tr th:only-of-type {\n",
       "        vertical-align: middle;\n",
       "    }\n",
       "\n",
       "    .dataframe tbody tr th {\n",
       "        vertical-align: top;\n",
       "    }\n",
       "\n",
       "    .dataframe thead th {\n",
       "        text-align: right;\n",
       "    }\n",
       "</style>\n",
       "<table border=\"1\" class=\"dataframe\">\n",
       "  <thead>\n",
       "    <tr style=\"text-align: right;\">\n",
       "      <th></th>\n",
       "      <th>hotel</th>\n",
       "      <th>is_canceled</th>\n",
       "      <th>lead_time</th>\n",
       "      <th>arrival_date_year</th>\n",
       "      <th>arrival_date_month</th>\n",
       "      <th>arrival_date_week_number</th>\n",
       "      <th>arrival_date_day_of_month</th>\n",
       "      <th>stays_in_weekend_nights</th>\n",
       "      <th>stays_in_week_nights</th>\n",
       "      <th>adults</th>\n",
       "      <th>...</th>\n",
       "      <th>deposit_type</th>\n",
       "      <th>agent</th>\n",
       "      <th>company</th>\n",
       "      <th>days_in_waiting_list</th>\n",
       "      <th>customer_type</th>\n",
       "      <th>adr</th>\n",
       "      <th>required_car_parking_spaces</th>\n",
       "      <th>total_of_special_requests</th>\n",
       "      <th>reservation_status</th>\n",
       "      <th>reservation_status_date</th>\n",
       "    </tr>\n",
       "  </thead>\n",
       "  <tbody>\n",
       "    <tr>\n",
       "      <th>40060</th>\n",
       "      <td>City Hotel</td>\n",
       "      <td>0</td>\n",
       "      <td>6</td>\n",
       "      <td>2015</td>\n",
       "      <td>July</td>\n",
       "      <td>27</td>\n",
       "      <td>1</td>\n",
       "      <td>0</td>\n",
       "      <td>2</td>\n",
       "      <td>1</td>\n",
       "      <td>...</td>\n",
       "      <td>No Deposit</td>\n",
       "      <td>6.0</td>\n",
       "      <td>0.0</td>\n",
       "      <td>0</td>\n",
       "      <td>Transient</td>\n",
       "      <td>0.00</td>\n",
       "      <td>0</td>\n",
       "      <td>0</td>\n",
       "      <td>Check-Out</td>\n",
       "      <td>7/3/2015</td>\n",
       "    </tr>\n",
       "    <tr>\n",
       "      <th>40066</th>\n",
       "      <td>City Hotel</td>\n",
       "      <td>0</td>\n",
       "      <td>3</td>\n",
       "      <td>2015</td>\n",
       "      <td>July</td>\n",
       "      <td>27</td>\n",
       "      <td>2</td>\n",
       "      <td>0</td>\n",
       "      <td>3</td>\n",
       "      <td>1</td>\n",
       "      <td>...</td>\n",
       "      <td>No Deposit</td>\n",
       "      <td>1.0</td>\n",
       "      <td>0.0</td>\n",
       "      <td>0</td>\n",
       "      <td>Transient-Party</td>\n",
       "      <td>58.67</td>\n",
       "      <td>0</td>\n",
       "      <td>0</td>\n",
       "      <td>Check-Out</td>\n",
       "      <td>7/5/2015</td>\n",
       "    </tr>\n",
       "    <tr>\n",
       "      <th>40070</th>\n",
       "      <td>City Hotel</td>\n",
       "      <td>0</td>\n",
       "      <td>43</td>\n",
       "      <td>2015</td>\n",
       "      <td>July</td>\n",
       "      <td>27</td>\n",
       "      <td>3</td>\n",
       "      <td>0</td>\n",
       "      <td>2</td>\n",
       "      <td>2</td>\n",
       "      <td>...</td>\n",
       "      <td>No Deposit</td>\n",
       "      <td>1.0</td>\n",
       "      <td>0.0</td>\n",
       "      <td>0</td>\n",
       "      <td>Transient-Party</td>\n",
       "      <td>86.00</td>\n",
       "      <td>0</td>\n",
       "      <td>0</td>\n",
       "      <td>Check-Out</td>\n",
       "      <td>7/5/2015</td>\n",
       "    </tr>\n",
       "    <tr>\n",
       "      <th>40071</th>\n",
       "      <td>City Hotel</td>\n",
       "      <td>0</td>\n",
       "      <td>43</td>\n",
       "      <td>2015</td>\n",
       "      <td>July</td>\n",
       "      <td>27</td>\n",
       "      <td>3</td>\n",
       "      <td>0</td>\n",
       "      <td>2</td>\n",
       "      <td>2</td>\n",
       "      <td>...</td>\n",
       "      <td>No Deposit</td>\n",
       "      <td>1.0</td>\n",
       "      <td>0.0</td>\n",
       "      <td>0</td>\n",
       "      <td>Transient-Party</td>\n",
       "      <td>43.00</td>\n",
       "      <td>0</td>\n",
       "      <td>0</td>\n",
       "      <td>Check-Out</td>\n",
       "      <td>7/5/2015</td>\n",
       "    </tr>\n",
       "    <tr>\n",
       "      <th>40072</th>\n",
       "      <td>City Hotel</td>\n",
       "      <td>0</td>\n",
       "      <td>43</td>\n",
       "      <td>2015</td>\n",
       "      <td>July</td>\n",
       "      <td>27</td>\n",
       "      <td>3</td>\n",
       "      <td>0</td>\n",
       "      <td>2</td>\n",
       "      <td>2</td>\n",
       "      <td>...</td>\n",
       "      <td>No Deposit</td>\n",
       "      <td>1.0</td>\n",
       "      <td>0.0</td>\n",
       "      <td>0</td>\n",
       "      <td>Transient-Party</td>\n",
       "      <td>86.00</td>\n",
       "      <td>0</td>\n",
       "      <td>0</td>\n",
       "      <td>Check-Out</td>\n",
       "      <td>7/5/2015</td>\n",
       "    </tr>\n",
       "  </tbody>\n",
       "</table>\n",
       "<p>5 rows × 32 columns</p>\n",
       "</div>"
      ],
      "text/plain": [
       "            hotel  is_canceled  lead_time  arrival_date_year  \\\n",
       "40060  City Hotel            0          6               2015   \n",
       "40066  City Hotel            0          3               2015   \n",
       "40070  City Hotel            0         43               2015   \n",
       "40071  City Hotel            0         43               2015   \n",
       "40072  City Hotel            0         43               2015   \n",
       "\n",
       "      arrival_date_month  arrival_date_week_number  arrival_date_day_of_month  \\\n",
       "40060               July                        27                          1   \n",
       "40066               July                        27                          2   \n",
       "40070               July                        27                          3   \n",
       "40071               July                        27                          3   \n",
       "40072               July                        27                          3   \n",
       "\n",
       "       stays_in_weekend_nights  stays_in_week_nights  adults  ...  \\\n",
       "40060                        0                     2       1  ...   \n",
       "40066                        0                     3       1  ...   \n",
       "40070                        0                     2       2  ...   \n",
       "40071                        0                     2       2  ...   \n",
       "40072                        0                     2       2  ...   \n",
       "\n",
       "       deposit_type  agent company days_in_waiting_list    customer_type  \\\n",
       "40060    No Deposit    6.0     0.0                    0        Transient   \n",
       "40066    No Deposit    1.0     0.0                    0  Transient-Party   \n",
       "40070    No Deposit    1.0     0.0                    0  Transient-Party   \n",
       "40071    No Deposit    1.0     0.0                    0  Transient-Party   \n",
       "40072    No Deposit    1.0     0.0                    0  Transient-Party   \n",
       "\n",
       "         adr  required_car_parking_spaces  total_of_special_requests  \\\n",
       "40060   0.00                            0                          0   \n",
       "40066  58.67                            0                          0   \n",
       "40070  86.00                            0                          0   \n",
       "40071  43.00                            0                          0   \n",
       "40072  86.00                            0                          0   \n",
       "\n",
       "       reservation_status reservation_status_date  \n",
       "40060           Check-Out                7/3/2015  \n",
       "40066           Check-Out                7/5/2015  \n",
       "40070           Check-Out                7/5/2015  \n",
       "40071           Check-Out                7/5/2015  \n",
       "40072           Check-Out                7/5/2015  \n",
       "\n",
       "[5 rows x 32 columns]"
      ]
     },
     "execution_count": 26,
     "metadata": {},
     "output_type": "execute_result"
    }
   ],
   "source": [
    "data_city.head()"
   ]
  },
  {
   "cell_type": "code",
   "execution_count": 27,
   "id": "fossil-transport",
   "metadata": {
    "execution": {
     "iopub.execute_input": "2021-05-17T09:13:11.492241Z",
     "iopub.status.busy": "2021-05-17T09:13:11.491305Z",
     "iopub.status.idle": "2021-05-17T09:13:11.505253Z",
     "shell.execute_reply": "2021-05-17T09:13:11.504636Z"
    },
    "papermill": {
     "duration": 0.092028,
     "end_time": "2021-05-17T09:13:11.505452",
     "exception": false,
     "start_time": "2021-05-17T09:13:11.413424",
     "status": "completed"
    },
    "tags": []
   },
   "outputs": [
    {
     "data": {
      "text/html": [
       "<div>\n",
       "<style scoped>\n",
       "    .dataframe tbody tr th:only-of-type {\n",
       "        vertical-align: middle;\n",
       "    }\n",
       "\n",
       "    .dataframe tbody tr th {\n",
       "        vertical-align: top;\n",
       "    }\n",
       "\n",
       "    .dataframe thead th {\n",
       "        text-align: right;\n",
       "    }\n",
       "</style>\n",
       "<table border=\"1\" class=\"dataframe\">\n",
       "  <thead>\n",
       "    <tr style=\"text-align: right;\">\n",
       "      <th></th>\n",
       "      <th>arrival_date_month</th>\n",
       "      <th>adr</th>\n",
       "    </tr>\n",
       "  </thead>\n",
       "  <tbody>\n",
       "    <tr>\n",
       "      <th>0</th>\n",
       "      <td>April</td>\n",
       "      <td>75.867816</td>\n",
       "    </tr>\n",
       "    <tr>\n",
       "      <th>1</th>\n",
       "      <td>August</td>\n",
       "      <td>181.205892</td>\n",
       "    </tr>\n",
       "    <tr>\n",
       "      <th>2</th>\n",
       "      <td>December</td>\n",
       "      <td>68.410104</td>\n",
       "    </tr>\n",
       "    <tr>\n",
       "      <th>3</th>\n",
       "      <td>February</td>\n",
       "      <td>54.147478</td>\n",
       "    </tr>\n",
       "    <tr>\n",
       "      <th>4</th>\n",
       "      <td>January</td>\n",
       "      <td>48.761125</td>\n",
       "    </tr>\n",
       "    <tr>\n",
       "      <th>5</th>\n",
       "      <td>July</td>\n",
       "      <td>150.122528</td>\n",
       "    </tr>\n",
       "    <tr>\n",
       "      <th>6</th>\n",
       "      <td>June</td>\n",
       "      <td>107.974850</td>\n",
       "    </tr>\n",
       "    <tr>\n",
       "      <th>7</th>\n",
       "      <td>March</td>\n",
       "      <td>57.056838</td>\n",
       "    </tr>\n",
       "    <tr>\n",
       "      <th>8</th>\n",
       "      <td>May</td>\n",
       "      <td>76.657558</td>\n",
       "    </tr>\n",
       "    <tr>\n",
       "      <th>9</th>\n",
       "      <td>November</td>\n",
       "      <td>48.706289</td>\n",
       "    </tr>\n",
       "    <tr>\n",
       "      <th>10</th>\n",
       "      <td>October</td>\n",
       "      <td>61.775449</td>\n",
       "    </tr>\n",
       "    <tr>\n",
       "      <th>11</th>\n",
       "      <td>September</td>\n",
       "      <td>96.416860</td>\n",
       "    </tr>\n",
       "  </tbody>\n",
       "</table>\n",
       "</div>"
      ],
      "text/plain": [
       "   arrival_date_month         adr\n",
       "0               April   75.867816\n",
       "1              August  181.205892\n",
       "2            December   68.410104\n",
       "3            February   54.147478\n",
       "4             January   48.761125\n",
       "5                July  150.122528\n",
       "6                June  107.974850\n",
       "7               March   57.056838\n",
       "8                 May   76.657558\n",
       "9            November   48.706289\n",
       "10            October   61.775449\n",
       "11          September   96.416860"
      ]
     },
     "execution_count": 27,
     "metadata": {},
     "output_type": "execute_result"
    }
   ],
   "source": [
    "resort_hotel=data_resort.groupby(['arrival_date_month'])['adr'].mean().reset_index()\n",
    "resort_hotel"
   ]
  },
  {
   "cell_type": "code",
   "execution_count": 28,
   "id": "norwegian-auction",
   "metadata": {
    "execution": {
     "iopub.execute_input": "2021-05-17T09:13:11.651310Z",
     "iopub.status.busy": "2021-05-17T09:13:11.650625Z",
     "iopub.status.idle": "2021-05-17T09:13:11.663744Z",
     "shell.execute_reply": "2021-05-17T09:13:11.663154Z"
    },
    "papermill": {
     "duration": 0.089776,
     "end_time": "2021-05-17T09:13:11.663898",
     "exception": false,
     "start_time": "2021-05-17T09:13:11.574122",
     "status": "completed"
    },
    "tags": []
   },
   "outputs": [
    {
     "data": {
      "text/html": [
       "<div>\n",
       "<style scoped>\n",
       "    .dataframe tbody tr th:only-of-type {\n",
       "        vertical-align: middle;\n",
       "    }\n",
       "\n",
       "    .dataframe tbody tr th {\n",
       "        vertical-align: top;\n",
       "    }\n",
       "\n",
       "    .dataframe thead th {\n",
       "        text-align: right;\n",
       "    }\n",
       "</style>\n",
       "<table border=\"1\" class=\"dataframe\">\n",
       "  <thead>\n",
       "    <tr style=\"text-align: right;\">\n",
       "      <th></th>\n",
       "      <th>arrival_date_month</th>\n",
       "      <th>adr</th>\n",
       "    </tr>\n",
       "  </thead>\n",
       "  <tbody>\n",
       "    <tr>\n",
       "      <th>0</th>\n",
       "      <td>April</td>\n",
       "      <td>111.962267</td>\n",
       "    </tr>\n",
       "    <tr>\n",
       "      <th>1</th>\n",
       "      <td>August</td>\n",
       "      <td>118.674598</td>\n",
       "    </tr>\n",
       "    <tr>\n",
       "      <th>2</th>\n",
       "      <td>December</td>\n",
       "      <td>88.401855</td>\n",
       "    </tr>\n",
       "    <tr>\n",
       "      <th>3</th>\n",
       "      <td>February</td>\n",
       "      <td>86.520062</td>\n",
       "    </tr>\n",
       "    <tr>\n",
       "      <th>4</th>\n",
       "      <td>January</td>\n",
       "      <td>82.330983</td>\n",
       "    </tr>\n",
       "    <tr>\n",
       "      <th>5</th>\n",
       "      <td>July</td>\n",
       "      <td>115.818019</td>\n",
       "    </tr>\n",
       "    <tr>\n",
       "      <th>6</th>\n",
       "      <td>June</td>\n",
       "      <td>117.874360</td>\n",
       "    </tr>\n",
       "    <tr>\n",
       "      <th>7</th>\n",
       "      <td>March</td>\n",
       "      <td>90.658533</td>\n",
       "    </tr>\n",
       "    <tr>\n",
       "      <th>8</th>\n",
       "      <td>May</td>\n",
       "      <td>120.669827</td>\n",
       "    </tr>\n",
       "    <tr>\n",
       "      <th>9</th>\n",
       "      <td>November</td>\n",
       "      <td>86.946592</td>\n",
       "    </tr>\n",
       "    <tr>\n",
       "      <th>10</th>\n",
       "      <td>October</td>\n",
       "      <td>102.004672</td>\n",
       "    </tr>\n",
       "    <tr>\n",
       "      <th>11</th>\n",
       "      <td>September</td>\n",
       "      <td>112.776582</td>\n",
       "    </tr>\n",
       "  </tbody>\n",
       "</table>\n",
       "</div>"
      ],
      "text/plain": [
       "   arrival_date_month         adr\n",
       "0               April  111.962267\n",
       "1              August  118.674598\n",
       "2            December   88.401855\n",
       "3            February   86.520062\n",
       "4             January   82.330983\n",
       "5                July  115.818019\n",
       "6                June  117.874360\n",
       "7               March   90.658533\n",
       "8                 May  120.669827\n",
       "9            November   86.946592\n",
       "10            October  102.004672\n",
       "11          September  112.776582"
      ]
     },
     "execution_count": 28,
     "metadata": {},
     "output_type": "execute_result"
    }
   ],
   "source": [
    "city_hotel=data_city.groupby(['arrival_date_month'])['adr'].mean().reset_index()\n",
    "city_hotel"
   ]
  },
  {
   "cell_type": "code",
   "execution_count": 29,
   "id": "supreme-exhaust",
   "metadata": {
    "execution": {
     "iopub.execute_input": "2021-05-17T09:13:11.807535Z",
     "iopub.status.busy": "2021-05-17T09:13:11.806748Z",
     "iopub.status.idle": "2021-05-17T09:13:11.828625Z",
     "shell.execute_reply": "2021-05-17T09:13:11.827895Z"
    },
    "papermill": {
     "duration": 0.095622,
     "end_time": "2021-05-17T09:13:11.828788",
     "exception": false,
     "start_time": "2021-05-17T09:13:11.733166",
     "status": "completed"
    },
    "tags": []
   },
   "outputs": [
    {
     "data": {
      "text/html": [
       "<div>\n",
       "<style scoped>\n",
       "    .dataframe tbody tr th:only-of-type {\n",
       "        vertical-align: middle;\n",
       "    }\n",
       "\n",
       "    .dataframe tbody tr th {\n",
       "        vertical-align: top;\n",
       "    }\n",
       "\n",
       "    .dataframe thead th {\n",
       "        text-align: right;\n",
       "    }\n",
       "</style>\n",
       "<table border=\"1\" class=\"dataframe\">\n",
       "  <thead>\n",
       "    <tr style=\"text-align: right;\">\n",
       "      <th></th>\n",
       "      <th>month</th>\n",
       "      <th>price_for_resort</th>\n",
       "      <th>price_for_city_hotel</th>\n",
       "    </tr>\n",
       "  </thead>\n",
       "  <tbody>\n",
       "    <tr>\n",
       "      <th>0</th>\n",
       "      <td>April</td>\n",
       "      <td>75.867816</td>\n",
       "      <td>111.962267</td>\n",
       "    </tr>\n",
       "    <tr>\n",
       "      <th>1</th>\n",
       "      <td>August</td>\n",
       "      <td>181.205892</td>\n",
       "      <td>118.674598</td>\n",
       "    </tr>\n",
       "    <tr>\n",
       "      <th>2</th>\n",
       "      <td>December</td>\n",
       "      <td>68.410104</td>\n",
       "      <td>88.401855</td>\n",
       "    </tr>\n",
       "    <tr>\n",
       "      <th>3</th>\n",
       "      <td>February</td>\n",
       "      <td>54.147478</td>\n",
       "      <td>86.520062</td>\n",
       "    </tr>\n",
       "    <tr>\n",
       "      <th>4</th>\n",
       "      <td>January</td>\n",
       "      <td>48.761125</td>\n",
       "      <td>82.330983</td>\n",
       "    </tr>\n",
       "    <tr>\n",
       "      <th>5</th>\n",
       "      <td>July</td>\n",
       "      <td>150.122528</td>\n",
       "      <td>115.818019</td>\n",
       "    </tr>\n",
       "    <tr>\n",
       "      <th>6</th>\n",
       "      <td>June</td>\n",
       "      <td>107.974850</td>\n",
       "      <td>117.874360</td>\n",
       "    </tr>\n",
       "    <tr>\n",
       "      <th>7</th>\n",
       "      <td>March</td>\n",
       "      <td>57.056838</td>\n",
       "      <td>90.658533</td>\n",
       "    </tr>\n",
       "    <tr>\n",
       "      <th>8</th>\n",
       "      <td>May</td>\n",
       "      <td>76.657558</td>\n",
       "      <td>120.669827</td>\n",
       "    </tr>\n",
       "    <tr>\n",
       "      <th>9</th>\n",
       "      <td>November</td>\n",
       "      <td>48.706289</td>\n",
       "      <td>86.946592</td>\n",
       "    </tr>\n",
       "    <tr>\n",
       "      <th>10</th>\n",
       "      <td>October</td>\n",
       "      <td>61.775449</td>\n",
       "      <td>102.004672</td>\n",
       "    </tr>\n",
       "    <tr>\n",
       "      <th>11</th>\n",
       "      <td>September</td>\n",
       "      <td>96.416860</td>\n",
       "      <td>112.776582</td>\n",
       "    </tr>\n",
       "  </tbody>\n",
       "</table>\n",
       "</div>"
      ],
      "text/plain": [
       "        month  price_for_resort  price_for_city_hotel\n",
       "0       April         75.867816            111.962267\n",
       "1      August        181.205892            118.674598\n",
       "2    December         68.410104             88.401855\n",
       "3    February         54.147478             86.520062\n",
       "4     January         48.761125             82.330983\n",
       "5        July        150.122528            115.818019\n",
       "6        June        107.974850            117.874360\n",
       "7       March         57.056838             90.658533\n",
       "8         May         76.657558            120.669827\n",
       "9    November         48.706289             86.946592\n",
       "10    October         61.775449            102.004672\n",
       "11  September         96.416860            112.776582"
      ]
     },
     "execution_count": 29,
     "metadata": {},
     "output_type": "execute_result"
    }
   ],
   "source": [
    "final=resort_hotel.merge(city_hotel,on='arrival_date_month')\n",
    "final.columns=['month','price_for_resort','price_for_city_hotel']\n",
    "final"
   ]
  },
  {
   "cell_type": "markdown",
   "id": "incident-control",
   "metadata": {
    "papermill": {
     "duration": 0.068826,
     "end_time": "2021-05-17T09:13:11.968092",
     "exception": false,
     "start_time": "2021-05-17T09:13:11.899266",
     "status": "completed"
    },
    "tags": []
   },
   "source": [
    "### In order to arrange them ascending order in months"
   ]
  },
  {
   "cell_type": "code",
   "execution_count": 30,
   "id": "close-welcome",
   "metadata": {
    "execution": {
     "iopub.execute_input": "2021-05-17T09:13:12.131151Z",
     "iopub.status.busy": "2021-05-17T09:13:12.112515Z",
     "iopub.status.idle": "2021-05-17T09:13:21.417553Z",
     "shell.execute_reply": "2021-05-17T09:13:21.418106Z"
    },
    "papermill": {
     "duration": 9.380169,
     "end_time": "2021-05-17T09:13:21.418315",
     "exception": false,
     "start_time": "2021-05-17T09:13:12.038146",
     "status": "completed"
    },
    "tags": []
   },
   "outputs": [
    {
     "name": "stdout",
     "output_type": "stream",
     "text": [
      "Collecting sort-dataframeby-monthorweek\r\n",
      "  Downloading sort_dataframeby_monthorweek-0.4.tar.gz (2.8 kB)\r\n",
      "Building wheels for collected packages: sort-dataframeby-monthorweek\r\n",
      "  Building wheel for sort-dataframeby-monthorweek (setup.py) ... \u001b[?25l-\b \b\\\b \bdone\r\n",
      "\u001b[?25h  Created wheel for sort-dataframeby-monthorweek: filename=sort_dataframeby_monthorweek-0.4-py3-none-any.whl size=3439 sha256=def6437d851bd25482f7f6950741d5403982597ea05f572f44be5ee93c6dc6ec\r\n",
      "  Stored in directory: /root/.cache/pip/wheels/de/e1/ad/5fe265a9780676079c4b8caaaffaa8d5c4ab2f37cf823e8aa8\r\n",
      "Successfully built sort-dataframeby-monthorweek\r\n",
      "Installing collected packages: sort-dataframeby-monthorweek\r\n",
      "Successfully installed sort-dataframeby-monthorweek-0.4\r\n",
      "Note: you may need to restart the kernel to use updated packages.\n"
     ]
    }
   ],
   "source": [
    "pip install sort-dataframeby-monthorweek"
   ]
  },
  {
   "cell_type": "code",
   "execution_count": 31,
   "id": "ideal-shopper",
   "metadata": {
    "execution": {
     "iopub.execute_input": "2021-05-17T09:13:21.569404Z",
     "iopub.status.busy": "2021-05-17T09:13:21.568655Z",
     "iopub.status.idle": "2021-05-17T09:13:28.919589Z",
     "shell.execute_reply": "2021-05-17T09:13:28.918711Z"
    },
    "papermill": {
     "duration": 7.430032,
     "end_time": "2021-05-17T09:13:28.919760",
     "exception": false,
     "start_time": "2021-05-17T09:13:21.489728",
     "status": "completed"
    },
    "tags": []
   },
   "outputs": [
    {
     "name": "stdout",
     "output_type": "stream",
     "text": [
      "Collecting sorted-months-weekdays\r\n",
      "  Downloading sorted_months_weekdays-0.2.tar.gz (2.7 kB)\r\n",
      "Building wheels for collected packages: sorted-months-weekdays\r\n",
      "  Building wheel for sorted-months-weekdays (setup.py) ... \u001b[?25l-\b \bdone\r\n",
      "\u001b[?25h  Created wheel for sorted-months-weekdays: filename=sorted_months_weekdays-0.2-py3-none-any.whl size=3240 sha256=da4a9c24010cf2539c76c84c56004fa9b8c753bf68157520484f77ad66e7470c\r\n",
      "  Stored in directory: /root/.cache/pip/wheels/4f/4f/78/3f1b8fc72651f7c766a6f73d667fccb12a8aabe240b38df7a4\r\n",
      "Successfully built sorted-months-weekdays\r\n",
      "Installing collected packages: sorted-months-weekdays\r\n",
      "Successfully installed sorted-months-weekdays-0.2\r\n",
      "Note: you may need to restart the kernel to use updated packages.\n"
     ]
    }
   ],
   "source": [
    "pip install sorted-months-weekdays"
   ]
  },
  {
   "cell_type": "code",
   "execution_count": 32,
   "id": "senior-auction",
   "metadata": {
    "execution": {
     "iopub.execute_input": "2021-05-17T09:13:29.078561Z",
     "iopub.status.busy": "2021-05-17T09:13:29.077878Z",
     "iopub.status.idle": "2021-05-17T09:13:29.084726Z",
     "shell.execute_reply": "2021-05-17T09:13:29.084188Z"
    },
    "papermill": {
     "duration": 0.090864,
     "end_time": "2021-05-17T09:13:29.084907",
     "exception": false,
     "start_time": "2021-05-17T09:13:28.994043",
     "status": "completed"
    },
    "tags": []
   },
   "outputs": [],
   "source": [
    "import sort_dataframeby_monthorweek as sd"
   ]
  },
  {
   "cell_type": "code",
   "execution_count": 33,
   "id": "unlike-triangle",
   "metadata": {
    "execution": {
     "iopub.execute_input": "2021-05-17T09:13:29.245364Z",
     "iopub.status.busy": "2021-05-17T09:13:29.244522Z",
     "iopub.status.idle": "2021-05-17T09:13:29.248170Z",
     "shell.execute_reply": "2021-05-17T09:13:29.247602Z"
    },
    "papermill": {
     "duration": 0.083214,
     "end_time": "2021-05-17T09:13:29.248361",
     "exception": false,
     "start_time": "2021-05-17T09:13:29.165147",
     "status": "completed"
    },
    "tags": []
   },
   "outputs": [],
   "source": [
    "def sort_data(df,colname):\n",
    "    return sd.Sort_Dataframeby_Month(df,colname)"
   ]
  },
  {
   "cell_type": "code",
   "execution_count": 34,
   "id": "welsh-spare",
   "metadata": {
    "execution": {
     "iopub.execute_input": "2021-05-17T09:13:29.423524Z",
     "iopub.status.busy": "2021-05-17T09:13:29.422560Z",
     "iopub.status.idle": "2021-05-17T09:13:29.427292Z",
     "shell.execute_reply": "2021-05-17T09:13:29.426739Z"
    },
    "papermill": {
     "duration": 0.103717,
     "end_time": "2021-05-17T09:13:29.427472",
     "exception": false,
     "start_time": "2021-05-17T09:13:29.323755",
     "status": "completed"
    },
    "tags": []
   },
   "outputs": [
    {
     "data": {
      "text/html": [
       "<div>\n",
       "<style scoped>\n",
       "    .dataframe tbody tr th:only-of-type {\n",
       "        vertical-align: middle;\n",
       "    }\n",
       "\n",
       "    .dataframe tbody tr th {\n",
       "        vertical-align: top;\n",
       "    }\n",
       "\n",
       "    .dataframe thead th {\n",
       "        text-align: right;\n",
       "    }\n",
       "</style>\n",
       "<table border=\"1\" class=\"dataframe\">\n",
       "  <thead>\n",
       "    <tr style=\"text-align: right;\">\n",
       "      <th></th>\n",
       "      <th>month</th>\n",
       "      <th>price_for_resort</th>\n",
       "      <th>price_for_city_hotel</th>\n",
       "    </tr>\n",
       "  </thead>\n",
       "  <tbody>\n",
       "    <tr>\n",
       "      <th>0</th>\n",
       "      <td>January</td>\n",
       "      <td>48.761125</td>\n",
       "      <td>82.330983</td>\n",
       "    </tr>\n",
       "    <tr>\n",
       "      <th>1</th>\n",
       "      <td>February</td>\n",
       "      <td>54.147478</td>\n",
       "      <td>86.520062</td>\n",
       "    </tr>\n",
       "    <tr>\n",
       "      <th>2</th>\n",
       "      <td>March</td>\n",
       "      <td>57.056838</td>\n",
       "      <td>90.658533</td>\n",
       "    </tr>\n",
       "    <tr>\n",
       "      <th>3</th>\n",
       "      <td>April</td>\n",
       "      <td>75.867816</td>\n",
       "      <td>111.962267</td>\n",
       "    </tr>\n",
       "    <tr>\n",
       "      <th>4</th>\n",
       "      <td>May</td>\n",
       "      <td>76.657558</td>\n",
       "      <td>120.669827</td>\n",
       "    </tr>\n",
       "    <tr>\n",
       "      <th>5</th>\n",
       "      <td>June</td>\n",
       "      <td>107.974850</td>\n",
       "      <td>117.874360</td>\n",
       "    </tr>\n",
       "    <tr>\n",
       "      <th>6</th>\n",
       "      <td>July</td>\n",
       "      <td>150.122528</td>\n",
       "      <td>115.818019</td>\n",
       "    </tr>\n",
       "    <tr>\n",
       "      <th>7</th>\n",
       "      <td>August</td>\n",
       "      <td>181.205892</td>\n",
       "      <td>118.674598</td>\n",
       "    </tr>\n",
       "    <tr>\n",
       "      <th>8</th>\n",
       "      <td>September</td>\n",
       "      <td>96.416860</td>\n",
       "      <td>112.776582</td>\n",
       "    </tr>\n",
       "    <tr>\n",
       "      <th>9</th>\n",
       "      <td>October</td>\n",
       "      <td>61.775449</td>\n",
       "      <td>102.004672</td>\n",
       "    </tr>\n",
       "    <tr>\n",
       "      <th>10</th>\n",
       "      <td>November</td>\n",
       "      <td>48.706289</td>\n",
       "      <td>86.946592</td>\n",
       "    </tr>\n",
       "    <tr>\n",
       "      <th>11</th>\n",
       "      <td>December</td>\n",
       "      <td>68.410104</td>\n",
       "      <td>88.401855</td>\n",
       "    </tr>\n",
       "  </tbody>\n",
       "</table>\n",
       "</div>"
      ],
      "text/plain": [
       "        month  price_for_resort  price_for_city_hotel\n",
       "0     January         48.761125             82.330983\n",
       "1    February         54.147478             86.520062\n",
       "2       March         57.056838             90.658533\n",
       "3       April         75.867816            111.962267\n",
       "4         May         76.657558            120.669827\n",
       "5        June        107.974850            117.874360\n",
       "6        July        150.122528            115.818019\n",
       "7      August        181.205892            118.674598\n",
       "8   September         96.416860            112.776582\n",
       "9     October         61.775449            102.004672\n",
       "10   November         48.706289             86.946592\n",
       "11   December         68.410104             88.401855"
      ]
     },
     "execution_count": 34,
     "metadata": {},
     "output_type": "execute_result"
    }
   ],
   "source": [
    "final=sort_data(final,'month')\n",
    "final"
   ]
  },
  {
   "cell_type": "code",
   "execution_count": 35,
   "id": "english-struggle",
   "metadata": {
    "execution": {
     "iopub.execute_input": "2021-05-17T09:13:29.580810Z",
     "iopub.status.busy": "2021-05-17T09:13:29.580174Z",
     "iopub.status.idle": "2021-05-17T09:13:29.689527Z",
     "shell.execute_reply": "2021-05-17T09:13:29.688765Z"
    },
    "papermill": {
     "duration": 0.188746,
     "end_time": "2021-05-17T09:13:29.689709",
     "exception": false,
     "start_time": "2021-05-17T09:13:29.500963",
     "status": "completed"
    },
    "tags": []
   },
   "outputs": [
    {
     "data": {
      "text/html": [
       "<div>                            <div id=\"280790e0-7afc-43de-bb99-10f6608da644\" class=\"plotly-graph-div\" style=\"height:525px; width:100%;\"></div>            <script type=\"text/javascript\">                require([\"plotly\"], function(Plotly) {                    window.PLOTLYENV=window.PLOTLYENV || {};                                    if (document.getElementById(\"280790e0-7afc-43de-bb99-10f6608da644\")) {                    Plotly.newPlot(                        \"280790e0-7afc-43de-bb99-10f6608da644\",                        [{\"hovertemplate\": \"variable=price_for_resort<br>month=%{x}<br>value=%{y}<extra></extra>\", \"legendgroup\": \"price_for_resort\", \"line\": {\"color\": \"#636efa\", \"dash\": \"solid\"}, \"mode\": \"lines\", \"name\": \"price_for_resort\", \"orientation\": \"v\", \"showlegend\": true, \"type\": \"scatter\", \"x\": [\"January\", \"February\", \"March\", \"April\", \"May\", \"June\", \"July\", \"August\", \"September\", \"October\", \"November\", \"December\"], \"xaxis\": \"x\", \"y\": [48.76112540192932, 54.14747833622187, 57.056837806301175, 75.86781568627462, 76.65755818540472, 107.97485027000545, 150.12252789289084, 181.205891925084, 96.4168601332064, 61.77544854368931, 48.706288607595184, 68.41010427010937], \"yaxis\": \"y\"}, {\"hovertemplate\": \"variable=price_for_city_hotel<br>month=%{x}<br>value=%{y}<extra></extra>\", \"legendgroup\": \"price_for_city_hotel\", \"line\": {\"color\": \"#EF553B\", \"dash\": \"solid\"}, \"mode\": \"lines\", \"name\": \"price_for_city_hotel\", \"orientation\": \"v\", \"showlegend\": true, \"type\": \"scatter\", \"x\": [\"January\", \"February\", \"March\", \"April\", \"May\", \"June\", \"July\", \"August\", \"September\", \"October\", \"November\", \"December\"], \"xaxis\": \"x\", \"y\": [82.33098265895951, 86.52006227466379, 90.65853297110417, 111.96226683291741, 120.66982705779294, 117.87435979807228, 115.81801886792235, 118.6745984721439, 112.77658183516273, 102.00467175219605, 86.94659192825135, 88.40185527976439], \"yaxis\": \"y\"}],                        {\"legend\": {\"title\": {\"text\": \"variable\"}, \"tracegroupgap\": 0}, \"template\": {\"data\": {\"bar\": [{\"error_x\": {\"color\": \"#2a3f5f\"}, \"error_y\": {\"color\": \"#2a3f5f\"}, \"marker\": {\"line\": {\"color\": \"#E5ECF6\", \"width\": 0.5}}, \"type\": \"bar\"}], \"barpolar\": [{\"marker\": {\"line\": {\"color\": \"#E5ECF6\", \"width\": 0.5}}, \"type\": \"barpolar\"}], \"carpet\": [{\"aaxis\": {\"endlinecolor\": \"#2a3f5f\", \"gridcolor\": \"white\", \"linecolor\": \"white\", \"minorgridcolor\": \"white\", \"startlinecolor\": \"#2a3f5f\"}, \"baxis\": {\"endlinecolor\": \"#2a3f5f\", \"gridcolor\": \"white\", \"linecolor\": \"white\", \"minorgridcolor\": \"white\", \"startlinecolor\": \"#2a3f5f\"}, \"type\": \"carpet\"}], \"choropleth\": [{\"colorbar\": {\"outlinewidth\": 0, \"ticks\": \"\"}, \"type\": \"choropleth\"}], \"contour\": [{\"colorbar\": {\"outlinewidth\": 0, \"ticks\": \"\"}, \"colorscale\": [[0.0, \"#0d0887\"], [0.1111111111111111, \"#46039f\"], [0.2222222222222222, \"#7201a8\"], [0.3333333333333333, \"#9c179e\"], [0.4444444444444444, \"#bd3786\"], [0.5555555555555556, \"#d8576b\"], [0.6666666666666666, \"#ed7953\"], [0.7777777777777778, \"#fb9f3a\"], [0.8888888888888888, \"#fdca26\"], [1.0, \"#f0f921\"]], \"type\": \"contour\"}], \"contourcarpet\": [{\"colorbar\": {\"outlinewidth\": 0, \"ticks\": \"\"}, \"type\": \"contourcarpet\"}], \"heatmap\": [{\"colorbar\": {\"outlinewidth\": 0, \"ticks\": \"\"}, \"colorscale\": [[0.0, \"#0d0887\"], [0.1111111111111111, \"#46039f\"], [0.2222222222222222, \"#7201a8\"], [0.3333333333333333, \"#9c179e\"], [0.4444444444444444, \"#bd3786\"], [0.5555555555555556, \"#d8576b\"], [0.6666666666666666, \"#ed7953\"], [0.7777777777777778, \"#fb9f3a\"], [0.8888888888888888, \"#fdca26\"], [1.0, \"#f0f921\"]], \"type\": \"heatmap\"}], \"heatmapgl\": [{\"colorbar\": {\"outlinewidth\": 0, \"ticks\": \"\"}, \"colorscale\": [[0.0, \"#0d0887\"], [0.1111111111111111, \"#46039f\"], [0.2222222222222222, \"#7201a8\"], [0.3333333333333333, \"#9c179e\"], [0.4444444444444444, \"#bd3786\"], [0.5555555555555556, \"#d8576b\"], [0.6666666666666666, \"#ed7953\"], [0.7777777777777778, \"#fb9f3a\"], [0.8888888888888888, \"#fdca26\"], [1.0, \"#f0f921\"]], \"type\": \"heatmapgl\"}], \"histogram\": [{\"marker\": {\"colorbar\": {\"outlinewidth\": 0, \"ticks\": \"\"}}, \"type\": \"histogram\"}], \"histogram2d\": [{\"colorbar\": {\"outlinewidth\": 0, \"ticks\": \"\"}, \"colorscale\": [[0.0, \"#0d0887\"], [0.1111111111111111, \"#46039f\"], [0.2222222222222222, \"#7201a8\"], [0.3333333333333333, \"#9c179e\"], [0.4444444444444444, \"#bd3786\"], [0.5555555555555556, \"#d8576b\"], [0.6666666666666666, \"#ed7953\"], [0.7777777777777778, \"#fb9f3a\"], [0.8888888888888888, \"#fdca26\"], [1.0, \"#f0f921\"]], \"type\": \"histogram2d\"}], \"histogram2dcontour\": [{\"colorbar\": {\"outlinewidth\": 0, \"ticks\": \"\"}, \"colorscale\": [[0.0, \"#0d0887\"], [0.1111111111111111, \"#46039f\"], [0.2222222222222222, \"#7201a8\"], [0.3333333333333333, \"#9c179e\"], [0.4444444444444444, \"#bd3786\"], [0.5555555555555556, \"#d8576b\"], [0.6666666666666666, \"#ed7953\"], [0.7777777777777778, \"#fb9f3a\"], [0.8888888888888888, \"#fdca26\"], [1.0, \"#f0f921\"]], \"type\": \"histogram2dcontour\"}], \"mesh3d\": [{\"colorbar\": {\"outlinewidth\": 0, \"ticks\": \"\"}, \"type\": \"mesh3d\"}], \"parcoords\": [{\"line\": {\"colorbar\": {\"outlinewidth\": 0, \"ticks\": \"\"}}, \"type\": \"parcoords\"}], \"pie\": [{\"automargin\": true, \"type\": \"pie\"}], \"scatter\": [{\"marker\": {\"colorbar\": {\"outlinewidth\": 0, \"ticks\": \"\"}}, \"type\": \"scatter\"}], \"scatter3d\": [{\"line\": {\"colorbar\": {\"outlinewidth\": 0, \"ticks\": \"\"}}, \"marker\": {\"colorbar\": {\"outlinewidth\": 0, \"ticks\": \"\"}}, \"type\": \"scatter3d\"}], \"scattercarpet\": [{\"marker\": {\"colorbar\": {\"outlinewidth\": 0, \"ticks\": \"\"}}, \"type\": \"scattercarpet\"}], \"scattergeo\": [{\"marker\": {\"colorbar\": {\"outlinewidth\": 0, \"ticks\": \"\"}}, \"type\": \"scattergeo\"}], \"scattergl\": [{\"marker\": {\"colorbar\": {\"outlinewidth\": 0, \"ticks\": \"\"}}, \"type\": \"scattergl\"}], \"scattermapbox\": [{\"marker\": {\"colorbar\": {\"outlinewidth\": 0, \"ticks\": \"\"}}, \"type\": \"scattermapbox\"}], \"scatterpolar\": [{\"marker\": {\"colorbar\": {\"outlinewidth\": 0, \"ticks\": \"\"}}, \"type\": \"scatterpolar\"}], \"scatterpolargl\": [{\"marker\": {\"colorbar\": {\"outlinewidth\": 0, \"ticks\": \"\"}}, \"type\": \"scatterpolargl\"}], \"scatterternary\": [{\"marker\": {\"colorbar\": {\"outlinewidth\": 0, \"ticks\": \"\"}}, \"type\": \"scatterternary\"}], \"surface\": [{\"colorbar\": {\"outlinewidth\": 0, \"ticks\": \"\"}, \"colorscale\": [[0.0, \"#0d0887\"], [0.1111111111111111, \"#46039f\"], [0.2222222222222222, \"#7201a8\"], [0.3333333333333333, \"#9c179e\"], [0.4444444444444444, \"#bd3786\"], [0.5555555555555556, \"#d8576b\"], [0.6666666666666666, \"#ed7953\"], [0.7777777777777778, \"#fb9f3a\"], [0.8888888888888888, \"#fdca26\"], [1.0, \"#f0f921\"]], \"type\": \"surface\"}], \"table\": [{\"cells\": {\"fill\": {\"color\": \"#EBF0F8\"}, \"line\": {\"color\": \"white\"}}, \"header\": {\"fill\": {\"color\": \"#C8D4E3\"}, \"line\": {\"color\": \"white\"}}, \"type\": \"table\"}]}, \"layout\": {\"annotationdefaults\": {\"arrowcolor\": \"#2a3f5f\", \"arrowhead\": 0, \"arrowwidth\": 1}, \"autotypenumbers\": \"strict\", \"coloraxis\": {\"colorbar\": {\"outlinewidth\": 0, \"ticks\": \"\"}}, \"colorscale\": {\"diverging\": [[0, \"#8e0152\"], [0.1, \"#c51b7d\"], [0.2, \"#de77ae\"], [0.3, \"#f1b6da\"], [0.4, \"#fde0ef\"], [0.5, \"#f7f7f7\"], [0.6, \"#e6f5d0\"], [0.7, \"#b8e186\"], [0.8, \"#7fbc41\"], [0.9, \"#4d9221\"], [1, \"#276419\"]], \"sequential\": [[0.0, \"#0d0887\"], [0.1111111111111111, \"#46039f\"], [0.2222222222222222, \"#7201a8\"], [0.3333333333333333, \"#9c179e\"], [0.4444444444444444, \"#bd3786\"], [0.5555555555555556, \"#d8576b\"], [0.6666666666666666, \"#ed7953\"], [0.7777777777777778, \"#fb9f3a\"], [0.8888888888888888, \"#fdca26\"], [1.0, \"#f0f921\"]], \"sequentialminus\": [[0.0, \"#0d0887\"], [0.1111111111111111, \"#46039f\"], [0.2222222222222222, \"#7201a8\"], [0.3333333333333333, \"#9c179e\"], [0.4444444444444444, \"#bd3786\"], [0.5555555555555556, \"#d8576b\"], [0.6666666666666666, \"#ed7953\"], [0.7777777777777778, \"#fb9f3a\"], [0.8888888888888888, \"#fdca26\"], [1.0, \"#f0f921\"]]}, \"colorway\": [\"#636efa\", \"#EF553B\", \"#00cc96\", \"#ab63fa\", \"#FFA15A\", \"#19d3f3\", \"#FF6692\", \"#B6E880\", \"#FF97FF\", \"#FECB52\"], \"font\": {\"color\": \"#2a3f5f\"}, \"geo\": {\"bgcolor\": \"white\", \"lakecolor\": \"white\", \"landcolor\": \"#E5ECF6\", \"showlakes\": true, \"showland\": true, \"subunitcolor\": \"white\"}, \"hoverlabel\": {\"align\": \"left\"}, \"hovermode\": \"closest\", \"mapbox\": {\"style\": \"light\"}, \"paper_bgcolor\": \"white\", \"plot_bgcolor\": \"#E5ECF6\", \"polar\": {\"angularaxis\": {\"gridcolor\": \"white\", \"linecolor\": \"white\", \"ticks\": \"\"}, \"bgcolor\": \"#E5ECF6\", \"radialaxis\": {\"gridcolor\": \"white\", \"linecolor\": \"white\", \"ticks\": \"\"}}, \"scene\": {\"xaxis\": {\"backgroundcolor\": \"#E5ECF6\", \"gridcolor\": \"white\", \"gridwidth\": 2, \"linecolor\": \"white\", \"showbackground\": true, \"ticks\": \"\", \"zerolinecolor\": \"white\"}, \"yaxis\": {\"backgroundcolor\": \"#E5ECF6\", \"gridcolor\": \"white\", \"gridwidth\": 2, \"linecolor\": \"white\", \"showbackground\": true, \"ticks\": \"\", \"zerolinecolor\": \"white\"}, \"zaxis\": {\"backgroundcolor\": \"#E5ECF6\", \"gridcolor\": \"white\", \"gridwidth\": 2, \"linecolor\": \"white\", \"showbackground\": true, \"ticks\": \"\", \"zerolinecolor\": \"white\"}}, \"shapedefaults\": {\"line\": {\"color\": \"#2a3f5f\"}}, \"ternary\": {\"aaxis\": {\"gridcolor\": \"white\", \"linecolor\": \"white\", \"ticks\": \"\"}, \"baxis\": {\"gridcolor\": \"white\", \"linecolor\": \"white\", \"ticks\": \"\"}, \"bgcolor\": \"#E5ECF6\", \"caxis\": {\"gridcolor\": \"white\", \"linecolor\": \"white\", \"ticks\": \"\"}}, \"title\": {\"x\": 0.05}, \"xaxis\": {\"automargin\": true, \"gridcolor\": \"white\", \"linecolor\": \"white\", \"ticks\": \"\", \"title\": {\"standoff\": 15}, \"zerolinecolor\": \"white\", \"zerolinewidth\": 2}, \"yaxis\": {\"automargin\": true, \"gridcolor\": \"white\", \"linecolor\": \"white\", \"ticks\": \"\", \"title\": {\"standoff\": 15}, \"zerolinecolor\": \"white\", \"zerolinewidth\": 2}}}, \"title\": {\"text\": \"Room price per night over the Months\"}, \"xaxis\": {\"anchor\": \"y\", \"domain\": [0.0, 1.0], \"title\": {\"text\": \"month\"}}, \"yaxis\": {\"anchor\": \"x\", \"domain\": [0.0, 1.0], \"title\": {\"text\": \"value\"}}},                        {\"responsive\": true}                    ).then(function(){\n",
       "                            \n",
       "var gd = document.getElementById('280790e0-7afc-43de-bb99-10f6608da644');\n",
       "var x = new MutationObserver(function (mutations, observer) {{\n",
       "        var display = window.getComputedStyle(gd).display;\n",
       "        if (!display || display === 'none') {{\n",
       "            console.log([gd, 'removed!']);\n",
       "            Plotly.purge(gd);\n",
       "            observer.disconnect();\n",
       "        }}\n",
       "}});\n",
       "\n",
       "// Listen for the removal of the full notebook cells\n",
       "var notebookContainer = gd.closest('#notebook-container');\n",
       "if (notebookContainer) {{\n",
       "    x.observe(notebookContainer, {childList: true});\n",
       "}}\n",
       "\n",
       "// Listen for the clearing of the current output cell\n",
       "var outputEl = gd.closest('.output');\n",
       "if (outputEl) {{\n",
       "    x.observe(outputEl, {childList: true});\n",
       "}}\n",
       "\n",
       "                        })                };                });            </script>        </div>"
      ]
     },
     "metadata": {},
     "output_type": "display_data"
    }
   ],
   "source": [
    "px.line(final, x='month', y=['price_for_resort','price_for_city_hotel'], title='Room price per night over the Months')"
   ]
  },
  {
   "cell_type": "markdown",
   "id": "premier-christianity",
   "metadata": {
    "papermill": {
     "duration": 0.074466,
     "end_time": "2021-05-17T09:13:29.841293",
     "exception": false,
     "start_time": "2021-05-17T09:13:29.766827",
     "status": "completed"
    },
    "tags": []
   },
   "source": [
    "### This clearly shows that the prices in the Resort hotel are much higher during the summer (no surprise here).The price of the city hotel varies less and is most expensive during spring and autumn.\n"
   ]
  },
  {
   "cell_type": "markdown",
   "id": "thirty-cotton",
   "metadata": {
    "papermill": {
     "duration": 0.075253,
     "end_time": "2021-05-17T09:13:29.992655",
     "exception": false,
     "start_time": "2021-05-17T09:13:29.917402",
     "status": "completed"
    },
    "tags": []
   },
   "source": [
    "### Select important Features using Co-relation"
   ]
  },
  {
   "cell_type": "code",
   "execution_count": 36,
   "id": "exclusive-billy",
   "metadata": {
    "execution": {
     "iopub.execute_input": "2021-05-17T09:13:30.219562Z",
     "iopub.status.busy": "2021-05-17T09:13:30.218778Z",
     "iopub.status.idle": "2021-05-17T09:13:30.399002Z",
     "shell.execute_reply": "2021-05-17T09:13:30.398409Z"
    },
    "papermill": {
     "duration": 0.328838,
     "end_time": "2021-05-17T09:13:30.399182",
     "exception": false,
     "start_time": "2021-05-17T09:13:30.070344",
     "status": "completed"
    },
    "tags": []
   },
   "outputs": [
    {
     "data": {
      "text/html": [
       "<div>\n",
       "<style scoped>\n",
       "    .dataframe tbody tr th:only-of-type {\n",
       "        vertical-align: middle;\n",
       "    }\n",
       "\n",
       "    .dataframe tbody tr th {\n",
       "        vertical-align: top;\n",
       "    }\n",
       "\n",
       "    .dataframe thead th {\n",
       "        text-align: right;\n",
       "    }\n",
       "</style>\n",
       "<table border=\"1\" class=\"dataframe\">\n",
       "  <thead>\n",
       "    <tr style=\"text-align: right;\">\n",
       "      <th></th>\n",
       "      <th>is_canceled</th>\n",
       "      <th>lead_time</th>\n",
       "      <th>arrival_date_year</th>\n",
       "      <th>arrival_date_week_number</th>\n",
       "      <th>arrival_date_day_of_month</th>\n",
       "      <th>stays_in_weekend_nights</th>\n",
       "      <th>stays_in_week_nights</th>\n",
       "      <th>adults</th>\n",
       "      <th>children</th>\n",
       "      <th>babies</th>\n",
       "      <th>is_repeated_guest</th>\n",
       "      <th>previous_cancellations</th>\n",
       "      <th>previous_bookings_not_canceled</th>\n",
       "      <th>booking_changes</th>\n",
       "      <th>agent</th>\n",
       "      <th>company</th>\n",
       "      <th>days_in_waiting_list</th>\n",
       "      <th>adr</th>\n",
       "      <th>required_car_parking_spaces</th>\n",
       "      <th>total_of_special_requests</th>\n",
       "    </tr>\n",
       "  </thead>\n",
       "  <tbody>\n",
       "    <tr>\n",
       "      <th>is_canceled</th>\n",
       "      <td>1.000000</td>\n",
       "      <td>0.292876</td>\n",
       "      <td>0.016622</td>\n",
       "      <td>0.008315</td>\n",
       "      <td>-0.005948</td>\n",
       "      <td>-0.001323</td>\n",
       "      <td>0.025542</td>\n",
       "      <td>0.058182</td>\n",
       "      <td>0.004851</td>\n",
       "      <td>-0.032569</td>\n",
       "      <td>-0.083745</td>\n",
       "      <td>0.110139</td>\n",
       "      <td>-0.057365</td>\n",
       "      <td>-0.144832</td>\n",
       "      <td>-0.046770</td>\n",
       "      <td>-0.083594</td>\n",
       "      <td>0.054301</td>\n",
       "      <td>0.046492</td>\n",
       "      <td>-0.195701</td>\n",
       "      <td>-0.234877</td>\n",
       "    </tr>\n",
       "    <tr>\n",
       "      <th>lead_time</th>\n",
       "      <td>0.292876</td>\n",
       "      <td>1.000000</td>\n",
       "      <td>0.040334</td>\n",
       "      <td>0.127046</td>\n",
       "      <td>0.002306</td>\n",
       "      <td>0.085985</td>\n",
       "      <td>0.166892</td>\n",
       "      <td>0.117575</td>\n",
       "      <td>-0.037878</td>\n",
       "      <td>-0.021003</td>\n",
       "      <td>-0.123209</td>\n",
       "      <td>0.086025</td>\n",
       "      <td>-0.073599</td>\n",
       "      <td>0.002230</td>\n",
       "      <td>-0.013114</td>\n",
       "      <td>-0.085854</td>\n",
       "      <td>0.170008</td>\n",
       "      <td>-0.065018</td>\n",
       "      <td>-0.116624</td>\n",
       "      <td>-0.095949</td>\n",
       "    </tr>\n",
       "    <tr>\n",
       "      <th>arrival_date_year</th>\n",
       "      <td>0.016622</td>\n",
       "      <td>0.040334</td>\n",
       "      <td>1.000000</td>\n",
       "      <td>-0.540373</td>\n",
       "      <td>-0.000121</td>\n",
       "      <td>0.021694</td>\n",
       "      <td>0.031203</td>\n",
       "      <td>0.030266</td>\n",
       "      <td>0.054710</td>\n",
       "      <td>-0.013192</td>\n",
       "      <td>0.010281</td>\n",
       "      <td>-0.119905</td>\n",
       "      <td>0.029234</td>\n",
       "      <td>0.031416</td>\n",
       "      <td>0.056438</td>\n",
       "      <td>0.033682</td>\n",
       "      <td>-0.056348</td>\n",
       "      <td>0.198429</td>\n",
       "      <td>-0.013812</td>\n",
       "      <td>0.108610</td>\n",
       "    </tr>\n",
       "    <tr>\n",
       "      <th>arrival_date_week_number</th>\n",
       "      <td>0.008315</td>\n",
       "      <td>0.127046</td>\n",
       "      <td>-0.540373</td>\n",
       "      <td>1.000000</td>\n",
       "      <td>0.066572</td>\n",
       "      <td>0.018629</td>\n",
       "      <td>0.016047</td>\n",
       "      <td>0.026567</td>\n",
       "      <td>0.005556</td>\n",
       "      <td>0.010417</td>\n",
       "      <td>-0.031125</td>\n",
       "      <td>0.035493</td>\n",
       "      <td>-0.021009</td>\n",
       "      <td>0.006311</td>\n",
       "      <td>-0.018225</td>\n",
       "      <td>-0.032912</td>\n",
       "      <td>0.022677</td>\n",
       "      <td>0.076281</td>\n",
       "      <td>0.001980</td>\n",
       "      <td>0.026202</td>\n",
       "    </tr>\n",
       "    <tr>\n",
       "      <th>arrival_date_day_of_month</th>\n",
       "      <td>-0.005948</td>\n",
       "      <td>0.002306</td>\n",
       "      <td>-0.000121</td>\n",
       "      <td>0.066572</td>\n",
       "      <td>1.000000</td>\n",
       "      <td>-0.016225</td>\n",
       "      <td>-0.028362</td>\n",
       "      <td>-0.001754</td>\n",
       "      <td>0.014550</td>\n",
       "      <td>-0.000235</td>\n",
       "      <td>-0.006471</td>\n",
       "      <td>-0.027027</td>\n",
       "      <td>-0.000306</td>\n",
       "      <td>0.011266</td>\n",
       "      <td>0.000159</td>\n",
       "      <td>0.003667</td>\n",
       "      <td>0.022532</td>\n",
       "      <td>0.030291</td>\n",
       "      <td>0.008569</td>\n",
       "      <td>0.003026</td>\n",
       "    </tr>\n",
       "    <tr>\n",
       "      <th>stays_in_weekend_nights</th>\n",
       "      <td>-0.001323</td>\n",
       "      <td>0.085985</td>\n",
       "      <td>0.021694</td>\n",
       "      <td>0.018629</td>\n",
       "      <td>-0.016225</td>\n",
       "      <td>1.000000</td>\n",
       "      <td>0.494175</td>\n",
       "      <td>0.094759</td>\n",
       "      <td>0.046135</td>\n",
       "      <td>0.018607</td>\n",
       "      <td>-0.086009</td>\n",
       "      <td>-0.012769</td>\n",
       "      <td>-0.042859</td>\n",
       "      <td>0.050191</td>\n",
       "      <td>0.162411</td>\n",
       "      <td>-0.080783</td>\n",
       "      <td>-0.054399</td>\n",
       "      <td>0.050670</td>\n",
       "      <td>-0.018520</td>\n",
       "      <td>0.073124</td>\n",
       "    </tr>\n",
       "    <tr>\n",
       "      <th>stays_in_week_nights</th>\n",
       "      <td>0.025542</td>\n",
       "      <td>0.166892</td>\n",
       "      <td>0.031203</td>\n",
       "      <td>0.016047</td>\n",
       "      <td>-0.028362</td>\n",
       "      <td>0.494175</td>\n",
       "      <td>1.000000</td>\n",
       "      <td>0.096214</td>\n",
       "      <td>0.044652</td>\n",
       "      <td>0.020373</td>\n",
       "      <td>-0.095302</td>\n",
       "      <td>-0.013976</td>\n",
       "      <td>-0.048873</td>\n",
       "      <td>0.080018</td>\n",
       "      <td>0.196777</td>\n",
       "      <td>-0.044437</td>\n",
       "      <td>-0.002026</td>\n",
       "      <td>0.066847</td>\n",
       "      <td>-0.024933</td>\n",
       "      <td>0.068738</td>\n",
       "    </tr>\n",
       "    <tr>\n",
       "      <th>adults</th>\n",
       "      <td>0.058182</td>\n",
       "      <td>0.117575</td>\n",
       "      <td>0.030266</td>\n",
       "      <td>0.026567</td>\n",
       "      <td>-0.001754</td>\n",
       "      <td>0.094759</td>\n",
       "      <td>0.096214</td>\n",
       "      <td>1.000000</td>\n",
       "      <td>0.029409</td>\n",
       "      <td>0.017890</td>\n",
       "      <td>-0.140973</td>\n",
       "      <td>-0.007070</td>\n",
       "      <td>-0.108856</td>\n",
       "      <td>-0.041472</td>\n",
       "      <td>0.023370</td>\n",
       "      <td>-0.166182</td>\n",
       "      <td>-0.008365</td>\n",
       "      <td>0.224253</td>\n",
       "      <td>0.014438</td>\n",
       "      <td>0.123353</td>\n",
       "    </tr>\n",
       "    <tr>\n",
       "      <th>children</th>\n",
       "      <td>0.004851</td>\n",
       "      <td>-0.037878</td>\n",
       "      <td>0.054710</td>\n",
       "      <td>0.005556</td>\n",
       "      <td>0.014550</td>\n",
       "      <td>0.046135</td>\n",
       "      <td>0.044652</td>\n",
       "      <td>0.029409</td>\n",
       "      <td>1.000000</td>\n",
       "      <td>0.023999</td>\n",
       "      <td>-0.032475</td>\n",
       "      <td>-0.024755</td>\n",
       "      <td>-0.021078</td>\n",
       "      <td>0.051000</td>\n",
       "      <td>0.050461</td>\n",
       "      <td>-0.042554</td>\n",
       "      <td>-0.033293</td>\n",
       "      <td>0.325057</td>\n",
       "      <td>0.056247</td>\n",
       "      <td>0.081747</td>\n",
       "    </tr>\n",
       "    <tr>\n",
       "      <th>babies</th>\n",
       "      <td>-0.032569</td>\n",
       "      <td>-0.021003</td>\n",
       "      <td>-0.013192</td>\n",
       "      <td>0.010417</td>\n",
       "      <td>-0.000235</td>\n",
       "      <td>0.018607</td>\n",
       "      <td>0.020373</td>\n",
       "      <td>0.017890</td>\n",
       "      <td>0.023999</td>\n",
       "      <td>1.000000</td>\n",
       "      <td>-0.008813</td>\n",
       "      <td>-0.007509</td>\n",
       "      <td>-0.006552</td>\n",
       "      <td>0.085605</td>\n",
       "      <td>0.030235</td>\n",
       "      <td>-0.009426</td>\n",
       "      <td>-0.010627</td>\n",
       "      <td>0.029043</td>\n",
       "      <td>0.037389</td>\n",
       "      <td>0.097939</td>\n",
       "    </tr>\n",
       "    <tr>\n",
       "      <th>is_repeated_guest</th>\n",
       "      <td>-0.083745</td>\n",
       "      <td>-0.123209</td>\n",
       "      <td>0.010281</td>\n",
       "      <td>-0.031125</td>\n",
       "      <td>-0.006471</td>\n",
       "      <td>-0.086009</td>\n",
       "      <td>-0.095302</td>\n",
       "      <td>-0.140973</td>\n",
       "      <td>-0.032475</td>\n",
       "      <td>-0.008813</td>\n",
       "      <td>1.000000</td>\n",
       "      <td>0.082740</td>\n",
       "      <td>0.420642</td>\n",
       "      <td>0.013044</td>\n",
       "      <td>-0.051584</td>\n",
       "      <td>0.161871</td>\n",
       "      <td>-0.022057</td>\n",
       "      <td>-0.130807</td>\n",
       "      <td>0.077928</td>\n",
       "      <td>0.012963</td>\n",
       "    </tr>\n",
       "    <tr>\n",
       "      <th>previous_cancellations</th>\n",
       "      <td>0.110139</td>\n",
       "      <td>0.086025</td>\n",
       "      <td>-0.119905</td>\n",
       "      <td>0.035493</td>\n",
       "      <td>-0.027027</td>\n",
       "      <td>-0.012769</td>\n",
       "      <td>-0.013976</td>\n",
       "      <td>-0.007070</td>\n",
       "      <td>-0.024755</td>\n",
       "      <td>-0.007509</td>\n",
       "      <td>0.082740</td>\n",
       "      <td>1.000000</td>\n",
       "      <td>0.152570</td>\n",
       "      <td>-0.027261</td>\n",
       "      <td>-0.018251</td>\n",
       "      <td>-0.001110</td>\n",
       "      <td>0.005941</td>\n",
       "      <td>-0.065974</td>\n",
       "      <td>-0.018540</td>\n",
       "      <td>-0.048488</td>\n",
       "    </tr>\n",
       "    <tr>\n",
       "      <th>previous_bookings_not_canceled</th>\n",
       "      <td>-0.057365</td>\n",
       "      <td>-0.073599</td>\n",
       "      <td>0.029234</td>\n",
       "      <td>-0.021009</td>\n",
       "      <td>-0.000306</td>\n",
       "      <td>-0.042859</td>\n",
       "      <td>-0.048873</td>\n",
       "      <td>-0.108856</td>\n",
       "      <td>-0.021078</td>\n",
       "      <td>-0.006552</td>\n",
       "      <td>0.420642</td>\n",
       "      <td>0.152570</td>\n",
       "      <td>1.000000</td>\n",
       "      <td>0.011963</td>\n",
       "      <td>-0.046348</td>\n",
       "      <td>0.111220</td>\n",
       "      <td>-0.009416</td>\n",
       "      <td>-0.072335</td>\n",
       "      <td>0.047506</td>\n",
       "      <td>0.037775</td>\n",
       "    </tr>\n",
       "    <tr>\n",
       "      <th>booking_changes</th>\n",
       "      <td>-0.144832</td>\n",
       "      <td>0.002230</td>\n",
       "      <td>0.031416</td>\n",
       "      <td>0.006311</td>\n",
       "      <td>0.011266</td>\n",
       "      <td>0.050191</td>\n",
       "      <td>0.080018</td>\n",
       "      <td>-0.041472</td>\n",
       "      <td>0.051000</td>\n",
       "      <td>0.085605</td>\n",
       "      <td>0.013044</td>\n",
       "      <td>-0.027261</td>\n",
       "      <td>0.011963</td>\n",
       "      <td>1.000000</td>\n",
       "      <td>0.038555</td>\n",
       "      <td>0.089768</td>\n",
       "      <td>-0.011916</td>\n",
       "      <td>0.026601</td>\n",
       "      <td>0.067490</td>\n",
       "      <td>0.055003</td>\n",
       "    </tr>\n",
       "    <tr>\n",
       "      <th>agent</th>\n",
       "      <td>-0.046770</td>\n",
       "      <td>-0.013114</td>\n",
       "      <td>0.056438</td>\n",
       "      <td>-0.018225</td>\n",
       "      <td>0.000159</td>\n",
       "      <td>0.162411</td>\n",
       "      <td>0.196777</td>\n",
       "      <td>0.023370</td>\n",
       "      <td>0.050461</td>\n",
       "      <td>0.030235</td>\n",
       "      <td>-0.051584</td>\n",
       "      <td>-0.018251</td>\n",
       "      <td>-0.046348</td>\n",
       "      <td>0.038555</td>\n",
       "      <td>1.000000</td>\n",
       "      <td>-0.121333</td>\n",
       "      <td>-0.041182</td>\n",
       "      <td>0.015711</td>\n",
       "      <td>0.119282</td>\n",
       "      <td>0.060783</td>\n",
       "    </tr>\n",
       "    <tr>\n",
       "      <th>company</th>\n",
       "      <td>-0.083594</td>\n",
       "      <td>-0.085854</td>\n",
       "      <td>0.033682</td>\n",
       "      <td>-0.032912</td>\n",
       "      <td>0.003667</td>\n",
       "      <td>-0.080783</td>\n",
       "      <td>-0.044437</td>\n",
       "      <td>-0.166182</td>\n",
       "      <td>-0.042554</td>\n",
       "      <td>-0.009426</td>\n",
       "      <td>0.161871</td>\n",
       "      <td>-0.001110</td>\n",
       "      <td>0.111220</td>\n",
       "      <td>0.089768</td>\n",
       "      <td>-0.121333</td>\n",
       "      <td>1.000000</td>\n",
       "      <td>-0.022944</td>\n",
       "      <td>-0.127641</td>\n",
       "      <td>0.038638</td>\n",
       "      <td>-0.090790</td>\n",
       "    </tr>\n",
       "    <tr>\n",
       "      <th>days_in_waiting_list</th>\n",
       "      <td>0.054301</td>\n",
       "      <td>0.170008</td>\n",
       "      <td>-0.056348</td>\n",
       "      <td>0.022677</td>\n",
       "      <td>0.022532</td>\n",
       "      <td>-0.054399</td>\n",
       "      <td>-0.002026</td>\n",
       "      <td>-0.008365</td>\n",
       "      <td>-0.033293</td>\n",
       "      <td>-0.010627</td>\n",
       "      <td>-0.022057</td>\n",
       "      <td>0.005941</td>\n",
       "      <td>-0.009416</td>\n",
       "      <td>-0.011916</td>\n",
       "      <td>-0.041182</td>\n",
       "      <td>-0.022944</td>\n",
       "      <td>1.000000</td>\n",
       "      <td>-0.040859</td>\n",
       "      <td>-0.030601</td>\n",
       "      <td>-0.082755</td>\n",
       "    </tr>\n",
       "    <tr>\n",
       "      <th>adr</th>\n",
       "      <td>0.046492</td>\n",
       "      <td>-0.065018</td>\n",
       "      <td>0.198429</td>\n",
       "      <td>0.076281</td>\n",
       "      <td>0.030291</td>\n",
       "      <td>0.050670</td>\n",
       "      <td>0.066847</td>\n",
       "      <td>0.224253</td>\n",
       "      <td>0.325057</td>\n",
       "      <td>0.029043</td>\n",
       "      <td>-0.130807</td>\n",
       "      <td>-0.065974</td>\n",
       "      <td>-0.072335</td>\n",
       "      <td>0.026601</td>\n",
       "      <td>0.015711</td>\n",
       "      <td>-0.127641</td>\n",
       "      <td>-0.040859</td>\n",
       "      <td>1.000000</td>\n",
       "      <td>0.056510</td>\n",
       "      <td>0.172308</td>\n",
       "    </tr>\n",
       "    <tr>\n",
       "      <th>required_car_parking_spaces</th>\n",
       "      <td>-0.195701</td>\n",
       "      <td>-0.116624</td>\n",
       "      <td>-0.013812</td>\n",
       "      <td>0.001980</td>\n",
       "      <td>0.008569</td>\n",
       "      <td>-0.018520</td>\n",
       "      <td>-0.024933</td>\n",
       "      <td>0.014438</td>\n",
       "      <td>0.056247</td>\n",
       "      <td>0.037389</td>\n",
       "      <td>0.077928</td>\n",
       "      <td>-0.018540</td>\n",
       "      <td>0.047506</td>\n",
       "      <td>0.067490</td>\n",
       "      <td>0.119282</td>\n",
       "      <td>0.038638</td>\n",
       "      <td>-0.030601</td>\n",
       "      <td>0.056510</td>\n",
       "      <td>1.000000</td>\n",
       "      <td>0.082718</td>\n",
       "    </tr>\n",
       "    <tr>\n",
       "      <th>total_of_special_requests</th>\n",
       "      <td>-0.234877</td>\n",
       "      <td>-0.095949</td>\n",
       "      <td>0.108610</td>\n",
       "      <td>0.026202</td>\n",
       "      <td>0.003026</td>\n",
       "      <td>0.073124</td>\n",
       "      <td>0.068738</td>\n",
       "      <td>0.123353</td>\n",
       "      <td>0.081747</td>\n",
       "      <td>0.097939</td>\n",
       "      <td>0.012963</td>\n",
       "      <td>-0.048488</td>\n",
       "      <td>0.037775</td>\n",
       "      <td>0.055003</td>\n",
       "      <td>0.060783</td>\n",
       "      <td>-0.090790</td>\n",
       "      <td>-0.082755</td>\n",
       "      <td>0.172308</td>\n",
       "      <td>0.082718</td>\n",
       "      <td>1.000000</td>\n",
       "    </tr>\n",
       "  </tbody>\n",
       "</table>\n",
       "</div>"
      ],
      "text/plain": [
       "                                is_canceled  lead_time  arrival_date_year  \\\n",
       "is_canceled                        1.000000   0.292876           0.016622   \n",
       "lead_time                          0.292876   1.000000           0.040334   \n",
       "arrival_date_year                  0.016622   0.040334           1.000000   \n",
       "arrival_date_week_number           0.008315   0.127046          -0.540373   \n",
       "arrival_date_day_of_month         -0.005948   0.002306          -0.000121   \n",
       "stays_in_weekend_nights           -0.001323   0.085985           0.021694   \n",
       "stays_in_week_nights               0.025542   0.166892           0.031203   \n",
       "adults                             0.058182   0.117575           0.030266   \n",
       "children                           0.004851  -0.037878           0.054710   \n",
       "babies                            -0.032569  -0.021003          -0.013192   \n",
       "is_repeated_guest                 -0.083745  -0.123209           0.010281   \n",
       "previous_cancellations             0.110139   0.086025          -0.119905   \n",
       "previous_bookings_not_canceled    -0.057365  -0.073599           0.029234   \n",
       "booking_changes                   -0.144832   0.002230           0.031416   \n",
       "agent                             -0.046770  -0.013114           0.056438   \n",
       "company                           -0.083594  -0.085854           0.033682   \n",
       "days_in_waiting_list               0.054301   0.170008          -0.056348   \n",
       "adr                                0.046492  -0.065018           0.198429   \n",
       "required_car_parking_spaces       -0.195701  -0.116624          -0.013812   \n",
       "total_of_special_requests         -0.234877  -0.095949           0.108610   \n",
       "\n",
       "                                arrival_date_week_number  \\\n",
       "is_canceled                                     0.008315   \n",
       "lead_time                                       0.127046   \n",
       "arrival_date_year                              -0.540373   \n",
       "arrival_date_week_number                        1.000000   \n",
       "arrival_date_day_of_month                       0.066572   \n",
       "stays_in_weekend_nights                         0.018629   \n",
       "stays_in_week_nights                            0.016047   \n",
       "adults                                          0.026567   \n",
       "children                                        0.005556   \n",
       "babies                                          0.010417   \n",
       "is_repeated_guest                              -0.031125   \n",
       "previous_cancellations                          0.035493   \n",
       "previous_bookings_not_canceled                 -0.021009   \n",
       "booking_changes                                 0.006311   \n",
       "agent                                          -0.018225   \n",
       "company                                        -0.032912   \n",
       "days_in_waiting_list                            0.022677   \n",
       "adr                                             0.076281   \n",
       "required_car_parking_spaces                     0.001980   \n",
       "total_of_special_requests                       0.026202   \n",
       "\n",
       "                                arrival_date_day_of_month  \\\n",
       "is_canceled                                     -0.005948   \n",
       "lead_time                                        0.002306   \n",
       "arrival_date_year                               -0.000121   \n",
       "arrival_date_week_number                         0.066572   \n",
       "arrival_date_day_of_month                        1.000000   \n",
       "stays_in_weekend_nights                         -0.016225   \n",
       "stays_in_week_nights                            -0.028362   \n",
       "adults                                          -0.001754   \n",
       "children                                         0.014550   \n",
       "babies                                          -0.000235   \n",
       "is_repeated_guest                               -0.006471   \n",
       "previous_cancellations                          -0.027027   \n",
       "previous_bookings_not_canceled                  -0.000306   \n",
       "booking_changes                                  0.011266   \n",
       "agent                                            0.000159   \n",
       "company                                          0.003667   \n",
       "days_in_waiting_list                             0.022532   \n",
       "adr                                              0.030291   \n",
       "required_car_parking_spaces                      0.008569   \n",
       "total_of_special_requests                        0.003026   \n",
       "\n",
       "                                stays_in_weekend_nights  stays_in_week_nights  \\\n",
       "is_canceled                                   -0.001323              0.025542   \n",
       "lead_time                                      0.085985              0.166892   \n",
       "arrival_date_year                              0.021694              0.031203   \n",
       "arrival_date_week_number                       0.018629              0.016047   \n",
       "arrival_date_day_of_month                     -0.016225             -0.028362   \n",
       "stays_in_weekend_nights                        1.000000              0.494175   \n",
       "stays_in_week_nights                           0.494175              1.000000   \n",
       "adults                                         0.094759              0.096214   \n",
       "children                                       0.046135              0.044652   \n",
       "babies                                         0.018607              0.020373   \n",
       "is_repeated_guest                             -0.086009             -0.095302   \n",
       "previous_cancellations                        -0.012769             -0.013976   \n",
       "previous_bookings_not_canceled                -0.042859             -0.048873   \n",
       "booking_changes                                0.050191              0.080018   \n",
       "agent                                          0.162411              0.196777   \n",
       "company                                       -0.080783             -0.044437   \n",
       "days_in_waiting_list                          -0.054399             -0.002026   \n",
       "adr                                            0.050670              0.066847   \n",
       "required_car_parking_spaces                   -0.018520             -0.024933   \n",
       "total_of_special_requests                      0.073124              0.068738   \n",
       "\n",
       "                                  adults  children    babies  \\\n",
       "is_canceled                     0.058182  0.004851 -0.032569   \n",
       "lead_time                       0.117575 -0.037878 -0.021003   \n",
       "arrival_date_year               0.030266  0.054710 -0.013192   \n",
       "arrival_date_week_number        0.026567  0.005556  0.010417   \n",
       "arrival_date_day_of_month      -0.001754  0.014550 -0.000235   \n",
       "stays_in_weekend_nights         0.094759  0.046135  0.018607   \n",
       "stays_in_week_nights            0.096214  0.044652  0.020373   \n",
       "adults                          1.000000  0.029409  0.017890   \n",
       "children                        0.029409  1.000000  0.023999   \n",
       "babies                          0.017890  0.023999  1.000000   \n",
       "is_repeated_guest              -0.140973 -0.032475 -0.008813   \n",
       "previous_cancellations         -0.007070 -0.024755 -0.007509   \n",
       "previous_bookings_not_canceled -0.108856 -0.021078 -0.006552   \n",
       "booking_changes                -0.041472  0.051000  0.085605   \n",
       "agent                           0.023370  0.050461  0.030235   \n",
       "company                        -0.166182 -0.042554 -0.009426   \n",
       "days_in_waiting_list           -0.008365 -0.033293 -0.010627   \n",
       "adr                             0.224253  0.325057  0.029043   \n",
       "required_car_parking_spaces     0.014438  0.056247  0.037389   \n",
       "total_of_special_requests       0.123353  0.081747  0.097939   \n",
       "\n",
       "                                is_repeated_guest  previous_cancellations  \\\n",
       "is_canceled                             -0.083745                0.110139   \n",
       "lead_time                               -0.123209                0.086025   \n",
       "arrival_date_year                        0.010281               -0.119905   \n",
       "arrival_date_week_number                -0.031125                0.035493   \n",
       "arrival_date_day_of_month               -0.006471               -0.027027   \n",
       "stays_in_weekend_nights                 -0.086009               -0.012769   \n",
       "stays_in_week_nights                    -0.095302               -0.013976   \n",
       "adults                                  -0.140973               -0.007070   \n",
       "children                                -0.032475               -0.024755   \n",
       "babies                                  -0.008813               -0.007509   \n",
       "is_repeated_guest                        1.000000                0.082740   \n",
       "previous_cancellations                   0.082740                1.000000   \n",
       "previous_bookings_not_canceled           0.420642                0.152570   \n",
       "booking_changes                          0.013044               -0.027261   \n",
       "agent                                   -0.051584               -0.018251   \n",
       "company                                  0.161871               -0.001110   \n",
       "days_in_waiting_list                    -0.022057                0.005941   \n",
       "adr                                     -0.130807               -0.065974   \n",
       "required_car_parking_spaces              0.077928               -0.018540   \n",
       "total_of_special_requests                0.012963               -0.048488   \n",
       "\n",
       "                                previous_bookings_not_canceled  \\\n",
       "is_canceled                                          -0.057365   \n",
       "lead_time                                            -0.073599   \n",
       "arrival_date_year                                     0.029234   \n",
       "arrival_date_week_number                             -0.021009   \n",
       "arrival_date_day_of_month                            -0.000306   \n",
       "stays_in_weekend_nights                              -0.042859   \n",
       "stays_in_week_nights                                 -0.048873   \n",
       "adults                                               -0.108856   \n",
       "children                                             -0.021078   \n",
       "babies                                               -0.006552   \n",
       "is_repeated_guest                                     0.420642   \n",
       "previous_cancellations                                0.152570   \n",
       "previous_bookings_not_canceled                        1.000000   \n",
       "booking_changes                                       0.011963   \n",
       "agent                                                -0.046348   \n",
       "company                                               0.111220   \n",
       "days_in_waiting_list                                 -0.009416   \n",
       "adr                                                  -0.072335   \n",
       "required_car_parking_spaces                           0.047506   \n",
       "total_of_special_requests                             0.037775   \n",
       "\n",
       "                                booking_changes     agent   company  \\\n",
       "is_canceled                           -0.144832 -0.046770 -0.083594   \n",
       "lead_time                              0.002230 -0.013114 -0.085854   \n",
       "arrival_date_year                      0.031416  0.056438  0.033682   \n",
       "arrival_date_week_number               0.006311 -0.018225 -0.032912   \n",
       "arrival_date_day_of_month              0.011266  0.000159  0.003667   \n",
       "stays_in_weekend_nights                0.050191  0.162411 -0.080783   \n",
       "stays_in_week_nights                   0.080018  0.196777 -0.044437   \n",
       "adults                                -0.041472  0.023370 -0.166182   \n",
       "children                               0.051000  0.050461 -0.042554   \n",
       "babies                                 0.085605  0.030235 -0.009426   \n",
       "is_repeated_guest                      0.013044 -0.051584  0.161871   \n",
       "previous_cancellations                -0.027261 -0.018251 -0.001110   \n",
       "previous_bookings_not_canceled         0.011963 -0.046348  0.111220   \n",
       "booking_changes                        1.000000  0.038555  0.089768   \n",
       "agent                                  0.038555  1.000000 -0.121333   \n",
       "company                                0.089768 -0.121333  1.000000   \n",
       "days_in_waiting_list                  -0.011916 -0.041182 -0.022944   \n",
       "adr                                    0.026601  0.015711 -0.127641   \n",
       "required_car_parking_spaces            0.067490  0.119282  0.038638   \n",
       "total_of_special_requests              0.055003  0.060783 -0.090790   \n",
       "\n",
       "                                days_in_waiting_list       adr  \\\n",
       "is_canceled                                 0.054301  0.046492   \n",
       "lead_time                                   0.170008 -0.065018   \n",
       "arrival_date_year                          -0.056348  0.198429   \n",
       "arrival_date_week_number                    0.022677  0.076281   \n",
       "arrival_date_day_of_month                   0.022532  0.030291   \n",
       "stays_in_weekend_nights                    -0.054399  0.050670   \n",
       "stays_in_week_nights                       -0.002026  0.066847   \n",
       "adults                                     -0.008365  0.224253   \n",
       "children                                   -0.033293  0.325057   \n",
       "babies                                     -0.010627  0.029043   \n",
       "is_repeated_guest                          -0.022057 -0.130807   \n",
       "previous_cancellations                      0.005941 -0.065974   \n",
       "previous_bookings_not_canceled             -0.009416 -0.072335   \n",
       "booking_changes                            -0.011916  0.026601   \n",
       "agent                                      -0.041182  0.015711   \n",
       "company                                    -0.022944 -0.127641   \n",
       "days_in_waiting_list                        1.000000 -0.040859   \n",
       "adr                                        -0.040859  1.000000   \n",
       "required_car_parking_spaces                -0.030601  0.056510   \n",
       "total_of_special_requests                  -0.082755  0.172308   \n",
       "\n",
       "                                required_car_parking_spaces  \\\n",
       "is_canceled                                       -0.195701   \n",
       "lead_time                                         -0.116624   \n",
       "arrival_date_year                                 -0.013812   \n",
       "arrival_date_week_number                           0.001980   \n",
       "arrival_date_day_of_month                          0.008569   \n",
       "stays_in_weekend_nights                           -0.018520   \n",
       "stays_in_week_nights                              -0.024933   \n",
       "adults                                             0.014438   \n",
       "children                                           0.056247   \n",
       "babies                                             0.037389   \n",
       "is_repeated_guest                                  0.077928   \n",
       "previous_cancellations                            -0.018540   \n",
       "previous_bookings_not_canceled                     0.047506   \n",
       "booking_changes                                    0.067490   \n",
       "agent                                              0.119282   \n",
       "company                                            0.038638   \n",
       "days_in_waiting_list                              -0.030601   \n",
       "adr                                                0.056510   \n",
       "required_car_parking_spaces                        1.000000   \n",
       "total_of_special_requests                          0.082718   \n",
       "\n",
       "                                total_of_special_requests  \n",
       "is_canceled                                     -0.234877  \n",
       "lead_time                                       -0.095949  \n",
       "arrival_date_year                                0.108610  \n",
       "arrival_date_week_number                         0.026202  \n",
       "arrival_date_day_of_month                        0.003026  \n",
       "stays_in_weekend_nights                          0.073124  \n",
       "stays_in_week_nights                             0.068738  \n",
       "adults                                           0.123353  \n",
       "children                                         0.081747  \n",
       "babies                                           0.097939  \n",
       "is_repeated_guest                                0.012963  \n",
       "previous_cancellations                          -0.048488  \n",
       "previous_bookings_not_canceled                   0.037775  \n",
       "booking_changes                                  0.055003  \n",
       "agent                                            0.060783  \n",
       "company                                         -0.090790  \n",
       "days_in_waiting_list                            -0.082755  \n",
       "adr                                              0.172308  \n",
       "required_car_parking_spaces                      0.082718  \n",
       "total_of_special_requests                        1.000000  "
      ]
     },
     "execution_count": 36,
     "metadata": {},
     "output_type": "execute_result"
    }
   ],
   "source": [
    "corelation=data.corr()\n",
    "corelation"
   ]
  },
  {
   "cell_type": "code",
   "execution_count": 37,
   "id": "metallic-decade",
   "metadata": {
    "execution": {
     "iopub.execute_input": "2021-05-17T09:13:30.558165Z",
     "iopub.status.busy": "2021-05-17T09:13:30.557501Z",
     "iopub.status.idle": "2021-05-17T09:13:32.819954Z",
     "shell.execute_reply": "2021-05-17T09:13:32.820469Z"
    },
    "papermill": {
     "duration": 2.344558,
     "end_time": "2021-05-17T09:13:32.820669",
     "exception": false,
     "start_time": "2021-05-17T09:13:30.476111",
     "status": "completed"
    },
    "tags": []
   },
   "outputs": [
    {
     "data": {
      "text/plain": [
       "<AxesSubplot:>"
      ]
     },
     "execution_count": 37,
     "metadata": {},
     "output_type": "execute_result"
    },
    {
     "data": {
      "image/png": "[encoded data removed]",
      "text/plain": [
       "<Figure size 720x720 with 2 Axes>"
      ]
     },
     "metadata": {
      "needs_background": "light"
     },
     "output_type": "display_data"
    }
   ],
   "source": [
    "m=data.corr()\n",
    "plt.figure(figsize=(10,10))\n",
    "sns.heatmap(m,annot=True,cmap=\"Blues\")"
   ]
  },
  {
   "cell_type": "code",
   "execution_count": 38,
   "id": "convenient-taiwan",
   "metadata": {
    "execution": {
     "iopub.execute_input": "2021-05-17T09:13:33.000733Z",
     "iopub.status.busy": "2021-05-17T09:13:32.999095Z",
     "iopub.status.idle": "2021-05-17T09:13:33.150599Z",
     "shell.execute_reply": "2021-05-17T09:13:33.149856Z"
    },
    "papermill": {
     "duration": 0.245188,
     "end_time": "2021-05-17T09:13:33.150773",
     "exception": false,
     "start_time": "2021-05-17T09:13:32.905585",
     "status": "completed"
    },
    "tags": []
   },
   "outputs": [
    {
     "data": {
      "text/plain": [
       "is_canceled                       1.000000\n",
       "lead_time                         0.292876\n",
       "arrival_date_year                 0.016622\n",
       "arrival_date_week_number          0.008315\n",
       "arrival_date_day_of_month        -0.005948\n",
       "stays_in_weekend_nights          -0.001323\n",
       "stays_in_week_nights              0.025542\n",
       "adults                            0.058182\n",
       "children                          0.004851\n",
       "babies                           -0.032569\n",
       "is_repeated_guest                -0.083745\n",
       "previous_cancellations            0.110139\n",
       "previous_bookings_not_canceled   -0.057365\n",
       "booking_changes                  -0.144832\n",
       "agent                            -0.046770\n",
       "company                          -0.083594\n",
       "days_in_waiting_list              0.054301\n",
       "adr                               0.046492\n",
       "required_car_parking_spaces      -0.195701\n",
       "total_of_special_requests        -0.234877\n",
       "Name: is_canceled, dtype: float64"
      ]
     },
     "execution_count": 38,
     "metadata": {},
     "output_type": "execute_result"
    }
   ],
   "source": [
    "corelation=data.corr()[\"is_canceled\"]\n",
    "corelation"
   ]
  },
  {
   "cell_type": "code",
   "execution_count": 39,
   "id": "union-ferry",
   "metadata": {
    "execution": {
     "iopub.execute_input": "2021-05-17T09:13:33.326943Z",
     "iopub.status.busy": "2021-05-17T09:13:33.325975Z",
     "iopub.status.idle": "2021-05-17T09:13:33.330201Z",
     "shell.execute_reply": "2021-05-17T09:13:33.329606Z"
    },
    "papermill": {
     "duration": 0.095408,
     "end_time": "2021-05-17T09:13:33.330376",
     "exception": false,
     "start_time": "2021-05-17T09:13:33.234968",
     "status": "completed"
    },
    "tags": []
   },
   "outputs": [
    {
     "data": {
      "text/plain": [
       "lead_time                         0.292876\n",
       "total_of_special_requests         0.234877\n",
       "required_car_parking_spaces       0.195701\n",
       "booking_changes                   0.144832\n",
       "previous_cancellations            0.110139\n",
       "is_repeated_guest                 0.083745\n",
       "company                           0.083594\n",
       "adults                            0.058182\n",
       "previous_bookings_not_canceled    0.057365\n",
       "days_in_waiting_list              0.054301\n",
       "agent                             0.046770\n",
       "adr                               0.046492\n",
       "babies                            0.032569\n",
       "stays_in_week_nights              0.025542\n",
       "arrival_date_year                 0.016622\n",
       "arrival_date_week_number          0.008315\n",
       "arrival_date_day_of_month         0.005948\n",
       "children                          0.004851\n",
       "stays_in_weekend_nights           0.001323\n",
       "Name: is_canceled, dtype: float64"
      ]
     },
     "execution_count": 39,
     "metadata": {},
     "output_type": "execute_result"
    }
   ],
   "source": [
    "corelation.abs().sort_values(ascending=False)[1:]"
   ]
  },
  {
   "cell_type": "code",
   "execution_count": 40,
   "id": "outside-borough",
   "metadata": {
    "execution": {
     "iopub.execute_input": "2021-05-17T09:13:33.512419Z",
     "iopub.status.busy": "2021-05-17T09:13:33.511433Z",
     "iopub.status.idle": "2021-05-17T09:13:33.517117Z",
     "shell.execute_reply": "2021-05-17T09:13:33.516356Z"
    },
    "papermill": {
     "duration": 0.09694,
     "end_time": "2021-05-17T09:13:33.517300",
     "exception": false,
     "start_time": "2021-05-17T09:13:33.420360",
     "status": "completed"
    },
    "tags": []
   },
   "outputs": [
    {
     "data": {
      "text/plain": [
       "Index(['hotel', 'is_canceled', 'lead_time', 'arrival_date_year',\n",
       "       'arrival_date_month', 'arrival_date_week_number',\n",
       "       'arrival_date_day_of_month', 'stays_in_weekend_nights',\n",
       "       'stays_in_week_nights', 'adults', 'children', 'babies', 'meal',\n",
       "       'country', 'market_segment', 'distribution_channel',\n",
       "       'is_repeated_guest', 'previous_cancellations',\n",
       "       'previous_bookings_not_canceled', 'reserved_room_type',\n",
       "       'assigned_room_type', 'booking_changes', 'deposit_type', 'agent',\n",
       "       'company', 'days_in_waiting_list', 'customer_type', 'adr',\n",
       "       'required_car_parking_spaces', 'total_of_special_requests',\n",
       "       'reservation_status', 'reservation_status_date'],\n",
       "      dtype='object')"
      ]
     },
     "execution_count": 40,
     "metadata": {},
     "output_type": "execute_result"
    }
   ],
   "source": [
    "data.columns"
   ]
  },
  {
   "cell_type": "markdown",
   "id": "signal-forest",
   "metadata": {
    "papermill": {
     "duration": 0.085087,
     "end_time": "2021-05-17T09:13:33.694141",
     "exception": false,
     "start_time": "2021-05-17T09:13:33.609054",
     "status": "completed"
    },
    "tags": []
   },
   "source": [
    "##### From this list it is apparent that lead_time, total_of_special_requests, required_car_parking_spaces, booking_changes and previous_cancellations are the 5 most important numerical features. However, to predict whether or not a booking will be canceled, the number of booking changes is a possible source of leakage, because this information can change over time. I will also not include days_in_waiting_list,booking changes and arrival_date_year.\n",
    "\n",
    "##### The most important feature to exclude is the \"reservation_status"
   ]
  },
  {
   "cell_type": "code",
   "execution_count": 41,
   "id": "separated-acceptance",
   "metadata": {
    "execution": {
     "iopub.execute_input": "2021-05-17T09:13:33.870534Z",
     "iopub.status.busy": "2021-05-17T09:13:33.869805Z",
     "iopub.status.idle": "2021-05-17T09:13:33.894039Z",
     "shell.execute_reply": "2021-05-17T09:13:33.893296Z"
    },
    "papermill": {
     "duration": 0.113838,
     "end_time": "2021-05-17T09:13:33.894199",
     "exception": false,
     "start_time": "2021-05-17T09:13:33.780361",
     "status": "completed"
    },
    "tags": []
   },
   "outputs": [
    {
     "data": {
      "text/plain": [
       "is_canceled  reservation_status\n",
       "0            Check-Out             75011\n",
       "1            Canceled              42993\n",
       "             No-Show                1206\n",
       "Name: reservation_status, dtype: int64"
      ]
     },
     "execution_count": 41,
     "metadata": {},
     "output_type": "execute_result"
    }
   ],
   "source": [
    "data.groupby(\"is_canceled\")[\"reservation_status\"].value_counts()"
   ]
  },
  {
   "cell_type": "markdown",
   "id": "forward-playlist",
   "metadata": {
    "papermill": {
     "duration": 0.088428,
     "end_time": "2021-05-17T09:13:34.072331",
     "exception": false,
     "start_time": "2021-05-17T09:13:33.983903",
     "status": "completed"
    },
    "tags": []
   },
   "source": [
    "### knowing the most important numrical features"
   ]
  },
  {
   "cell_type": "code",
   "execution_count": 42,
   "id": "dutch-closer",
   "metadata": {
    "execution": {
     "iopub.execute_input": "2021-05-17T09:13:34.255163Z",
     "iopub.status.busy": "2021-05-17T09:13:34.254296Z",
     "iopub.status.idle": "2021-05-17T09:13:34.258575Z",
     "shell.execute_reply": "2021-05-17T09:13:34.259223Z"
    },
    "papermill": {
     "duration": 0.101297,
     "end_time": "2021-05-17T09:13:34.259429",
     "exception": false,
     "start_time": "2021-05-17T09:13:34.158132",
     "status": "completed"
    },
    "tags": []
   },
   "outputs": [
    {
     "data": {
      "text/plain": [
       "['is_canceled',\n",
       " 'lead_time',\n",
       " 'arrival_date_year',\n",
       " 'arrival_date_week_number',\n",
       " 'arrival_date_day_of_month',\n",
       " 'stays_in_weekend_nights',\n",
       " 'stays_in_week_nights',\n",
       " 'adults',\n",
       " 'children',\n",
       " 'babies',\n",
       " 'is_repeated_guest',\n",
       " 'previous_cancellations',\n",
       " 'previous_bookings_not_canceled',\n",
       " 'booking_changes',\n",
       " 'agent',\n",
       " 'company',\n",
       " 'days_in_waiting_list',\n",
       " 'adr',\n",
       " 'required_car_parking_spaces',\n",
       " 'total_of_special_requests']"
      ]
     },
     "execution_count": 42,
     "metadata": {},
     "output_type": "execute_result"
    }
   ],
   "source": [
    "num_features=[col for col in data.columns if data[col].dtype!='O']\n",
    "num_features"
   ]
  },
  {
   "cell_type": "markdown",
   "id": "scientific-decline",
   "metadata": {
    "papermill": {
     "duration": 0.109714,
     "end_time": "2021-05-17T09:13:34.459581",
     "exception": false,
     "start_time": "2021-05-17T09:13:34.349867",
     "status": "completed"
    },
    "tags": []
   },
   "source": [
    "### knowing the most important categories features"
   ]
  },
  {
   "cell_type": "code",
   "execution_count": 43,
   "id": "selective-colony",
   "metadata": {
    "execution": {
     "iopub.execute_input": "2021-05-17T09:13:34.672427Z",
     "iopub.status.busy": "2021-05-17T09:13:34.671253Z",
     "iopub.status.idle": "2021-05-17T09:13:34.675170Z",
     "shell.execute_reply": "2021-05-17T09:13:34.674489Z"
    },
    "papermill": {
     "duration": 0.101908,
     "end_time": "2021-05-17T09:13:34.675332",
     "exception": false,
     "start_time": "2021-05-17T09:13:34.573424",
     "status": "completed"
    },
    "tags": []
   },
   "outputs": [],
   "source": [
    "cat_not=['reservation_status']"
   ]
  },
  {
   "cell_type": "code",
   "execution_count": 44,
   "id": "official-rachel",
   "metadata": {
    "execution": {
     "iopub.execute_input": "2021-05-17T09:13:34.863972Z",
     "iopub.status.busy": "2021-05-17T09:13:34.862865Z",
     "iopub.status.idle": "2021-05-17T09:13:34.868784Z",
     "shell.execute_reply": "2021-05-17T09:13:34.868069Z"
    },
    "papermill": {
     "duration": 0.106026,
     "end_time": "2021-05-17T09:13:34.868954",
     "exception": false,
     "start_time": "2021-05-17T09:13:34.762928",
     "status": "completed"
    },
    "tags": []
   },
   "outputs": [
    {
     "data": {
      "text/plain": [
       "['hotel',\n",
       " 'arrival_date_month',\n",
       " 'meal',\n",
       " 'country',\n",
       " 'market_segment',\n",
       " 'distribution_channel',\n",
       " 'reserved_room_type',\n",
       " 'assigned_room_type',\n",
       " 'deposit_type',\n",
       " 'customer_type',\n",
       " 'reservation_status_date']"
      ]
     },
     "execution_count": 44,
     "metadata": {},
     "output_type": "execute_result"
    }
   ],
   "source": [
    "cat_features=[col for col in data.columns if data[col].dtype=='O'and col not in cat_not]\n",
    "cat_features"
   ]
  },
  {
   "cell_type": "code",
   "execution_count": 45,
   "id": "textile-xerox",
   "metadata": {
    "execution": {
     "iopub.execute_input": "2021-05-17T09:13:35.068286Z",
     "iopub.status.busy": "2021-05-17T09:13:35.066634Z",
     "iopub.status.idle": "2021-05-17T09:13:35.091862Z",
     "shell.execute_reply": "2021-05-17T09:13:35.091233Z"
    },
    "papermill": {
     "duration": 0.130504,
     "end_time": "2021-05-17T09:13:35.092006",
     "exception": false,
     "start_time": "2021-05-17T09:13:34.961502",
     "status": "completed"
    },
    "tags": []
   },
   "outputs": [
    {
     "data": {
      "text/html": [
       "<div>\n",
       "<style scoped>\n",
       "    .dataframe tbody tr th:only-of-type {\n",
       "        vertical-align: middle;\n",
       "    }\n",
       "\n",
       "    .dataframe tbody tr th {\n",
       "        vertical-align: top;\n",
       "    }\n",
       "\n",
       "    .dataframe thead th {\n",
       "        text-align: right;\n",
       "    }\n",
       "</style>\n",
       "<table border=\"1\" class=\"dataframe\">\n",
       "  <thead>\n",
       "    <tr style=\"text-align: right;\">\n",
       "      <th></th>\n",
       "      <th>hotel</th>\n",
       "      <th>arrival_date_month</th>\n",
       "      <th>meal</th>\n",
       "      <th>country</th>\n",
       "      <th>market_segment</th>\n",
       "      <th>distribution_channel</th>\n",
       "      <th>reserved_room_type</th>\n",
       "      <th>assigned_room_type</th>\n",
       "      <th>deposit_type</th>\n",
       "      <th>customer_type</th>\n",
       "      <th>reservation_status_date</th>\n",
       "    </tr>\n",
       "  </thead>\n",
       "  <tbody>\n",
       "    <tr>\n",
       "      <th>0</th>\n",
       "      <td>Resort Hotel</td>\n",
       "      <td>July</td>\n",
       "      <td>BB</td>\n",
       "      <td>PRT</td>\n",
       "      <td>Direct</td>\n",
       "      <td>Direct</td>\n",
       "      <td>C</td>\n",
       "      <td>C</td>\n",
       "      <td>No Deposit</td>\n",
       "      <td>Transient</td>\n",
       "      <td>7/1/2015</td>\n",
       "    </tr>\n",
       "    <tr>\n",
       "      <th>1</th>\n",
       "      <td>Resort Hotel</td>\n",
       "      <td>July</td>\n",
       "      <td>BB</td>\n",
       "      <td>PRT</td>\n",
       "      <td>Direct</td>\n",
       "      <td>Direct</td>\n",
       "      <td>C</td>\n",
       "      <td>C</td>\n",
       "      <td>No Deposit</td>\n",
       "      <td>Transient</td>\n",
       "      <td>7/1/2015</td>\n",
       "    </tr>\n",
       "    <tr>\n",
       "      <th>2</th>\n",
       "      <td>Resort Hotel</td>\n",
       "      <td>July</td>\n",
       "      <td>BB</td>\n",
       "      <td>GBR</td>\n",
       "      <td>Direct</td>\n",
       "      <td>Direct</td>\n",
       "      <td>A</td>\n",
       "      <td>C</td>\n",
       "      <td>No Deposit</td>\n",
       "      <td>Transient</td>\n",
       "      <td>7/2/2015</td>\n",
       "    </tr>\n",
       "    <tr>\n",
       "      <th>3</th>\n",
       "      <td>Resort Hotel</td>\n",
       "      <td>July</td>\n",
       "      <td>BB</td>\n",
       "      <td>GBR</td>\n",
       "      <td>Corporate</td>\n",
       "      <td>Corporate</td>\n",
       "      <td>A</td>\n",
       "      <td>A</td>\n",
       "      <td>No Deposit</td>\n",
       "      <td>Transient</td>\n",
       "      <td>7/2/2015</td>\n",
       "    </tr>\n",
       "    <tr>\n",
       "      <th>4</th>\n",
       "      <td>Resort Hotel</td>\n",
       "      <td>July</td>\n",
       "      <td>BB</td>\n",
       "      <td>GBR</td>\n",
       "      <td>Online TA</td>\n",
       "      <td>TA/TO</td>\n",
       "      <td>A</td>\n",
       "      <td>A</td>\n",
       "      <td>No Deposit</td>\n",
       "      <td>Transient</td>\n",
       "      <td>7/3/2015</td>\n",
       "    </tr>\n",
       "  </tbody>\n",
       "</table>\n",
       "</div>"
      ],
      "text/plain": [
       "          hotel arrival_date_month meal country market_segment  \\\n",
       "0  Resort Hotel               July   BB     PRT         Direct   \n",
       "1  Resort Hotel               July   BB     PRT         Direct   \n",
       "2  Resort Hotel               July   BB     GBR         Direct   \n",
       "3  Resort Hotel               July   BB     GBR      Corporate   \n",
       "4  Resort Hotel               July   BB     GBR      Online TA   \n",
       "\n",
       "  distribution_channel reserved_room_type assigned_room_type deposit_type  \\\n",
       "0               Direct                  C                  C   No Deposit   \n",
       "1               Direct                  C                  C   No Deposit   \n",
       "2               Direct                  A                  C   No Deposit   \n",
       "3            Corporate                  A                  A   No Deposit   \n",
       "4                TA/TO                  A                  A   No Deposit   \n",
       "\n",
       "  customer_type reservation_status_date  \n",
       "0     Transient                7/1/2015  \n",
       "1     Transient                7/1/2015  \n",
       "2     Transient                7/2/2015  \n",
       "3     Transient                7/2/2015  \n",
       "4     Transient                7/3/2015  "
      ]
     },
     "execution_count": 45,
     "metadata": {},
     "output_type": "execute_result"
    }
   ],
   "source": [
    "data_cat=data[cat_features]\n",
    "data_cat.head()"
   ]
  },
  {
   "cell_type": "code",
   "execution_count": 46,
   "id": "second-bridal",
   "metadata": {
    "execution": {
     "iopub.execute_input": "2021-05-17T09:13:35.287948Z",
     "iopub.status.busy": "2021-05-17T09:13:35.286864Z",
     "iopub.status.idle": "2021-05-17T09:13:35.361311Z",
     "shell.execute_reply": "2021-05-17T09:13:35.361870Z"
    },
    "papermill": {
     "duration": 0.180261,
     "end_time": "2021-05-17T09:13:35.362127",
     "exception": false,
     "start_time": "2021-05-17T09:13:35.181866",
     "status": "completed"
    },
    "tags": []
   },
   "outputs": [],
   "source": [
    "data_cat['reservation_status_date']=pd.to_datetime(data_cat['reservation_status_date'])"
   ]
  },
  {
   "cell_type": "code",
   "execution_count": 47,
   "id": "minor-compact",
   "metadata": {
    "execution": {
     "iopub.execute_input": "2021-05-17T09:13:35.547805Z",
     "iopub.status.busy": "2021-05-17T09:13:35.546143Z",
     "iopub.status.idle": "2021-05-17T09:13:35.589818Z",
     "shell.execute_reply": "2021-05-17T09:13:35.589167Z"
    },
    "papermill": {
     "duration": 0.138849,
     "end_time": "2021-05-17T09:13:35.590039",
     "exception": false,
     "start_time": "2021-05-17T09:13:35.451190",
     "status": "completed"
    },
    "tags": []
   },
   "outputs": [],
   "source": [
    "data_cat['year']=data_cat['reservation_status_date'].dt.year\n",
    "data_cat['month']=data_cat['reservation_status_date'].dt.month\n",
    "data_cat['day']=data_cat['reservation_status_date'].dt.day"
   ]
  },
  {
   "cell_type": "code",
   "execution_count": 48,
   "id": "electoral-infrastructure",
   "metadata": {
    "execution": {
     "iopub.execute_input": "2021-05-17T09:13:35.786408Z",
     "iopub.status.busy": "2021-05-17T09:13:35.785419Z",
     "iopub.status.idle": "2021-05-17T09:13:35.790278Z",
     "shell.execute_reply": "2021-05-17T09:13:35.789763Z"
    },
    "papermill": {
     "duration": 0.111729,
     "end_time": "2021-05-17T09:13:35.790443",
     "exception": false,
     "start_time": "2021-05-17T09:13:35.678714",
     "status": "completed"
    },
    "tags": []
   },
   "outputs": [
    {
     "data": {
      "text/html": [
       "<div>\n",
       "<style scoped>\n",
       "    .dataframe tbody tr th:only-of-type {\n",
       "        vertical-align: middle;\n",
       "    }\n",
       "\n",
       "    .dataframe tbody tr th {\n",
       "        vertical-align: top;\n",
       "    }\n",
       "\n",
       "    .dataframe thead th {\n",
       "        text-align: right;\n",
       "    }\n",
       "</style>\n",
       "<table border=\"1\" class=\"dataframe\">\n",
       "  <thead>\n",
       "    <tr style=\"text-align: right;\">\n",
       "      <th></th>\n",
       "      <th>hotel</th>\n",
       "      <th>arrival_date_month</th>\n",
       "      <th>meal</th>\n",
       "      <th>country</th>\n",
       "      <th>market_segment</th>\n",
       "      <th>distribution_channel</th>\n",
       "      <th>reserved_room_type</th>\n",
       "      <th>assigned_room_type</th>\n",
       "      <th>deposit_type</th>\n",
       "      <th>customer_type</th>\n",
       "      <th>reservation_status_date</th>\n",
       "      <th>year</th>\n",
       "      <th>month</th>\n",
       "      <th>day</th>\n",
       "    </tr>\n",
       "  </thead>\n",
       "  <tbody>\n",
       "    <tr>\n",
       "      <th>0</th>\n",
       "      <td>Resort Hotel</td>\n",
       "      <td>July</td>\n",
       "      <td>BB</td>\n",
       "      <td>PRT</td>\n",
       "      <td>Direct</td>\n",
       "      <td>Direct</td>\n",
       "      <td>C</td>\n",
       "      <td>C</td>\n",
       "      <td>No Deposit</td>\n",
       "      <td>Transient</td>\n",
       "      <td>2015-07-01</td>\n",
       "      <td>2015</td>\n",
       "      <td>7</td>\n",
       "      <td>1</td>\n",
       "    </tr>\n",
       "    <tr>\n",
       "      <th>1</th>\n",
       "      <td>Resort Hotel</td>\n",
       "      <td>July</td>\n",
       "      <td>BB</td>\n",
       "      <td>PRT</td>\n",
       "      <td>Direct</td>\n",
       "      <td>Direct</td>\n",
       "      <td>C</td>\n",
       "      <td>C</td>\n",
       "      <td>No Deposit</td>\n",
       "      <td>Transient</td>\n",
       "      <td>2015-07-01</td>\n",
       "      <td>2015</td>\n",
       "      <td>7</td>\n",
       "      <td>1</td>\n",
       "    </tr>\n",
       "    <tr>\n",
       "      <th>2</th>\n",
       "      <td>Resort Hotel</td>\n",
       "      <td>July</td>\n",
       "      <td>BB</td>\n",
       "      <td>GBR</td>\n",
       "      <td>Direct</td>\n",
       "      <td>Direct</td>\n",
       "      <td>A</td>\n",
       "      <td>C</td>\n",
       "      <td>No Deposit</td>\n",
       "      <td>Transient</td>\n",
       "      <td>2015-07-02</td>\n",
       "      <td>2015</td>\n",
       "      <td>7</td>\n",
       "      <td>2</td>\n",
       "    </tr>\n",
       "    <tr>\n",
       "      <th>3</th>\n",
       "      <td>Resort Hotel</td>\n",
       "      <td>July</td>\n",
       "      <td>BB</td>\n",
       "      <td>GBR</td>\n",
       "      <td>Corporate</td>\n",
       "      <td>Corporate</td>\n",
       "      <td>A</td>\n",
       "      <td>A</td>\n",
       "      <td>No Deposit</td>\n",
       "      <td>Transient</td>\n",
       "      <td>2015-07-02</td>\n",
       "      <td>2015</td>\n",
       "      <td>7</td>\n",
       "      <td>2</td>\n",
       "    </tr>\n",
       "    <tr>\n",
       "      <th>4</th>\n",
       "      <td>Resort Hotel</td>\n",
       "      <td>July</td>\n",
       "      <td>BB</td>\n",
       "      <td>GBR</td>\n",
       "      <td>Online TA</td>\n",
       "      <td>TA/TO</td>\n",
       "      <td>A</td>\n",
       "      <td>A</td>\n",
       "      <td>No Deposit</td>\n",
       "      <td>Transient</td>\n",
       "      <td>2015-07-03</td>\n",
       "      <td>2015</td>\n",
       "      <td>7</td>\n",
       "      <td>3</td>\n",
       "    </tr>\n",
       "  </tbody>\n",
       "</table>\n",
       "</div>"
      ],
      "text/plain": [
       "          hotel arrival_date_month meal country market_segment  \\\n",
       "0  Resort Hotel               July   BB     PRT         Direct   \n",
       "1  Resort Hotel               July   BB     PRT         Direct   \n",
       "2  Resort Hotel               July   BB     GBR         Direct   \n",
       "3  Resort Hotel               July   BB     GBR      Corporate   \n",
       "4  Resort Hotel               July   BB     GBR      Online TA   \n",
       "\n",
       "  distribution_channel reserved_room_type assigned_room_type deposit_type  \\\n",
       "0               Direct                  C                  C   No Deposit   \n",
       "1               Direct                  C                  C   No Deposit   \n",
       "2               Direct                  A                  C   No Deposit   \n",
       "3            Corporate                  A                  A   No Deposit   \n",
       "4                TA/TO                  A                  A   No Deposit   \n",
       "\n",
       "  customer_type reservation_status_date  year  month  day  \n",
       "0     Transient              2015-07-01  2015      7    1  \n",
       "1     Transient              2015-07-01  2015      7    1  \n",
       "2     Transient              2015-07-02  2015      7    2  \n",
       "3     Transient              2015-07-02  2015      7    2  \n",
       "4     Transient              2015-07-03  2015      7    3  "
      ]
     },
     "execution_count": 48,
     "metadata": {},
     "output_type": "execute_result"
    }
   ],
   "source": [
    "data_cat.head()"
   ]
  },
  {
   "cell_type": "code",
   "execution_count": 49,
   "id": "democratic-italy",
   "metadata": {
    "execution": {
     "iopub.execute_input": "2021-05-17T09:13:35.976478Z",
     "iopub.status.busy": "2021-05-17T09:13:35.975588Z",
     "iopub.status.idle": "2021-05-17T09:13:35.980343Z",
     "shell.execute_reply": "2021-05-17T09:13:35.979655Z"
    },
    "papermill": {
     "duration": 0.102551,
     "end_time": "2021-05-17T09:13:35.980507",
     "exception": false,
     "start_time": "2021-05-17T09:13:35.877956",
     "status": "completed"
    },
    "tags": []
   },
   "outputs": [
    {
     "data": {
      "text/plain": [
       "Index(['hotel', 'arrival_date_month', 'meal', 'country', 'market_segment',\n",
       "       'distribution_channel', 'reserved_room_type', 'assigned_room_type',\n",
       "       'deposit_type', 'customer_type', 'reservation_status_date', 'year',\n",
       "       'month', 'day'],\n",
       "      dtype='object')"
      ]
     },
     "execution_count": 49,
     "metadata": {},
     "output_type": "execute_result"
    }
   ],
   "source": [
    "data_cat.columns"
   ]
  },
  {
   "cell_type": "code",
   "execution_count": 50,
   "id": "central-london",
   "metadata": {
    "execution": {
     "iopub.execute_input": "2021-05-17T09:13:36.171651Z",
     "iopub.status.busy": "2021-05-17T09:13:36.170907Z",
     "iopub.status.idle": "2021-05-17T09:13:36.193659Z",
     "shell.execute_reply": "2021-05-17T09:13:36.194168Z"
    },
    "papermill": {
     "duration": 0.12412,
     "end_time": "2021-05-17T09:13:36.194415",
     "exception": false,
     "start_time": "2021-05-17T09:13:36.070295",
     "status": "completed"
    },
    "tags": []
   },
   "outputs": [],
   "source": [
    "data_cat.drop('reservation_status_date',axis=1,inplace=True)"
   ]
  },
  {
   "cell_type": "code",
   "execution_count": 51,
   "id": "mineral-scottish",
   "metadata": {
    "execution": {
     "iopub.execute_input": "2021-05-17T09:13:36.387140Z",
     "iopub.status.busy": "2021-05-17T09:13:36.386015Z",
     "iopub.status.idle": "2021-05-17T09:13:36.392361Z",
     "shell.execute_reply": "2021-05-17T09:13:36.391626Z"
    },
    "papermill": {
     "duration": 0.101396,
     "end_time": "2021-05-17T09:13:36.392530",
     "exception": false,
     "start_time": "2021-05-17T09:13:36.291134",
     "status": "completed"
    },
    "tags": []
   },
   "outputs": [],
   "source": [
    "data_cat['cancellation']=data['is_canceled']"
   ]
  },
  {
   "cell_type": "markdown",
   "id": "oriental-armstrong",
   "metadata": {
    "papermill": {
     "duration": 0.092274,
     "end_time": "2021-05-17T09:13:36.578865",
     "exception": false,
     "start_time": "2021-05-17T09:13:36.486591",
     "status": "completed"
    },
    "tags": []
   },
   "source": [
    "### Feature Encoding"
   ]
  },
  {
   "cell_type": "markdown",
   "id": "latter-glory",
   "metadata": {
    "papermill": {
     "duration": 0.086462,
     "end_time": "2021-05-17T09:13:36.752657",
     "exception": false,
     "start_time": "2021-05-17T09:13:36.666195",
     "status": "completed"
    },
    "tags": []
   },
   "source": [
    "### Perform Mean Encoding Technique "
   ]
  },
  {
   "cell_type": "code",
   "execution_count": 52,
   "id": "supposed-photograph",
   "metadata": {
    "execution": {
     "iopub.execute_input": "2021-05-17T09:13:36.933211Z",
     "iopub.status.busy": "2021-05-17T09:13:36.932196Z",
     "iopub.status.idle": "2021-05-17T09:13:36.937354Z",
     "shell.execute_reply": "2021-05-17T09:13:36.936732Z"
    },
    "papermill": {
     "duration": 0.098076,
     "end_time": "2021-05-17T09:13:36.937525",
     "exception": false,
     "start_time": "2021-05-17T09:13:36.839449",
     "status": "completed"
    },
    "tags": []
   },
   "outputs": [
    {
     "data": {
      "text/plain": [
       "Index(['hotel', 'arrival_date_month', 'meal', 'country', 'market_segment',\n",
       "       'distribution_channel', 'reserved_room_type', 'assigned_room_type',\n",
       "       'deposit_type', 'customer_type'],\n",
       "      dtype='object')"
      ]
     },
     "execution_count": 52,
     "metadata": {},
     "output_type": "execute_result"
    }
   ],
   "source": [
    "cols=data_cat.columns[0:10]\n",
    "cols"
   ]
  },
  {
   "cell_type": "code",
   "execution_count": 53,
   "id": "french-toolbox",
   "metadata": {
    "execution": {
     "iopub.execute_input": "2021-05-17T09:13:37.144005Z",
     "iopub.status.busy": "2021-05-17T09:13:37.142911Z",
     "iopub.status.idle": "2021-05-17T09:13:37.256738Z",
     "shell.execute_reply": "2021-05-17T09:13:37.257212Z"
    },
    "papermill": {
     "duration": 0.221995,
     "end_time": "2021-05-17T09:13:37.257424",
     "exception": false,
     "start_time": "2021-05-17T09:13:37.035429",
     "status": "completed"
    },
    "tags": []
   },
   "outputs": [
    {
     "name": "stdout",
     "output_type": "stream",
     "text": [
      "hotel\n",
      "City Hotel      0.417859\n",
      "Resort Hotel    0.277674\n",
      "Name: cancellation, dtype: float64\n",
      "\n",
      "\n",
      "arrival_date_month\n",
      "April        0.407835\n",
      "August       0.377823\n",
      "December     0.350348\n",
      "February     0.334451\n",
      "January      0.305016\n",
      "July         0.374644\n",
      "June         0.414860\n",
      "March        0.322277\n",
      "May          0.397029\n",
      "November     0.313100\n",
      "October      0.380910\n",
      "September    0.391905\n",
      "Name: cancellation, dtype: float64\n",
      "\n",
      "\n",
      "meal\n",
      "BB           0.374106\n",
      "FB           0.598997\n",
      "HB           0.344653\n",
      "SC           0.374064\n",
      "Undefined    0.244654\n",
      "Name: cancellation, dtype: float64\n",
      "\n",
      "\n",
      "country\n",
      "0      0.119247\n",
      "ABW    0.000000\n",
      "AGO    0.566298\n",
      "AIA    0.000000\n",
      "ALB    0.166667\n",
      "         ...   \n",
      "VGB    1.000000\n",
      "VNM    0.250000\n",
      "ZAF    0.387500\n",
      "ZMB    0.500000\n",
      "ZWE    0.500000\n",
      "Name: cancellation, Length: 178, dtype: float64\n",
      "\n",
      "\n",
      "market_segment\n",
      "Aviation         0.221277\n",
      "Complementary    0.122253\n",
      "Corporate        0.187618\n",
      "Direct           0.153712\n",
      "Groups           0.611086\n",
      "Offline TA/TO    0.343313\n",
      "Online TA        0.367590\n",
      "Undefined        1.000000\n",
      "Name: cancellation, dtype: float64\n",
      "\n",
      "\n",
      "distribution_channel\n",
      "Corporate    0.220568\n",
      "Direct       0.174868\n",
      "GDS          0.191710\n",
      "TA/TO        0.410598\n",
      "Undefined    0.800000\n",
      "Name: cancellation, dtype: float64\n",
      "\n",
      "\n",
      "reserved_room_type\n",
      "A    0.391567\n",
      "B    0.329148\n",
      "C    0.330827\n",
      "D    0.318108\n",
      "E    0.292683\n",
      "F    0.304077\n",
      "G    0.364723\n",
      "H    0.407654\n",
      "L    0.333333\n",
      "Name: cancellation, dtype: float64\n",
      "\n",
      "\n",
      "assigned_room_type\n",
      "A    0.445055\n",
      "B    0.237233\n",
      "C    0.188186\n",
      "D    0.251373\n",
      "E    0.251603\n",
      "F    0.247134\n",
      "G    0.306002\n",
      "H    0.352528\n",
      "I    0.013928\n",
      "K    0.058824\n",
      "L    1.000000\n",
      "Name: cancellation, dtype: float64\n",
      "\n",
      "\n",
      "deposit_type\n",
      "No Deposit    0.284020\n",
      "Non Refund    0.993624\n",
      "Refundable    0.222222\n",
      "Name: cancellation, dtype: float64\n",
      "\n",
      "\n",
      "customer_type\n",
      "Contract           0.309921\n",
      "Group              0.101045\n",
      "Transient          0.407864\n",
      "Transient-Party    0.254504\n",
      "Name: cancellation, dtype: float64\n",
      "\n",
      "\n"
     ]
    }
   ],
   "source": [
    "for col in cols:\n",
    "    print(data_cat.groupby([col])['cancellation'].mean())\n",
    "    print('\\n')"
   ]
  },
  {
   "cell_type": "code",
   "execution_count": 54,
   "id": "miniature-stick",
   "metadata": {
    "execution": {
     "iopub.execute_input": "2021-05-17T09:13:37.458892Z",
     "iopub.status.busy": "2021-05-17T09:13:37.458185Z",
     "iopub.status.idle": "2021-05-17T09:13:37.697248Z",
     "shell.execute_reply": "2021-05-17T09:13:37.696498Z"
    },
    "papermill": {
     "duration": 0.343164,
     "end_time": "2021-05-17T09:13:37.697420",
     "exception": false,
     "start_time": "2021-05-17T09:13:37.354256",
     "status": "completed"
    },
    "tags": []
   },
   "outputs": [],
   "source": [
    "for col in cols:\n",
    "    dict=data_cat.groupby([col])['cancellation'].mean().to_dict()\n",
    "    data_cat[col]=data_cat[col].map(dict)"
   ]
  },
  {
   "cell_type": "code",
   "execution_count": 55,
   "id": "entertaining-armstrong",
   "metadata": {
    "execution": {
     "iopub.execute_input": "2021-05-17T09:13:37.902988Z",
     "iopub.status.busy": "2021-05-17T09:13:37.885881Z",
     "iopub.status.idle": "2021-05-17T09:13:37.907718Z",
     "shell.execute_reply": "2021-05-17T09:13:37.906978Z"
    },
    "papermill": {
     "duration": 0.117748,
     "end_time": "2021-05-17T09:13:37.907974",
     "exception": false,
     "start_time": "2021-05-17T09:13:37.790226",
     "status": "completed"
    },
    "tags": []
   },
   "outputs": [
    {
     "data": {
      "text/html": [
       "<div>\n",
       "<style scoped>\n",
       "    .dataframe tbody tr th:only-of-type {\n",
       "        vertical-align: middle;\n",
       "    }\n",
       "\n",
       "    .dataframe tbody tr th {\n",
       "        vertical-align: top;\n",
       "    }\n",
       "\n",
       "    .dataframe thead th {\n",
       "        text-align: right;\n",
       "    }\n",
       "</style>\n",
       "<table border=\"1\" class=\"dataframe\">\n",
       "  <thead>\n",
       "    <tr style=\"text-align: right;\">\n",
       "      <th></th>\n",
       "      <th>hotel</th>\n",
       "      <th>arrival_date_month</th>\n",
       "      <th>meal</th>\n",
       "      <th>country</th>\n",
       "      <th>market_segment</th>\n",
       "      <th>distribution_channel</th>\n",
       "      <th>reserved_room_type</th>\n",
       "      <th>assigned_room_type</th>\n",
       "      <th>deposit_type</th>\n",
       "      <th>customer_type</th>\n",
       "      <th>year</th>\n",
       "      <th>month</th>\n",
       "      <th>day</th>\n",
       "      <th>cancellation</th>\n",
       "    </tr>\n",
       "  </thead>\n",
       "  <tbody>\n",
       "    <tr>\n",
       "      <th>0</th>\n",
       "      <td>0.277674</td>\n",
       "      <td>0.374644</td>\n",
       "      <td>0.374106</td>\n",
       "      <td>0.567333</td>\n",
       "      <td>0.153712</td>\n",
       "      <td>0.174868</td>\n",
       "      <td>0.330827</td>\n",
       "      <td>0.188186</td>\n",
       "      <td>0.28402</td>\n",
       "      <td>0.407864</td>\n",
       "      <td>2015</td>\n",
       "      <td>7</td>\n",
       "      <td>1</td>\n",
       "      <td>0</td>\n",
       "    </tr>\n",
       "    <tr>\n",
       "      <th>1</th>\n",
       "      <td>0.277674</td>\n",
       "      <td>0.374644</td>\n",
       "      <td>0.374106</td>\n",
       "      <td>0.567333</td>\n",
       "      <td>0.153712</td>\n",
       "      <td>0.174868</td>\n",
       "      <td>0.330827</td>\n",
       "      <td>0.188186</td>\n",
       "      <td>0.28402</td>\n",
       "      <td>0.407864</td>\n",
       "      <td>2015</td>\n",
       "      <td>7</td>\n",
       "      <td>1</td>\n",
       "      <td>0</td>\n",
       "    </tr>\n",
       "    <tr>\n",
       "      <th>2</th>\n",
       "      <td>0.277674</td>\n",
       "      <td>0.374644</td>\n",
       "      <td>0.374106</td>\n",
       "      <td>0.202310</td>\n",
       "      <td>0.153712</td>\n",
       "      <td>0.174868</td>\n",
       "      <td>0.391567</td>\n",
       "      <td>0.188186</td>\n",
       "      <td>0.28402</td>\n",
       "      <td>0.407864</td>\n",
       "      <td>2015</td>\n",
       "      <td>7</td>\n",
       "      <td>2</td>\n",
       "      <td>0</td>\n",
       "    </tr>\n",
       "    <tr>\n",
       "      <th>3</th>\n",
       "      <td>0.277674</td>\n",
       "      <td>0.374644</td>\n",
       "      <td>0.374106</td>\n",
       "      <td>0.202310</td>\n",
       "      <td>0.187618</td>\n",
       "      <td>0.220568</td>\n",
       "      <td>0.391567</td>\n",
       "      <td>0.445055</td>\n",
       "      <td>0.28402</td>\n",
       "      <td>0.407864</td>\n",
       "      <td>2015</td>\n",
       "      <td>7</td>\n",
       "      <td>2</td>\n",
       "      <td>0</td>\n",
       "    </tr>\n",
       "    <tr>\n",
       "      <th>4</th>\n",
       "      <td>0.277674</td>\n",
       "      <td>0.374644</td>\n",
       "      <td>0.374106</td>\n",
       "      <td>0.202310</td>\n",
       "      <td>0.367590</td>\n",
       "      <td>0.410598</td>\n",
       "      <td>0.391567</td>\n",
       "      <td>0.445055</td>\n",
       "      <td>0.28402</td>\n",
       "      <td>0.407864</td>\n",
       "      <td>2015</td>\n",
       "      <td>7</td>\n",
       "      <td>3</td>\n",
       "      <td>0</td>\n",
       "    </tr>\n",
       "    <tr>\n",
       "      <th>5</th>\n",
       "      <td>0.277674</td>\n",
       "      <td>0.374644</td>\n",
       "      <td>0.374106</td>\n",
       "      <td>0.202310</td>\n",
       "      <td>0.367590</td>\n",
       "      <td>0.410598</td>\n",
       "      <td>0.391567</td>\n",
       "      <td>0.445055</td>\n",
       "      <td>0.28402</td>\n",
       "      <td>0.407864</td>\n",
       "      <td>2015</td>\n",
       "      <td>7</td>\n",
       "      <td>3</td>\n",
       "      <td>0</td>\n",
       "    </tr>\n",
       "    <tr>\n",
       "      <th>6</th>\n",
       "      <td>0.277674</td>\n",
       "      <td>0.374644</td>\n",
       "      <td>0.374106</td>\n",
       "      <td>0.567333</td>\n",
       "      <td>0.153712</td>\n",
       "      <td>0.174868</td>\n",
       "      <td>0.330827</td>\n",
       "      <td>0.188186</td>\n",
       "      <td>0.28402</td>\n",
       "      <td>0.407864</td>\n",
       "      <td>2015</td>\n",
       "      <td>7</td>\n",
       "      <td>3</td>\n",
       "      <td>0</td>\n",
       "    </tr>\n",
       "    <tr>\n",
       "      <th>7</th>\n",
       "      <td>0.277674</td>\n",
       "      <td>0.374644</td>\n",
       "      <td>0.598997</td>\n",
       "      <td>0.567333</td>\n",
       "      <td>0.153712</td>\n",
       "      <td>0.174868</td>\n",
       "      <td>0.330827</td>\n",
       "      <td>0.188186</td>\n",
       "      <td>0.28402</td>\n",
       "      <td>0.407864</td>\n",
       "      <td>2015</td>\n",
       "      <td>7</td>\n",
       "      <td>3</td>\n",
       "      <td>0</td>\n",
       "    </tr>\n",
       "    <tr>\n",
       "      <th>8</th>\n",
       "      <td>0.277674</td>\n",
       "      <td>0.374644</td>\n",
       "      <td>0.374106</td>\n",
       "      <td>0.567333</td>\n",
       "      <td>0.367590</td>\n",
       "      <td>0.410598</td>\n",
       "      <td>0.391567</td>\n",
       "      <td>0.445055</td>\n",
       "      <td>0.28402</td>\n",
       "      <td>0.407864</td>\n",
       "      <td>2015</td>\n",
       "      <td>5</td>\n",
       "      <td>6</td>\n",
       "      <td>1</td>\n",
       "    </tr>\n",
       "    <tr>\n",
       "      <th>9</th>\n",
       "      <td>0.277674</td>\n",
       "      <td>0.374644</td>\n",
       "      <td>0.344653</td>\n",
       "      <td>0.567333</td>\n",
       "      <td>0.343313</td>\n",
       "      <td>0.410598</td>\n",
       "      <td>0.318108</td>\n",
       "      <td>0.251373</td>\n",
       "      <td>0.28402</td>\n",
       "      <td>0.407864</td>\n",
       "      <td>2015</td>\n",
       "      <td>4</td>\n",
       "      <td>22</td>\n",
       "      <td>1</td>\n",
       "    </tr>\n",
       "    <tr>\n",
       "      <th>10</th>\n",
       "      <td>0.277674</td>\n",
       "      <td>0.374644</td>\n",
       "      <td>0.374106</td>\n",
       "      <td>0.567333</td>\n",
       "      <td>0.367590</td>\n",
       "      <td>0.410598</td>\n",
       "      <td>0.292683</td>\n",
       "      <td>0.251603</td>\n",
       "      <td>0.28402</td>\n",
       "      <td>0.407864</td>\n",
       "      <td>2015</td>\n",
       "      <td>6</td>\n",
       "      <td>23</td>\n",
       "      <td>1</td>\n",
       "    </tr>\n",
       "    <tr>\n",
       "      <th>11</th>\n",
       "      <td>0.277674</td>\n",
       "      <td>0.374644</td>\n",
       "      <td>0.344653</td>\n",
       "      <td>0.567333</td>\n",
       "      <td>0.367590</td>\n",
       "      <td>0.410598</td>\n",
       "      <td>0.318108</td>\n",
       "      <td>0.251373</td>\n",
       "      <td>0.28402</td>\n",
       "      <td>0.407864</td>\n",
       "      <td>2015</td>\n",
       "      <td>7</td>\n",
       "      <td>5</td>\n",
       "      <td>0</td>\n",
       "    </tr>\n",
       "    <tr>\n",
       "      <th>12</th>\n",
       "      <td>0.277674</td>\n",
       "      <td>0.374644</td>\n",
       "      <td>0.374106</td>\n",
       "      <td>0.239369</td>\n",
       "      <td>0.367590</td>\n",
       "      <td>0.410598</td>\n",
       "      <td>0.318108</td>\n",
       "      <td>0.251603</td>\n",
       "      <td>0.28402</td>\n",
       "      <td>0.407864</td>\n",
       "      <td>2015</td>\n",
       "      <td>7</td>\n",
       "      <td>5</td>\n",
       "      <td>0</td>\n",
       "    </tr>\n",
       "    <tr>\n",
       "      <th>13</th>\n",
       "      <td>0.277674</td>\n",
       "      <td>0.374644</td>\n",
       "      <td>0.344653</td>\n",
       "      <td>0.254322</td>\n",
       "      <td>0.367590</td>\n",
       "      <td>0.410598</td>\n",
       "      <td>0.364723</td>\n",
       "      <td>0.306002</td>\n",
       "      <td>0.28402</td>\n",
       "      <td>0.407864</td>\n",
       "      <td>2015</td>\n",
       "      <td>7</td>\n",
       "      <td>5</td>\n",
       "      <td>0</td>\n",
       "    </tr>\n",
       "    <tr>\n",
       "      <th>14</th>\n",
       "      <td>0.277674</td>\n",
       "      <td>0.374644</td>\n",
       "      <td>0.374106</td>\n",
       "      <td>0.567333</td>\n",
       "      <td>0.367590</td>\n",
       "      <td>0.410598</td>\n",
       "      <td>0.292683</td>\n",
       "      <td>0.251603</td>\n",
       "      <td>0.28402</td>\n",
       "      <td>0.407864</td>\n",
       "      <td>2015</td>\n",
       "      <td>7</td>\n",
       "      <td>5</td>\n",
       "      <td>0</td>\n",
       "    </tr>\n",
       "    <tr>\n",
       "      <th>15</th>\n",
       "      <td>0.277674</td>\n",
       "      <td>0.374644</td>\n",
       "      <td>0.374106</td>\n",
       "      <td>0.246592</td>\n",
       "      <td>0.367590</td>\n",
       "      <td>0.410598</td>\n",
       "      <td>0.318108</td>\n",
       "      <td>0.251603</td>\n",
       "      <td>0.28402</td>\n",
       "      <td>0.407864</td>\n",
       "      <td>2015</td>\n",
       "      <td>7</td>\n",
       "      <td>5</td>\n",
       "      <td>0</td>\n",
       "    </tr>\n",
       "    <tr>\n",
       "      <th>16</th>\n",
       "      <td>0.277674</td>\n",
       "      <td>0.374644</td>\n",
       "      <td>0.374106</td>\n",
       "      <td>0.567333</td>\n",
       "      <td>0.343313</td>\n",
       "      <td>0.410598</td>\n",
       "      <td>0.292683</td>\n",
       "      <td>0.251603</td>\n",
       "      <td>0.28402</td>\n",
       "      <td>0.309921</td>\n",
       "      <td>2015</td>\n",
       "      <td>7</td>\n",
       "      <td>5</td>\n",
       "      <td>0</td>\n",
       "    </tr>\n",
       "    <tr>\n",
       "      <th>17</th>\n",
       "      <td>0.277674</td>\n",
       "      <td>0.374644</td>\n",
       "      <td>0.374106</td>\n",
       "      <td>0.246592</td>\n",
       "      <td>0.367590</td>\n",
       "      <td>0.410598</td>\n",
       "      <td>0.391567</td>\n",
       "      <td>0.251603</td>\n",
       "      <td>0.28402</td>\n",
       "      <td>0.407864</td>\n",
       "      <td>2015</td>\n",
       "      <td>7</td>\n",
       "      <td>2</td>\n",
       "      <td>0</td>\n",
       "    </tr>\n",
       "    <tr>\n",
       "      <th>18</th>\n",
       "      <td>0.277674</td>\n",
       "      <td>0.374644</td>\n",
       "      <td>0.374106</td>\n",
       "      <td>0.185848</td>\n",
       "      <td>0.187618</td>\n",
       "      <td>0.220568</td>\n",
       "      <td>0.391567</td>\n",
       "      <td>0.306002</td>\n",
       "      <td>0.28402</td>\n",
       "      <td>0.407864</td>\n",
       "      <td>2015</td>\n",
       "      <td>7</td>\n",
       "      <td>2</td>\n",
       "      <td>0</td>\n",
       "    </tr>\n",
       "    <tr>\n",
       "      <th>19</th>\n",
       "      <td>0.277674</td>\n",
       "      <td>0.374644</td>\n",
       "      <td>0.374106</td>\n",
       "      <td>0.202310</td>\n",
       "      <td>0.153712</td>\n",
       "      <td>0.174868</td>\n",
       "      <td>0.364723</td>\n",
       "      <td>0.306002</td>\n",
       "      <td>0.28402</td>\n",
       "      <td>0.407864</td>\n",
       "      <td>2015</td>\n",
       "      <td>7</td>\n",
       "      <td>5</td>\n",
       "      <td>0</td>\n",
       "    </tr>\n",
       "  </tbody>\n",
       "</table>\n",
       "</div>"
      ],
      "text/plain": [
       "       hotel  arrival_date_month      meal   country  market_segment  \\\n",
       "0   0.277674            0.374644  0.374106  0.567333        0.153712   \n",
       "1   0.277674            0.374644  0.374106  0.567333        0.153712   \n",
       "2   0.277674            0.374644  0.374106  0.202310        0.153712   \n",
       "3   0.277674            0.374644  0.374106  0.202310        0.187618   \n",
       "4   0.277674            0.374644  0.374106  0.202310        0.367590   \n",
       "5   0.277674            0.374644  0.374106  0.202310        0.367590   \n",
       "6   0.277674            0.374644  0.374106  0.567333        0.153712   \n",
       "7   0.277674            0.374644  0.598997  0.567333        0.153712   \n",
       "8   0.277674            0.374644  0.374106  0.567333        0.367590   \n",
       "9   0.277674            0.374644  0.344653  0.567333        0.343313   \n",
       "10  0.277674            0.374644  0.374106  0.567333        0.367590   \n",
       "11  0.277674            0.374644  0.344653  0.567333        0.367590   \n",
       "12  0.277674            0.374644  0.374106  0.239369        0.367590   \n",
       "13  0.277674            0.374644  0.344653  0.254322        0.367590   \n",
       "14  0.277674            0.374644  0.374106  0.567333        0.367590   \n",
       "15  0.277674            0.374644  0.374106  0.246592        0.367590   \n",
       "16  0.277674            0.374644  0.374106  0.567333        0.343313   \n",
       "17  0.277674            0.374644  0.374106  0.246592        0.367590   \n",
       "18  0.277674            0.374644  0.374106  0.185848        0.187618   \n",
       "19  0.277674            0.374644  0.374106  0.202310        0.153712   \n",
       "\n",
       "    distribution_channel  reserved_room_type  assigned_room_type  \\\n",
       "0               0.174868            0.330827            0.188186   \n",
       "1               0.174868            0.330827            0.188186   \n",
       "2               0.174868            0.391567            0.188186   \n",
       "3               0.220568            0.391567            0.445055   \n",
       "4               0.410598            0.391567            0.445055   \n",
       "5               0.410598            0.391567            0.445055   \n",
       "6               0.174868            0.330827            0.188186   \n",
       "7               0.174868            0.330827            0.188186   \n",
       "8               0.410598            0.391567            0.445055   \n",
       "9               0.410598            0.318108            0.251373   \n",
       "10              0.410598            0.292683            0.251603   \n",
       "11              0.410598            0.318108            0.251373   \n",
       "12              0.410598            0.318108            0.251603   \n",
       "13              0.410598            0.364723            0.306002   \n",
       "14              0.410598            0.292683            0.251603   \n",
       "15              0.410598            0.318108            0.251603   \n",
       "16              0.410598            0.292683            0.251603   \n",
       "17              0.410598            0.391567            0.251603   \n",
       "18              0.220568            0.391567            0.306002   \n",
       "19              0.174868            0.364723            0.306002   \n",
       "\n",
       "    deposit_type  customer_type  year  month  day  cancellation  \n",
       "0        0.28402       0.407864  2015      7    1             0  \n",
       "1        0.28402       0.407864  2015      7    1             0  \n",
       "2        0.28402       0.407864  2015      7    2             0  \n",
       "3        0.28402       0.407864  2015      7    2             0  \n",
       "4        0.28402       0.407864  2015      7    3             0  \n",
       "5        0.28402       0.407864  2015      7    3             0  \n",
       "6        0.28402       0.407864  2015      7    3             0  \n",
       "7        0.28402       0.407864  2015      7    3             0  \n",
       "8        0.28402       0.407864  2015      5    6             1  \n",
       "9        0.28402       0.407864  2015      4   22             1  \n",
       "10       0.28402       0.407864  2015      6   23             1  \n",
       "11       0.28402       0.407864  2015      7    5             0  \n",
       "12       0.28402       0.407864  2015      7    5             0  \n",
       "13       0.28402       0.407864  2015      7    5             0  \n",
       "14       0.28402       0.407864  2015      7    5             0  \n",
       "15       0.28402       0.407864  2015      7    5             0  \n",
       "16       0.28402       0.309921  2015      7    5             0  \n",
       "17       0.28402       0.407864  2015      7    2             0  \n",
       "18       0.28402       0.407864  2015      7    2             0  \n",
       "19       0.28402       0.407864  2015      7    5             0  "
      ]
     },
     "execution_count": 55,
     "metadata": {},
     "output_type": "execute_result"
    }
   ],
   "source": [
    "data_cat.head(20)"
   ]
  },
  {
   "cell_type": "code",
   "execution_count": 56,
   "id": "regional-survival",
   "metadata": {
    "execution": {
     "iopub.execute_input": "2021-05-17T09:13:38.112529Z",
     "iopub.status.busy": "2021-05-17T09:13:38.108242Z",
     "iopub.status.idle": "2021-05-17T09:13:38.161750Z",
     "shell.execute_reply": "2021-05-17T09:13:38.161073Z"
    },
    "papermill": {
     "duration": 0.160188,
     "end_time": "2021-05-17T09:13:38.161911",
     "exception": false,
     "start_time": "2021-05-17T09:13:38.001723",
     "status": "completed"
    },
    "tags": []
   },
   "outputs": [],
   "source": [
    "dataframe=pd.concat([data_cat,data[num_features]],axis=1)"
   ]
  },
  {
   "cell_type": "code",
   "execution_count": 57,
   "id": "together-experience",
   "metadata": {
    "execution": {
     "iopub.execute_input": "2021-05-17T09:13:38.347665Z",
     "iopub.status.busy": "2021-05-17T09:13:38.346781Z",
     "iopub.status.idle": "2021-05-17T09:13:38.351387Z",
     "shell.execute_reply": "2021-05-17T09:13:38.350655Z"
    },
    "papermill": {
     "duration": 0.09983,
     "end_time": "2021-05-17T09:13:38.351566",
     "exception": false,
     "start_time": "2021-05-17T09:13:38.251736",
     "status": "completed"
    },
    "tags": []
   },
   "outputs": [
    {
     "data": {
      "text/plain": [
       "(119210, 34)"
      ]
     },
     "execution_count": 57,
     "metadata": {},
     "output_type": "execute_result"
    }
   ],
   "source": [
    "dataframe.shape"
   ]
  },
  {
   "cell_type": "markdown",
   "id": "occupied-retail",
   "metadata": {
    "papermill": {
     "duration": 0.091564,
     "end_time": "2021-05-17T09:13:38.535622",
     "exception": false,
     "start_time": "2021-05-17T09:13:38.444058",
     "status": "completed"
    },
    "tags": []
   },
   "source": [
    "### Handle Outliers"
   ]
  },
  {
   "cell_type": "code",
   "execution_count": 58,
   "id": "revised-timothy",
   "metadata": {
    "execution": {
     "iopub.execute_input": "2021-05-17T09:13:38.738596Z",
     "iopub.status.busy": "2021-05-17T09:13:38.737803Z",
     "iopub.status.idle": "2021-05-17T09:13:39.590814Z",
     "shell.execute_reply": "2021-05-17T09:13:39.590319Z"
    },
    "papermill": {
     "duration": 0.964491,
     "end_time": "2021-05-17T09:13:39.590984",
     "exception": false,
     "start_time": "2021-05-17T09:13:38.626493",
     "status": "completed"
    },
    "tags": []
   },
   "outputs": [
    {
     "data": {
      "text/plain": [
       "<AxesSubplot:xlabel='lead_time', ylabel='Density'>"
      ]
     },
     "execution_count": 58,
     "metadata": {},
     "output_type": "execute_result"
    },
    {
     "data": {
      "image/png": "[encoded data removed]",
      "text/plain": [
       "<Figure size 432x288 with 1 Axes>"
      ]
     },
     "metadata": {
      "needs_background": "light"
     },
     "output_type": "display_data"
    }
   ],
   "source": [
    "sns.distplot(dataframe['lead_time'])"
   ]
  },
  {
   "cell_type": "code",
   "execution_count": 59,
   "id": "afraid-favorite",
   "metadata": {
    "execution": {
     "iopub.execute_input": "2021-05-17T09:13:39.788548Z",
     "iopub.status.busy": "2021-05-17T09:13:39.787841Z",
     "iopub.status.idle": "2021-05-17T09:13:39.789853Z",
     "shell.execute_reply": "2021-05-17T09:13:39.790331Z"
    },
    "papermill": {
     "duration": 0.109488,
     "end_time": "2021-05-17T09:13:39.790534",
     "exception": false,
     "start_time": "2021-05-17T09:13:39.681046",
     "status": "completed"
    },
    "tags": []
   },
   "outputs": [],
   "source": [
    "def handle_outlier(col):\n",
    "    dataframe[col]=np.log1p(dataframe[col])"
   ]
  },
  {
   "cell_type": "code",
   "execution_count": 60,
   "id": "brazilian-emission",
   "metadata": {
    "execution": {
     "iopub.execute_input": "2021-05-17T09:13:39.978126Z",
     "iopub.status.busy": "2021-05-17T09:13:39.977440Z",
     "iopub.status.idle": "2021-05-17T09:13:39.988078Z",
     "shell.execute_reply": "2021-05-17T09:13:39.988618Z"
    },
    "papermill": {
     "duration": 0.105973,
     "end_time": "2021-05-17T09:13:39.988820",
     "exception": false,
     "start_time": "2021-05-17T09:13:39.882847",
     "status": "completed"
    },
    "tags": []
   },
   "outputs": [],
   "source": [
    "handle_outlier('lead_time')"
   ]
  },
  {
   "cell_type": "code",
   "execution_count": 61,
   "id": "textile-irrigation",
   "metadata": {
    "execution": {
     "iopub.execute_input": "2021-05-17T09:13:40.179776Z",
     "iopub.status.busy": "2021-05-17T09:13:40.179113Z",
     "iopub.status.idle": "2021-05-17T09:13:41.002402Z",
     "shell.execute_reply": "2021-05-17T09:13:41.001778Z"
    },
    "papermill": {
     "duration": 0.91938,
     "end_time": "2021-05-17T09:13:41.002574",
     "exception": false,
     "start_time": "2021-05-17T09:13:40.083194",
     "status": "completed"
    },
    "tags": []
   },
   "outputs": [
    {
     "data": {
      "text/plain": [
       "<AxesSubplot:xlabel='lead_time', ylabel='Density'>"
      ]
     },
     "execution_count": 61,
     "metadata": {},
     "output_type": "execute_result"
    },
    {
     "data": {
      "image/png": "[encoded data removed]",
      "text/plain": [
       "<Figure size 432x288 with 1 Axes>"
      ]
     },
     "metadata": {
      "needs_background": "light"
     },
     "output_type": "display_data"
    }
   ],
   "source": [
    "sns.distplot(dataframe['lead_time'].dropna())"
   ]
  },
  {
   "cell_type": "code",
   "execution_count": 62,
   "id": "arctic-economics",
   "metadata": {
    "execution": {
     "iopub.execute_input": "2021-05-17T09:13:41.211007Z",
     "iopub.status.busy": "2021-05-17T09:13:41.209811Z",
     "iopub.status.idle": "2021-05-17T09:13:41.904908Z",
     "shell.execute_reply": "2021-05-17T09:13:41.904203Z"
    },
    "papermill": {
     "duration": 0.809102,
     "end_time": "2021-05-17T09:13:41.905091",
     "exception": false,
     "start_time": "2021-05-17T09:13:41.095989",
     "status": "completed"
    },
    "tags": []
   },
   "outputs": [
    {
     "data": {
      "text/plain": [
       "<AxesSubplot:xlabel='adr', ylabel='Density'>"
      ]
     },
     "execution_count": 62,
     "metadata": {},
     "output_type": "execute_result"
    },
    {
     "data": {
      "image/png": "[encoded data removed]",
      "text/plain": [
       "<Figure size 432x288 with 1 Axes>"
      ]
     },
     "metadata": {
      "needs_background": "light"
     },
     "output_type": "display_data"
    }
   ],
   "source": [
    "sns.distplot(dataframe['adr'])"
   ]
  },
  {
   "cell_type": "code",
   "execution_count": 63,
   "id": "pressing-beverage",
   "metadata": {
    "execution": {
     "iopub.execute_input": "2021-05-17T09:13:42.101088Z",
     "iopub.status.busy": "2021-05-17T09:13:42.100126Z",
     "iopub.status.idle": "2021-05-17T09:13:42.107747Z",
     "shell.execute_reply": "2021-05-17T09:13:42.108276Z"
    },
    "papermill": {
     "duration": 0.108535,
     "end_time": "2021-05-17T09:13:42.108498",
     "exception": false,
     "start_time": "2021-05-17T09:13:41.999963",
     "status": "completed"
    },
    "tags": []
   },
   "outputs": [],
   "source": [
    "handle_outlier('adr')"
   ]
  },
  {
   "cell_type": "code",
   "execution_count": 64,
   "id": "offensive-strand",
   "metadata": {
    "execution": {
     "iopub.execute_input": "2021-05-17T09:13:42.305902Z",
     "iopub.status.busy": "2021-05-17T09:13:42.304907Z",
     "iopub.status.idle": "2021-05-17T09:13:43.125238Z",
     "shell.execute_reply": "2021-05-17T09:13:43.124672Z"
    },
    "papermill": {
     "duration": 0.9199,
     "end_time": "2021-05-17T09:13:43.125400",
     "exception": false,
     "start_time": "2021-05-17T09:13:42.205500",
     "status": "completed"
    },
    "tags": []
   },
   "outputs": [
    {
     "data": {
      "text/plain": [
       "<AxesSubplot:xlabel='adr', ylabel='Density'>"
      ]
     },
     "execution_count": 64,
     "metadata": {},
     "output_type": "execute_result"
    },
    {
     "data": {
      "image/png": "[encoded data removed]",
      "text/plain": [
       "<Figure size 432x288 with 1 Axes>"
      ]
     },
     "metadata": {
      "needs_background": "light"
     },
     "output_type": "display_data"
    }
   ],
   "source": [
    "sns.distplot(dataframe['adr'].dropna())"
   ]
  },
  {
   "cell_type": "code",
   "execution_count": 65,
   "id": "moving-terrain",
   "metadata": {
    "execution": {
     "iopub.execute_input": "2021-05-17T09:13:43.324690Z",
     "iopub.status.busy": "2021-05-17T09:13:43.323176Z",
     "iopub.status.idle": "2021-05-17T09:13:43.383374Z",
     "shell.execute_reply": "2021-05-17T09:13:43.382809Z"
    },
    "papermill": {
     "duration": 0.162232,
     "end_time": "2021-05-17T09:13:43.383572",
     "exception": false,
     "start_time": "2021-05-17T09:13:43.221340",
     "status": "completed"
    },
    "tags": []
   },
   "outputs": [],
   "source": [
    "dataframe.drop('cancellation',axis=1,inplace=True)"
   ]
  },
  {
   "cell_type": "code",
   "execution_count": 66,
   "id": "mobile-infrastructure",
   "metadata": {
    "execution": {
     "iopub.execute_input": "2021-05-17T09:13:43.582825Z",
     "iopub.status.busy": "2021-05-17T09:13:43.581584Z",
     "iopub.status.idle": "2021-05-17T09:13:43.597652Z",
     "shell.execute_reply": "2021-05-17T09:13:43.596703Z"
    },
    "papermill": {
     "duration": 0.117238,
     "end_time": "2021-05-17T09:13:43.597867",
     "exception": false,
     "start_time": "2021-05-17T09:13:43.480629",
     "status": "completed"
    },
    "tags": []
   },
   "outputs": [
    {
     "data": {
      "text/plain": [
       "hotel                             0\n",
       "arrival_date_month                0\n",
       "meal                              0\n",
       "country                           0\n",
       "market_segment                    0\n",
       "distribution_channel              0\n",
       "reserved_room_type                0\n",
       "assigned_room_type                0\n",
       "deposit_type                      0\n",
       "customer_type                     0\n",
       "year                              0\n",
       "month                             0\n",
       "day                               0\n",
       "is_canceled                       0\n",
       "lead_time                         0\n",
       "arrival_date_year                 0\n",
       "arrival_date_week_number          0\n",
       "arrival_date_day_of_month         0\n",
       "stays_in_weekend_nights           0\n",
       "stays_in_week_nights              0\n",
       "adults                            0\n",
       "children                          0\n",
       "babies                            0\n",
       "is_repeated_guest                 0\n",
       "previous_cancellations            0\n",
       "previous_bookings_not_canceled    0\n",
       "booking_changes                   0\n",
       "agent                             0\n",
       "company                           0\n",
       "days_in_waiting_list              0\n",
       "adr                               1\n",
       "required_car_parking_spaces       0\n",
       "total_of_special_requests         0\n",
       "dtype: int64"
      ]
     },
     "execution_count": 66,
     "metadata": {},
     "output_type": "execute_result"
    }
   ],
   "source": [
    "dataframe.isnull().sum()"
   ]
  },
  {
   "cell_type": "code",
   "execution_count": 67,
   "id": "basic-drain",
   "metadata": {
    "execution": {
     "iopub.execute_input": "2021-05-17T09:13:43.799156Z",
     "iopub.status.busy": "2021-05-17T09:13:43.797858Z",
     "iopub.status.idle": "2021-05-17T09:13:43.824862Z",
     "shell.execute_reply": "2021-05-17T09:13:43.824195Z"
    },
    "papermill": {
     "duration": 0.129578,
     "end_time": "2021-05-17T09:13:43.825018",
     "exception": false,
     "start_time": "2021-05-17T09:13:43.695440",
     "status": "completed"
    },
    "tags": []
   },
   "outputs": [],
   "source": [
    "dataframe.dropna(inplace=True)"
   ]
  },
  {
   "cell_type": "code",
   "execution_count": 68,
   "id": "ethical-dining",
   "metadata": {
    "execution": {
     "iopub.execute_input": "2021-05-17T09:13:44.027054Z",
     "iopub.status.busy": "2021-05-17T09:13:44.025590Z",
     "iopub.status.idle": "2021-05-17T09:13:44.047976Z",
     "shell.execute_reply": "2021-05-17T09:13:44.047056Z"
    },
    "papermill": {
     "duration": 0.127117,
     "end_time": "2021-05-17T09:13:44.048218",
     "exception": false,
     "start_time": "2021-05-17T09:13:43.921101",
     "status": "completed"
    },
    "tags": []
   },
   "outputs": [
    {
     "name": "stdout",
     "output_type": "stream",
     "text": [
      "<class 'pandas.core.frame.DataFrame'>\n",
      "Int64Index: 119209 entries, 0 to 119389\n",
      "Data columns (total 33 columns):\n",
      " #   Column                          Non-Null Count   Dtype  \n",
      "---  ------                          --------------   -----  \n",
      " 0   hotel                           119209 non-null  float64\n",
      " 1   arrival_date_month              119209 non-null  float64\n",
      " 2   meal                            119209 non-null  float64\n",
      " 3   country                         119209 non-null  float64\n",
      " 4   market_segment                  119209 non-null  float64\n",
      " 5   distribution_channel            119209 non-null  float64\n",
      " 6   reserved_room_type              119209 non-null  float64\n",
      " 7   assigned_room_type              119209 non-null  float64\n",
      " 8   deposit_type                    119209 non-null  float64\n",
      " 9   customer_type                   119209 non-null  float64\n",
      " 10  year                            119209 non-null  int64  \n",
      " 11  month                           119209 non-null  int64  \n",
      " 12  day                             119209 non-null  int64  \n",
      " 13  is_canceled                     119209 non-null  int64  \n",
      " 14  lead_time                       119209 non-null  float64\n",
      " 15  arrival_date_year               119209 non-null  int64  \n",
      " 16  arrival_date_week_number        119209 non-null  int64  \n",
      " 17  arrival_date_day_of_month       119209 non-null  int64  \n",
      " 18  stays_in_weekend_nights         119209 non-null  int64  \n",
      " 19  stays_in_week_nights            119209 non-null  int64  \n",
      " 20  adults                          119209 non-null  int64  \n",
      " 21  children                        119209 non-null  float64\n",
      " 22  babies                          119209 non-null  int64  \n",
      " 23  is_repeated_guest               119209 non-null  int64  \n",
      " 24  previous_cancellations          119209 non-null  int64  \n",
      " 25  previous_bookings_not_canceled  119209 non-null  int64  \n",
      " 26  booking_changes                 119209 non-null  int64  \n",
      " 27  agent                           119209 non-null  float64\n",
      " 28  company                         119209 non-null  float64\n",
      " 29  days_in_waiting_list            119209 non-null  int64  \n",
      " 30  adr                             119209 non-null  float64\n",
      " 31  required_car_parking_spaces     119209 non-null  int64  \n",
      " 32  total_of_special_requests       119209 non-null  int64  \n",
      "dtypes: float64(15), int64(18)\n",
      "memory usage: 30.9 MB\n"
     ]
    }
   ],
   "source": [
    "dataframe.info()"
   ]
  },
  {
   "cell_type": "markdown",
   "id": "aquatic-assumption",
   "metadata": {
    "papermill": {
     "duration": 0.095391,
     "end_time": "2021-05-17T09:13:44.242271",
     "exception": false,
     "start_time": "2021-05-17T09:13:44.146880",
     "status": "completed"
    },
    "tags": []
   },
   "source": [
    "## separate dependent & independent features"
   ]
  },
  {
   "cell_type": "code",
   "execution_count": 69,
   "id": "juvenile-thermal",
   "metadata": {
    "execution": {
     "iopub.execute_input": "2021-05-17T09:13:44.450000Z",
     "iopub.status.busy": "2021-05-17T09:13:44.449345Z",
     "iopub.status.idle": "2021-05-17T09:13:44.466953Z",
     "shell.execute_reply": "2021-05-17T09:13:44.467878Z"
    },
    "papermill": {
     "duration": 0.129222,
     "end_time": "2021-05-17T09:13:44.468164",
     "exception": false,
     "start_time": "2021-05-17T09:13:44.338942",
     "status": "completed"
    },
    "tags": []
   },
   "outputs": [],
   "source": [
    "y=dataframe['is_canceled']\n",
    "x=dataframe.drop('is_canceled',axis=1)"
   ]
  },
  {
   "cell_type": "markdown",
   "id": "handled-skirt",
   "metadata": {
    "papermill": {
     "duration": 0.101147,
     "end_time": "2021-05-17T09:13:44.666323",
     "exception": false,
     "start_time": "2021-05-17T09:13:44.565176",
     "status": "completed"
    },
    "tags": []
   },
   "source": [
    "### Feature Importance"
   ]
  },
  {
   "cell_type": "code",
   "execution_count": 70,
   "id": "viral-microphone",
   "metadata": {
    "execution": {
     "iopub.execute_input": "2021-05-17T09:13:44.868532Z",
     "iopub.status.busy": "2021-05-17T09:13:44.867392Z",
     "iopub.status.idle": "2021-05-17T09:13:45.295322Z",
     "shell.execute_reply": "2021-05-17T09:13:45.295767Z"
    },
    "papermill": {
     "duration": 0.532844,
     "end_time": "2021-05-17T09:13:45.296049",
     "exception": false,
     "start_time": "2021-05-17T09:13:44.763205",
     "status": "completed"
    },
    "tags": []
   },
   "outputs": [],
   "source": [
    "from sklearn.linear_model import Lasso\n",
    "from sklearn.feature_selection import SelectFromModel"
   ]
  },
  {
   "cell_type": "code",
   "execution_count": 71,
   "id": "julian-reunion",
   "metadata": {
    "execution": {
     "iopub.execute_input": "2021-05-17T09:13:45.540545Z",
     "iopub.status.busy": "2021-05-17T09:13:45.538749Z",
     "iopub.status.idle": "2021-05-17T09:13:46.239400Z",
     "shell.execute_reply": "2021-05-17T09:13:46.240814Z"
    },
    "papermill": {
     "duration": 0.8418,
     "end_time": "2021-05-17T09:13:46.241153",
     "exception": false,
     "start_time": "2021-05-17T09:13:45.399353",
     "status": "completed"
    },
    "tags": []
   },
   "outputs": [
    {
     "data": {
      "text/plain": [
       "SelectFromModel(estimator=Lasso(alpha=0.005, random_state=0))"
      ]
     },
     "execution_count": 71,
     "metadata": {},
     "output_type": "execute_result"
    }
   ],
   "source": [
    "feature_sel_model = SelectFromModel(Lasso(alpha=0.005, random_state=0)) # remember to set the seed, the random state in this function\n",
    "feature_sel_model.fit(x,y)"
   ]
  },
  {
   "cell_type": "code",
   "execution_count": 72,
   "id": "offshore-texture",
   "metadata": {
    "execution": {
     "iopub.execute_input": "2021-05-17T09:13:46.491995Z",
     "iopub.status.busy": "2021-05-17T09:13:46.491348Z",
     "iopub.status.idle": "2021-05-17T09:13:46.493977Z",
     "shell.execute_reply": "2021-05-17T09:13:46.494443Z"
    },
    "papermill": {
     "duration": 0.104989,
     "end_time": "2021-05-17T09:13:46.494627",
     "exception": false,
     "start_time": "2021-05-17T09:13:46.389638",
     "status": "completed"
    },
    "tags": []
   },
   "outputs": [
    {
     "data": {
      "text/plain": [
       "array([False, False, False,  True, False, False, False, False,  True,\n",
       "       False,  True,  True,  True,  True,  True,  True,  True,  True,\n",
       "        True,  True,  True, False, False,  True,  True,  True,  True,\n",
       "        True,  True,  True,  True,  True])"
      ]
     },
     "execution_count": 72,
     "metadata": {},
     "output_type": "execute_result"
    }
   ],
   "source": [
    "feature_sel_model.get_support()"
   ]
  },
  {
   "cell_type": "code",
   "execution_count": 73,
   "id": "hungry-september",
   "metadata": {
    "execution": {
     "iopub.execute_input": "2021-05-17T09:13:46.692178Z",
     "iopub.status.busy": "2021-05-17T09:13:46.691508Z",
     "iopub.status.idle": "2021-05-17T09:13:46.696921Z",
     "shell.execute_reply": "2021-05-17T09:13:46.696238Z"
    },
    "papermill": {
     "duration": 0.105412,
     "end_time": "2021-05-17T09:13:46.697110",
     "exception": false,
     "start_time": "2021-05-17T09:13:46.591698",
     "status": "completed"
    },
    "tags": []
   },
   "outputs": [],
   "source": [
    "cols=x.columns"
   ]
  },
  {
   "cell_type": "code",
   "execution_count": 74,
   "id": "adjusted-occupation",
   "metadata": {
    "execution": {
     "iopub.execute_input": "2021-05-17T09:13:46.899253Z",
     "iopub.status.busy": "2021-05-17T09:13:46.898520Z",
     "iopub.status.idle": "2021-05-17T09:13:46.902634Z",
     "shell.execute_reply": "2021-05-17T09:13:46.903137Z"
    },
    "papermill": {
     "duration": 0.106807,
     "end_time": "2021-05-17T09:13:46.903331",
     "exception": false,
     "start_time": "2021-05-17T09:13:46.796524",
     "status": "completed"
    },
    "tags": []
   },
   "outputs": [],
   "source": [
    "# let's print the number of total and selected features\n",
    "\n",
    "# this is how we can make a list of the selected features\n",
    "selected_feat = cols[(feature_sel_model.get_support())]"
   ]
  },
  {
   "cell_type": "code",
   "execution_count": 75,
   "id": "seven-salad",
   "metadata": {
    "execution": {
     "iopub.execute_input": "2021-05-17T09:13:47.111509Z",
     "iopub.status.busy": "2021-05-17T09:13:47.110723Z",
     "iopub.status.idle": "2021-05-17T09:13:47.118445Z",
     "shell.execute_reply": "2021-05-17T09:13:47.117759Z"
    },
    "papermill": {
     "duration": 0.113133,
     "end_time": "2021-05-17T09:13:47.118603",
     "exception": false,
     "start_time": "2021-05-17T09:13:47.005470",
     "status": "completed"
    },
    "tags": []
   },
   "outputs": [
    {
     "name": "stdout",
     "output_type": "stream",
     "text": [
      "total features: 32\n",
      "selected features: 22\n"
     ]
    }
   ],
   "source": [
    "# let's print some stats\n",
    "print('total features: {}'.format((x.shape[1])))\n",
    "print('selected features: {}'.format(len(selected_feat)))"
   ]
  },
  {
   "cell_type": "code",
   "execution_count": 76,
   "id": "acquired-national",
   "metadata": {
    "execution": {
     "iopub.execute_input": "2021-05-17T09:13:47.320336Z",
     "iopub.status.busy": "2021-05-17T09:13:47.319541Z",
     "iopub.status.idle": "2021-05-17T09:13:47.322431Z",
     "shell.execute_reply": "2021-05-17T09:13:47.322839Z"
    },
    "papermill": {
     "duration": 0.107054,
     "end_time": "2021-05-17T09:13:47.323066",
     "exception": false,
     "start_time": "2021-05-17T09:13:47.216012",
     "status": "completed"
    },
    "tags": []
   },
   "outputs": [
    {
     "data": {
      "text/plain": [
       "Index(['country', 'deposit_type', 'year', 'month', 'day', 'lead_time',\n",
       "       'arrival_date_year', 'arrival_date_week_number',\n",
       "       'arrival_date_day_of_month', 'stays_in_weekend_nights',\n",
       "       'stays_in_week_nights', 'adults', 'children', 'previous_cancellations',\n",
       "       'previous_bookings_not_canceled', 'booking_changes', 'agent', 'company',\n",
       "       'days_in_waiting_list', 'adr', 'required_car_parking_spaces',\n",
       "       'total_of_special_requests'],\n",
       "      dtype='object')"
      ]
     },
     "execution_count": 76,
     "metadata": {},
     "output_type": "execute_result"
    }
   ],
   "source": [
    "selected_feat"
   ]
  },
  {
   "cell_type": "code",
   "execution_count": 77,
   "id": "above-better",
   "metadata": {
    "execution": {
     "iopub.execute_input": "2021-05-17T09:13:47.533367Z",
     "iopub.status.busy": "2021-05-17T09:13:47.532698Z",
     "iopub.status.idle": "2021-05-17T09:13:47.543567Z",
     "shell.execute_reply": "2021-05-17T09:13:47.544062Z"
    },
    "papermill": {
     "duration": 0.119817,
     "end_time": "2021-05-17T09:13:47.544273",
     "exception": false,
     "start_time": "2021-05-17T09:13:47.424456",
     "status": "completed"
    },
    "tags": []
   },
   "outputs": [],
   "source": [
    "X=x[selected_feat]"
   ]
  },
  {
   "cell_type": "code",
   "execution_count": 78,
   "id": "genuine-sampling",
   "metadata": {
    "execution": {
     "iopub.execute_input": "2021-05-17T09:13:47.757410Z",
     "iopub.status.busy": "2021-05-17T09:13:47.756725Z",
     "iopub.status.idle": "2021-05-17T09:13:47.798152Z",
     "shell.execute_reply": "2021-05-17T09:13:47.798551Z"
    },
    "papermill": {
     "duration": 0.152941,
     "end_time": "2021-05-17T09:13:47.798750",
     "exception": false,
     "start_time": "2021-05-17T09:13:47.645809",
     "status": "completed"
    },
    "tags": []
   },
   "outputs": [],
   "source": [
    "# Import Libraries\n",
    "from sklearn.model_selection import train_test_split\n",
    "#Splitting data\n",
    "X_train, X_test, y_train, y_test = train_test_split(X, y, test_size=0.33, random_state=44, shuffle =True)"
   ]
  },
  {
   "cell_type": "code",
   "execution_count": 79,
   "id": "informal-graduation",
   "metadata": {
    "execution": {
     "iopub.execute_input": "2021-05-17T09:13:48.006559Z",
     "iopub.status.busy": "2021-05-17T09:13:48.005755Z",
     "iopub.status.idle": "2021-05-17T09:13:48.013409Z",
     "shell.execute_reply": "2021-05-17T09:13:48.013961Z"
    },
    "papermill": {
     "duration": 0.116203,
     "end_time": "2021-05-17T09:13:48.014199",
     "exception": false,
     "start_time": "2021-05-17T09:13:47.897996",
     "status": "completed"
    },
    "tags": []
   },
   "outputs": [
    {
     "name": "stdout",
     "output_type": "stream",
     "text": [
      "X_train shape is  (79870, 22)\n",
      "X_test shape is  (39339, 22)\n",
      "y_train shape is  (79870,)\n",
      "y_test shape is  (39339,)\n"
     ]
    }
   ],
   "source": [
    "#Splitted Data\n",
    "print('X_train shape is ' , X_train.shape)\n",
    "print('X_test shape is ' , X_test.shape)\n",
    "print('y_train shape is ' , y_train.shape)\n",
    "print('y_test shape is ' , y_test.shape)"
   ]
  },
  {
   "cell_type": "code",
   "execution_count": 80,
   "id": "severe-element",
   "metadata": {
    "execution": {
     "iopub.execute_input": "2021-05-17T09:13:48.223063Z",
     "iopub.status.busy": "2021-05-17T09:13:48.222364Z",
     "iopub.status.idle": "2021-05-17T09:13:48.225692Z",
     "shell.execute_reply": "2021-05-17T09:13:48.226139Z"
    },
    "papermill": {
     "duration": 0.110179,
     "end_time": "2021-05-17T09:13:48.226346",
     "exception": false,
     "start_time": "2021-05-17T09:13:48.116167",
     "status": "completed"
    },
    "tags": []
   },
   "outputs": [],
   "source": [
    "#Import Libraries\n",
    "from sklearn.linear_model import LogisticRegression"
   ]
  },
  {
   "cell_type": "code",
   "execution_count": 81,
   "id": "commercial-editor",
   "metadata": {
    "execution": {
     "iopub.execute_input": "2021-05-17T09:13:48.435482Z",
     "iopub.status.busy": "2021-05-17T09:13:48.434736Z",
     "iopub.status.idle": "2021-05-17T09:13:54.272449Z",
     "shell.execute_reply": "2021-05-17T09:13:54.272890Z"
    },
    "papermill": {
     "duration": 5.946528,
     "end_time": "2021-05-17T09:13:54.273094",
     "exception": false,
     "start_time": "2021-05-17T09:13:48.326566",
     "status": "completed"
    },
    "tags": []
   },
   "outputs": [
    {
     "data": {
      "text/plain": [
       "LogisticRegression(random_state=33, solver='sag')"
      ]
     },
     "execution_count": 81,
     "metadata": {},
     "output_type": "execute_result"
    }
   ],
   "source": [
    "#Applying LogisticRegression Model \n",
    "\n",
    "'''\n",
    "linear_model.LogisticRegression(penalty='l2’,dual=False,tol=0.0001,C=1.0,fit_intercept=True,intercept_scaling=1,\n",
    "                                class_weight=None,random_state=None,solver='warn’,max_iter=100,\n",
    "                                multi_class='warn’, verbose=0,warm_start=False, n_jobs=None)\n",
    "'''\n",
    "\n",
    "LogisticRegressionModel = LogisticRegression(penalty='l2',solver='sag',C=1.0,random_state=33)\n",
    "LogisticRegressionModel.fit(X_train, y_train)"
   ]
  },
  {
   "cell_type": "code",
   "execution_count": 82,
   "id": "strong-sight",
   "metadata": {
    "execution": {
     "iopub.execute_input": "2021-05-17T09:13:54.487803Z",
     "iopub.status.busy": "2021-05-17T09:13:54.486984Z",
     "iopub.status.idle": "2021-05-17T09:13:54.538865Z",
     "shell.execute_reply": "2021-05-17T09:13:54.539835Z"
    },
    "papermill": {
     "duration": 0.165628,
     "end_time": "2021-05-17T09:13:54.540181",
     "exception": false,
     "start_time": "2021-05-17T09:13:54.374553",
     "status": "completed"
    },
    "tags": []
   },
   "outputs": [
    {
     "name": "stdout",
     "output_type": "stream",
     "text": [
      "LogisticRegressionModel Train Score is :  0.7334418429948667\n",
      "LogisticRegressionModel Test Score is :  0.7354025267546201\n",
      "LogisticRegressionModel Classes are :  [0 1]\n",
      "LogisticRegressionModel No. of iteratios is :  [100]\n"
     ]
    }
   ],
   "source": [
    "#Calculating Details\n",
    "print('LogisticRegressionModel Train Score is : ' , LogisticRegressionModel.score(X_train, y_train))\n",
    "print('LogisticRegressionModel Test Score is : ' , LogisticRegressionModel.score(X_test, y_test))\n",
    "print('LogisticRegressionModel Classes are : ' , LogisticRegressionModel.classes_)\n",
    "print('LogisticRegressionModel No. of iteratios is : ' , LogisticRegressionModel.n_iter_)"
   ]
  },
  {
   "cell_type": "code",
   "execution_count": 83,
   "id": "modern-night",
   "metadata": {
    "execution": {
     "iopub.execute_input": "2021-05-17T09:13:54.803231Z",
     "iopub.status.busy": "2021-05-17T09:13:54.801717Z",
     "iopub.status.idle": "2021-05-17T09:13:54.824142Z",
     "shell.execute_reply": "2021-05-17T09:13:54.824975Z"
    },
    "papermill": {
     "duration": 0.138261,
     "end_time": "2021-05-17T09:13:54.825297",
     "exception": false,
     "start_time": "2021-05-17T09:13:54.687036",
     "status": "completed"
    },
    "tags": []
   },
   "outputs": [
    {
     "name": "stdout",
     "output_type": "stream",
     "text": [
      "Predicted Value for LogisticRegressionModel is :  [1 0 0 0 0 0 1 1 0 0]\n",
      "Prediction Probabilities Value for LogisticRegressionModel is :  [[0.39615678 0.60384322]\n",
      " [0.55620829 0.44379171]\n",
      " [0.76646562 0.23353438]\n",
      " [0.65327651 0.34672349]\n",
      " [0.63224953 0.36775047]\n",
      " [0.64960327 0.35039673]\n",
      " [0.27327687 0.72672313]\n",
      " [0.43123551 0.56876449]\n",
      " [0.81432938 0.18567062]\n",
      " [0.66072168 0.33927832]]\n"
     ]
    }
   ],
   "source": [
    "#Calculating Prediction\n",
    "y_pred = LogisticRegressionModel.predict(X_test)\n",
    "y_pred_prob = LogisticRegressionModel.predict_proba(X_test)\n",
    "print('Predicted Value for LogisticRegressionModel is : ' , y_pred[:10])\n",
    "print('Prediction Probabilities Value for LogisticRegressionModel is : ' , y_pred_prob[:10])"
   ]
  },
  {
   "cell_type": "code",
   "execution_count": 84,
   "id": "blank-macedonia",
   "metadata": {
    "execution": {
     "iopub.execute_input": "2021-05-17T09:13:55.088407Z",
     "iopub.status.busy": "2021-05-17T09:13:55.087657Z",
     "iopub.status.idle": "2021-05-17T09:13:55.089629Z",
     "shell.execute_reply": "2021-05-17T09:13:55.090131Z"
    },
    "papermill": {
     "duration": 0.111386,
     "end_time": "2021-05-17T09:13:55.090334",
     "exception": false,
     "start_time": "2021-05-17T09:13:54.978948",
     "status": "completed"
    },
    "tags": []
   },
   "outputs": [],
   "source": [
    "#Import Libraries\n",
    "from sklearn.metrics import confusion_matrix\n",
    "import seaborn as sns\n",
    "import matplotlib.pyplot as plt\n",
    "from sklearn.metrics import accuracy_score"
   ]
  },
  {
   "cell_type": "code",
   "execution_count": 85,
   "id": "scheduled-current",
   "metadata": {
    "execution": {
     "iopub.execute_input": "2021-05-17T09:13:55.295334Z",
     "iopub.status.busy": "2021-05-17T09:13:55.294711Z",
     "iopub.status.idle": "2021-05-17T09:13:55.331199Z",
     "shell.execute_reply": "2021-05-17T09:13:55.331675Z"
    },
    "papermill": {
     "duration": 0.142571,
     "end_time": "2021-05-17T09:13:55.331880",
     "exception": false,
     "start_time": "2021-05-17T09:13:55.189309",
     "status": "completed"
    },
    "tags": []
   },
   "outputs": [
    {
     "name": "stdout",
     "output_type": "stream",
     "text": [
      "Confusion Matrix is : \n",
      " [[22771  2089]\n",
      " [ 8320  6159]]\n"
     ]
    }
   ],
   "source": [
    "#Calculating Confusion Matrix\n",
    "CM = confusion_matrix(y_test, y_pred)\n",
    "print('Confusion Matrix is : \\n', CM)"
   ]
  },
  {
   "cell_type": "code",
   "execution_count": 86,
   "id": "military-planet",
   "metadata": {
    "execution": {
     "iopub.execute_input": "2021-05-17T09:13:55.540864Z",
     "iopub.status.busy": "2021-05-17T09:13:55.540089Z",
     "iopub.status.idle": "2021-05-17T09:13:55.758498Z",
     "shell.execute_reply": "2021-05-17T09:13:55.758914Z"
    },
    "papermill": {
     "duration": 0.322217,
     "end_time": "2021-05-17T09:13:55.759139",
     "exception": false,
     "start_time": "2021-05-17T09:13:55.436922",
     "status": "completed"
    },
    "tags": []
   },
   "outputs": [
    {
     "data": {
      "image/png": "[encoded data removed]",
      "text/plain": [
       "<Figure size 432x288 with 2 Axes>"
      ]
     },
     "metadata": {
      "needs_background": "light"
     },
     "output_type": "display_data"
    }
   ],
   "source": [
    "# drawing confusion matrix\n",
    "sns.heatmap(CM, center = True)\n",
    "plt.show()"
   ]
  },
  {
   "cell_type": "markdown",
   "id": "subjective-wellington",
   "metadata": {
    "papermill": {
     "duration": 0.100944,
     "end_time": "2021-05-17T09:13:55.962003",
     "exception": false,
     "start_time": "2021-05-17T09:13:55.861059",
     "status": "completed"
    },
    "tags": []
   },
   "source": [
    "### Cross validate your model"
   ]
  },
  {
   "cell_type": "code",
   "execution_count": 87,
   "id": "knowing-mediterranean",
   "metadata": {
    "execution": {
     "iopub.execute_input": "2021-05-17T09:13:56.220328Z",
     "iopub.status.busy": "2021-05-17T09:13:56.219445Z",
     "iopub.status.idle": "2021-05-17T09:15:26.015442Z",
     "shell.execute_reply": "2021-05-17T09:15:26.016404Z"
    },
    "papermill": {
     "duration": 89.930339,
     "end_time": "2021-05-17T09:15:26.016783",
     "exception": false,
     "start_time": "2021-05-17T09:13:56.086444",
     "status": "completed"
    },
    "tags": []
   },
   "outputs": [],
   "source": [
    "from sklearn.model_selection import cross_val_score\n",
    "score=cross_val_score(LogisticRegressionModel,x,y,cv=10)"
   ]
  },
  {
   "cell_type": "code",
   "execution_count": 88,
   "id": "respective-extreme",
   "metadata": {
    "execution": {
     "iopub.execute_input": "2021-05-17T09:15:26.276620Z",
     "iopub.status.busy": "2021-05-17T09:15:26.275729Z",
     "iopub.status.idle": "2021-05-17T09:15:26.280081Z",
     "shell.execute_reply": "2021-05-17T09:15:26.279585Z"
    },
    "papermill": {
     "duration": 0.108752,
     "end_time": "2021-05-17T09:15:26.280229",
     "exception": false,
     "start_time": "2021-05-17T09:15:26.171477",
     "status": "completed"
    },
    "tags": []
   },
   "outputs": [
    {
     "data": {
      "text/plain": [
       "array([0.65598524, 0.68215754, 0.74725275, 0.6765372 , 0.70791041,\n",
       "       0.69348209, 0.6189917 , 0.68274474, 0.73617985, 0.66954698])"
      ]
     },
     "execution_count": 88,
     "metadata": {},
     "output_type": "execute_result"
    }
   ],
   "source": [
    "score"
   ]
  },
  {
   "cell_type": "code",
   "execution_count": 89,
   "id": "bigger-belle",
   "metadata": {
    "execution": {
     "iopub.execute_input": "2021-05-17T09:15:26.490056Z",
     "iopub.status.busy": "2021-05-17T09:15:26.489205Z",
     "iopub.status.idle": "2021-05-17T09:15:26.493219Z",
     "shell.execute_reply": "2021-05-17T09:15:26.492727Z"
    },
    "papermill": {
     "duration": 0.112165,
     "end_time": "2021-05-17T09:15:26.493373",
     "exception": false,
     "start_time": "2021-05-17T09:15:26.381208",
     "status": "completed"
    },
    "tags": []
   },
   "outputs": [
    {
     "data": {
      "text/plain": [
       "0.687078848645079"
      ]
     },
     "execution_count": 89,
     "metadata": {},
     "output_type": "execute_result"
    }
   ],
   "source": [
    "score.mean()"
   ]
  },
  {
   "cell_type": "code",
   "execution_count": 90,
   "id": "optional-choir",
   "metadata": {
    "execution": {
     "iopub.execute_input": "2021-05-17T09:15:26.707585Z",
     "iopub.status.busy": "2021-05-17T09:15:26.706881Z",
     "iopub.status.idle": "2021-05-17T09:15:26.788777Z",
     "shell.execute_reply": "2021-05-17T09:15:26.789375Z"
    },
    "papermill": {
     "duration": 0.189985,
     "end_time": "2021-05-17T09:15:26.789586",
     "exception": false,
     "start_time": "2021-05-17T09:15:26.599601",
     "status": "completed"
    },
    "tags": []
   },
   "outputs": [],
   "source": [
    "from sklearn.naive_bayes import GaussianNB\n",
    "from sklearn.linear_model import LogisticRegression\n",
    "from sklearn.neighbors import KNeighborsClassifier\n",
    "from sklearn.ensemble import RandomForestClassifier\n",
    "from sklearn.tree import DecisionTreeClassifier"
   ]
  },
  {
   "cell_type": "markdown",
   "id": "suffering-knife",
   "metadata": {
    "papermill": {
     "duration": 0.101241,
     "end_time": "2021-05-17T09:15:26.993087",
     "exception": false,
     "start_time": "2021-05-17T09:15:26.891846",
     "status": "completed"
    },
    "tags": []
   },
   "source": [
    "### Applying LogisticRegression Model "
   ]
  },
  {
   "cell_type": "code",
   "execution_count": 91,
   "id": "other-truth",
   "metadata": {
    "execution": {
     "iopub.execute_input": "2021-05-17T09:15:27.208964Z",
     "iopub.status.busy": "2021-05-17T09:15:27.208275Z",
     "iopub.status.idle": "2021-05-17T09:15:29.279105Z",
     "shell.execute_reply": "2021-05-17T09:15:29.280039Z"
    },
    "papermill": {
     "duration": 2.183374,
     "end_time": "2021-05-17T09:15:29.280369",
     "exception": false,
     "start_time": "2021-05-17T09:15:27.096995",
     "status": "completed"
    },
    "tags": []
   },
   "outputs": [
    {
     "data": {
      "text/plain": [
       "LogisticRegression(penalty='none', random_state=33)"
      ]
     },
     "execution_count": 91,
     "metadata": {},
     "output_type": "execute_result"
    }
   ],
   "source": [
    "'''\n",
    "linear_model.LogisticRegression(penalty='l2’,dual=False,tol=0.0001,C=1.0,fit_intercept=True,intercept_scaling=1,\n",
    "                                class_weight=None,random_state=None,solver='warn’,max_iter=100,\n",
    "                                multi_class='warn’, verbose=0,warm_start=False, n_jobs=None)\n",
    "'''\n",
    "\n",
    "LogisticRegressionModel = LogisticRegression(penalty='none',solver='lbfgs',C=1.0,random_state=33)\n",
    "LogisticRegressionModel.fit(X_train, y_train)"
   ]
  },
  {
   "cell_type": "code",
   "execution_count": 92,
   "id": "reasonable-terror",
   "metadata": {
    "execution": {
     "iopub.execute_input": "2021-05-17T09:15:29.551483Z",
     "iopub.status.busy": "2021-05-17T09:15:29.550792Z",
     "iopub.status.idle": "2021-05-17T09:15:29.585756Z",
     "shell.execute_reply": "2021-05-17T09:15:29.585162Z"
    },
    "papermill": {
     "duration": 0.142094,
     "end_time": "2021-05-17T09:15:29.585937",
     "exception": false,
     "start_time": "2021-05-17T09:15:29.443843",
     "status": "completed"
    },
    "tags": []
   },
   "outputs": [
    {
     "name": "stdout",
     "output_type": "stream",
     "text": [
      "Confusion Matrix is : \n",
      " [[22771  2089]\n",
      " [ 8320  6159]]\n"
     ]
    }
   ],
   "source": [
    "#Calculating Confusion Matrix\n",
    "CM = confusion_matrix(y_test, y_pred)\n",
    "print('Confusion Matrix is : \\n', CM)"
   ]
  },
  {
   "cell_type": "code",
   "execution_count": 93,
   "id": "located-chuck",
   "metadata": {
    "execution": {
     "iopub.execute_input": "2021-05-17T09:15:29.816794Z",
     "iopub.status.busy": "2021-05-17T09:15:29.802156Z",
     "iopub.status.idle": "2021-05-17T09:15:30.028618Z",
     "shell.execute_reply": "2021-05-17T09:15:30.027975Z"
    },
    "papermill": {
     "duration": 0.339893,
     "end_time": "2021-05-17T09:15:30.028778",
     "exception": false,
     "start_time": "2021-05-17T09:15:29.688885",
     "status": "completed"
    },
    "tags": []
   },
   "outputs": [
    {
     "data": {
      "image/png": "[encoded data removed]",
      "text/plain": [
       "<Figure size 432x288 with 2 Axes>"
      ]
     },
     "metadata": {
      "needs_background": "light"
     },
     "output_type": "display_data"
    }
   ],
   "source": [
    "# drawing confusion matrix\n",
    "sns.heatmap(CM, center = True)\n",
    "plt.show()"
   ]
  },
  {
   "cell_type": "code",
   "execution_count": 94,
   "id": "dangerous-memphis",
   "metadata": {
    "execution": {
     "iopub.execute_input": "2021-05-17T09:15:30.244395Z",
     "iopub.status.busy": "2021-05-17T09:15:30.243638Z",
     "iopub.status.idle": "2021-05-17T09:15:30.297494Z",
     "shell.execute_reply": "2021-05-17T09:15:30.298366Z"
    },
    "papermill": {
     "duration": 0.163923,
     "end_time": "2021-05-17T09:15:30.298685",
     "exception": false,
     "start_time": "2021-05-17T09:15:30.134762",
     "status": "completed"
    },
    "tags": []
   },
   "outputs": [
    {
     "name": "stdout",
     "output_type": "stream",
     "text": [
      "LogisticRegressionModel Train Score is :  0.722549142356329\n",
      "LogisticRegressionModel Test Score is :  0.7249802994483846\n",
      "LogisticRegressionModel Classes are :  [0 1]\n",
      "LogisticRegressionModel No. of iteratios is :  [100]\n"
     ]
    }
   ],
   "source": [
    "#Calculating Details\n",
    "print('LogisticRegressionModel Train Score is : ' , LogisticRegressionModel.score(X_train, y_train))\n",
    "print('LogisticRegressionModel Test Score is : ' , LogisticRegressionModel.score(X_test, y_test))\n",
    "print('LogisticRegressionModel Classes are : ' , LogisticRegressionModel.classes_)\n",
    "print('LogisticRegressionModel No. of iteratios is : ' , LogisticRegressionModel.n_iter_)"
   ]
  },
  {
   "cell_type": "code",
   "execution_count": 95,
   "id": "lucky-milan",
   "metadata": {
    "execution": {
     "iopub.execute_input": "2021-05-17T09:15:30.558303Z",
     "iopub.status.busy": "2021-05-17T09:15:30.557547Z",
     "iopub.status.idle": "2021-05-17T09:15:30.579897Z",
     "shell.execute_reply": "2021-05-17T09:15:30.580810Z"
    },
    "papermill": {
     "duration": 0.132562,
     "end_time": "2021-05-17T09:15:30.581151",
     "exception": false,
     "start_time": "2021-05-17T09:15:30.448589",
     "status": "completed"
    },
    "tags": []
   },
   "outputs": [
    {
     "name": "stdout",
     "output_type": "stream",
     "text": [
      "Predicted Value for LogisticRegressionModel is :  [1 1 0 0 0 0 1 1 0 0]\n",
      "Prediction Probabilities Value for LogisticRegressionModel is :  [[0.36826624 0.63173376]\n",
      " [0.48039939 0.51960061]\n",
      " [0.90031096 0.09968904]\n",
      " [0.67712453 0.32287547]\n",
      " [0.65023649 0.34976351]\n",
      " [0.62630066 0.37369934]\n",
      " [0.12175673 0.87824327]\n",
      " [0.40964997 0.59035003]\n",
      " [0.85180457 0.14819543]\n",
      " [0.66535919 0.33464081]]\n"
     ]
    }
   ],
   "source": [
    "#Calculating Prediction\n",
    "y_pred = LogisticRegressionModel.predict(X_test)\n",
    "y_pred_prob = LogisticRegressionModel.predict_proba(X_test)\n",
    "print('Predicted Value for LogisticRegressionModel is : ' , y_pred[:10])\n",
    "print('Prediction Probabilities Value for LogisticRegressionModel is : ' , y_pred_prob[:10])"
   ]
  },
  {
   "cell_type": "markdown",
   "id": "threaded-soldier",
   "metadata": {
    "papermill": {
     "duration": 0.102277,
     "end_time": "2021-05-17T09:15:30.838345",
     "exception": false,
     "start_time": "2021-05-17T09:15:30.736068",
     "status": "completed"
    },
    "tags": []
   },
   "source": [
    " # It was a Bad result with  LogisticRegressionModel\n",
    "   # let's go use DecisionTreeClassifier"
   ]
  },
  {
   "cell_type": "markdown",
   "id": "expensive-windsor",
   "metadata": {
    "papermill": {
     "duration": 0.105721,
     "end_time": "2021-05-17T09:15:31.047242",
     "exception": false,
     "start_time": "2021-05-17T09:15:30.941521",
     "status": "completed"
    },
    "tags": []
   },
   "source": [
    "### Applying DecisionTreeClassifier Model "
   ]
  },
  {
   "cell_type": "code",
   "execution_count": 96,
   "id": "advanced-recycling",
   "metadata": {
    "execution": {
     "iopub.execute_input": "2021-05-17T09:15:31.265251Z",
     "iopub.status.busy": "2021-05-17T09:15:31.264379Z",
     "iopub.status.idle": "2021-05-17T09:15:31.968431Z",
     "shell.execute_reply": "2021-05-17T09:15:31.968956Z"
    },
    "papermill": {
     "duration": 0.813274,
     "end_time": "2021-05-17T09:15:31.969214",
     "exception": false,
     "start_time": "2021-05-17T09:15:31.155940",
     "status": "completed"
    },
    "tags": []
   },
   "outputs": [
    {
     "data": {
      "text/plain": [
       "DecisionTreeClassifier(criterion='entropy', random_state=33)"
      ]
     },
     "execution_count": 96,
     "metadata": {},
     "output_type": "execute_result"
    }
   ],
   "source": [
    "\n",
    "'''\n",
    "sklearn.tree.DecisionTreeClassifier(criterion='gini’, splitter=’best’, max_depth=None,min_samples_split=2,\n",
    "                                    min_samples_leaf=1,min_weight_fraction_leaf=0.0,max_features=None,\n",
    "                                    random_state=None, max_leaf_nodes=None,min_impurity_decrease=0.0,\n",
    "                                    min_impurity_split=None, class_weight=None,presort=False)\n",
    "'''\n",
    "\n",
    "DecisionTreeClassifierModel = DecisionTreeClassifier(criterion='entropy',splitter='best',random_state=33) #criterion can be entropy\n",
    "DecisionTreeClassifierModel.fit(X_train, y_train)"
   ]
  },
  {
   "cell_type": "code",
   "execution_count": 97,
   "id": "compressed-triumph",
   "metadata": {
    "execution": {
     "iopub.execute_input": "2021-05-17T09:15:32.222073Z",
     "iopub.status.busy": "2021-05-17T09:15:32.221359Z",
     "iopub.status.idle": "2021-05-17T09:15:32.229234Z",
     "shell.execute_reply": "2021-05-17T09:15:32.228627Z"
    },
    "papermill": {
     "duration": 0.141083,
     "end_time": "2021-05-17T09:15:32.229435",
     "exception": false,
     "start_time": "2021-05-17T09:15:32.088352",
     "status": "completed"
    },
    "tags": []
   },
   "outputs": [],
   "source": [
    "#Import Libraries\n",
    "from sklearn.metrics import confusion_matrix\n",
    "import seaborn as sns\n",
    "import matplotlib.pyplot as plt"
   ]
  },
  {
   "cell_type": "code",
   "execution_count": 98,
   "id": "sharing-links",
   "metadata": {
    "execution": {
     "iopub.execute_input": "2021-05-17T09:15:32.446420Z",
     "iopub.status.busy": "2021-05-17T09:15:32.445728Z",
     "iopub.status.idle": "2021-05-17T09:15:32.488649Z",
     "shell.execute_reply": "2021-05-17T09:15:32.487729Z"
    },
    "papermill": {
     "duration": 0.154272,
     "end_time": "2021-05-17T09:15:32.488877",
     "exception": false,
     "start_time": "2021-05-17T09:15:32.334605",
     "status": "completed"
    },
    "tags": []
   },
   "outputs": [
    {
     "name": "stdout",
     "output_type": "stream",
     "text": [
      "Confusion Matrix is : \n",
      " [[21712  3148]\n",
      " [ 7671  6808]]\n"
     ]
    }
   ],
   "source": [
    "#Calculating Confusion Matrix\n",
    "CM = confusion_matrix(y_test, y_pred)\n",
    "print('Confusion Matrix is : \\n', CM)"
   ]
  },
  {
   "cell_type": "code",
   "execution_count": 99,
   "id": "antique-financing",
   "metadata": {
    "execution": {
     "iopub.execute_input": "2021-05-17T09:15:32.730450Z",
     "iopub.status.busy": "2021-05-17T09:15:32.714204Z",
     "iopub.status.idle": "2021-05-17T09:15:32.923008Z",
     "shell.execute_reply": "2021-05-17T09:15:32.923485Z"
    },
    "papermill": {
     "duration": 0.321174,
     "end_time": "2021-05-17T09:15:32.923708",
     "exception": false,
     "start_time": "2021-05-17T09:15:32.602534",
     "status": "completed"
    },
    "tags": []
   },
   "outputs": [
    {
     "data": {
      "image/png": "[encoded data removed]",
      "text/plain": [
       "<Figure size 432x288 with 2 Axes>"
      ]
     },
     "metadata": {
      "needs_background": "light"
     },
     "output_type": "display_data"
    }
   ],
   "source": [
    "# drawing confusion matrix\n",
    "sns.heatmap(CM, center = True)\n",
    "plt.show()"
   ]
  },
  {
   "cell_type": "code",
   "execution_count": 100,
   "id": "likely-standing",
   "metadata": {
    "execution": {
     "iopub.execute_input": "2021-05-17T09:15:33.142832Z",
     "iopub.status.busy": "2021-05-17T09:15:33.142163Z",
     "iopub.status.idle": "2021-05-17T09:15:33.198467Z",
     "shell.execute_reply": "2021-05-17T09:15:33.197494Z"
    },
    "papermill": {
     "duration": 0.168398,
     "end_time": "2021-05-17T09:15:33.198690",
     "exception": false,
     "start_time": "2021-05-17T09:15:33.030292",
     "status": "completed"
    },
    "tags": []
   },
   "outputs": [
    {
     "name": "stdout",
     "output_type": "stream",
     "text": [
      "DecisionTreeClassifierModel Train Score is :  1.0\n",
      "DecisionTreeClassifierModel Test Score is :  0.9400340628892447\n",
      "DecisionTreeClassifierModel Classes are :  [0 1]\n",
      "DecisionTreeClassifierModel feature importances are :  [0.05939318 0.19945609 0.01349626 0.07194017 0.08064815 0.07179954\n",
      " 0.02363566 0.13085604 0.06639936 0.00817139 0.01478432 0.00374677\n",
      " 0.00270333 0.01969266 0.00839418 0.01007782 0.10998925 0.00457707\n",
      " 0.00049629 0.035561   0.03016512 0.03401635]\n"
     ]
    }
   ],
   "source": [
    "#Calculating Details\n",
    "print('DecisionTreeClassifierModel Train Score is : ' , DecisionTreeClassifierModel.score(X_train, y_train))\n",
    "print('DecisionTreeClassifierModel Test Score is : ' , DecisionTreeClassifierModel.score(X_test, y_test))\n",
    "print('DecisionTreeClassifierModel Classes are : ' , DecisionTreeClassifierModel.classes_)\n",
    "print('DecisionTreeClassifierModel feature importances are : ' , DecisionTreeClassifierModel.feature_importances_)"
   ]
  },
  {
   "cell_type": "code",
   "execution_count": 101,
   "id": "directed-practitioner",
   "metadata": {
    "execution": {
     "iopub.execute_input": "2021-05-17T09:15:33.426645Z",
     "iopub.status.busy": "2021-05-17T09:15:33.425313Z",
     "iopub.status.idle": "2021-05-17T09:15:33.456447Z",
     "shell.execute_reply": "2021-05-17T09:15:33.457062Z"
    },
    "papermill": {
     "duration": 0.148724,
     "end_time": "2021-05-17T09:15:33.457291",
     "exception": false,
     "start_time": "2021-05-17T09:15:33.308567",
     "status": "completed"
    },
    "tags": []
   },
   "outputs": [
    {
     "name": "stdout",
     "output_type": "stream",
     "text": [
      "Predicted Value for DecisionTreeClassifierModel is :  [1 0 1 0 0 0 1 1 0 0]\n",
      "Prediction Probabilities Value for DecisionTreeClassifierModel is :  [[0. 1.]\n",
      " [1. 0.]\n",
      " [0. 1.]\n",
      " [1. 0.]\n",
      " [1. 0.]\n",
      " [1. 0.]\n",
      " [0. 1.]\n",
      " [0. 1.]\n",
      " [1. 0.]\n",
      " [1. 0.]]\n"
     ]
    }
   ],
   "source": [
    "#Calculating Prediction\n",
    "y_pred = DecisionTreeClassifierModel.predict(X_test)\n",
    "y_pred_prob = DecisionTreeClassifierModel.predict_proba(X_test)\n",
    "print('Predicted Value for DecisionTreeClassifierModel is : ' , y_pred[:10])\n",
    "print('Prediction Probabilities Value for DecisionTreeClassifierModel is : ' , y_pred_prob[:10])"
   ]
  },
  {
   "cell_type": "markdown",
   "id": "separated-liberal",
   "metadata": {
    "papermill": {
     "duration": 0.10966,
     "end_time": "2021-05-17T09:15:33.677561",
     "exception": false,
     "start_time": "2021-05-17T09:15:33.567901",
     "status": "completed"
    },
    "tags": []
   },
   "source": [
    " # It is a great result with  DecisionTreeClassifier"
   ]
  },
  {
   "cell_type": "markdown",
   "id": "impressed-photographer",
   "metadata": {
    "papermill": {
     "duration": 0.106898,
     "end_time": "2021-05-17T09:15:33.892765",
     "exception": false,
     "start_time": "2021-05-17T09:15:33.785867",
     "status": "completed"
    },
    "tags": []
   },
   "source": [
    "## let's see KNN Model"
   ]
  },
  {
   "cell_type": "code",
   "execution_count": 102,
   "id": "handled-miniature",
   "metadata": {
    "execution": {
     "iopub.execute_input": "2021-05-17T09:15:34.116580Z",
     "iopub.status.busy": "2021-05-17T09:15:34.115883Z",
     "iopub.status.idle": "2021-05-17T09:15:34.133602Z",
     "shell.execute_reply": "2021-05-17T09:15:34.134137Z"
    },
    "papermill": {
     "duration": 0.131318,
     "end_time": "2021-05-17T09:15:34.134358",
     "exception": false,
     "start_time": "2021-05-17T09:15:34.003040",
     "status": "completed"
    },
    "tags": []
   },
   "outputs": [
    {
     "data": {
      "text/plain": [
       "KNeighborsClassifier()"
      ]
     },
     "execution_count": 102,
     "metadata": {},
     "output_type": "execute_result"
    }
   ],
   "source": [
    "#Applying KNeighborsClassifier Model \n",
    "\n",
    "'''\n",
    "sklearn.neighbors.KNeighborsClassifier(n_neighbors=5, weights='uniform’, algorithm=’auto’, leaf_size=30,\n",
    "                                       p=2, metric='minkowski’, metric_params=None,n_jobs=None)\n",
    "'''\n",
    "KNNClassifierModel = KNeighborsClassifier(n_neighbors= 5,weights ='uniform', # it can be distance\n",
    "                                          algorithm='auto') # it can be ball_tree, kd_tree,brute\n",
    "KNNClassifierModel.fit(X_train, y_train)"
   ]
  },
  {
   "cell_type": "code",
   "execution_count": 103,
   "id": "fitting-letter",
   "metadata": {
    "execution": {
     "iopub.execute_input": "2021-05-17T09:15:34.352577Z",
     "iopub.status.busy": "2021-05-17T09:15:34.351776Z",
     "iopub.status.idle": "2021-05-17T09:15:34.391114Z",
     "shell.execute_reply": "2021-05-17T09:15:34.390342Z"
    },
    "papermill": {
     "duration": 0.148741,
     "end_time": "2021-05-17T09:15:34.391301",
     "exception": false,
     "start_time": "2021-05-17T09:15:34.242560",
     "status": "completed"
    },
    "tags": []
   },
   "outputs": [
    {
     "name": "stdout",
     "output_type": "stream",
     "text": [
      "Confusion Matrix is : \n",
      " [[23733  1127]\n",
      " [ 1232 13247]]\n"
     ]
    }
   ],
   "source": [
    "#Calculating Confusion Matrix\n",
    "CM = confusion_matrix(y_test, y_pred)\n",
    "print('Confusion Matrix is : \\n', CM)"
   ]
  },
  {
   "cell_type": "code",
   "execution_count": 104,
   "id": "adjacent-olive",
   "metadata": {
    "execution": {
     "iopub.execute_input": "2021-05-17T09:15:34.640656Z",
     "iopub.status.busy": "2021-05-17T09:15:34.614221Z",
     "iopub.status.idle": "2021-05-17T09:15:34.825272Z",
     "shell.execute_reply": "2021-05-17T09:15:34.824665Z"
    },
    "papermill": {
     "duration": 0.323503,
     "end_time": "2021-05-17T09:15:34.825436",
     "exception": false,
     "start_time": "2021-05-17T09:15:34.501933",
     "status": "completed"
    },
    "tags": []
   },
   "outputs": [
    {
     "data": {
      "image/png": "[encoded data removed]",
      "text/plain": [
       "<Figure size 432x288 with 2 Axes>"
      ]
     },
     "metadata": {
      "needs_background": "light"
     },
     "output_type": "display_data"
    }
   ],
   "source": [
    "# drawing confusion matrix\n",
    "sns.heatmap(CM, center = True)\n",
    "plt.show()"
   ]
  },
  {
   "cell_type": "code",
   "execution_count": 105,
   "id": "hungarian-vinyl",
   "metadata": {
    "execution": {
     "iopub.execute_input": "2021-05-17T09:15:35.046612Z",
     "iopub.status.busy": "2021-05-17T09:15:35.045880Z",
     "iopub.status.idle": "2021-05-17T09:19:27.852722Z",
     "shell.execute_reply": "2021-05-17T09:19:27.853236Z"
    },
    "papermill": {
     "duration": 232.921029,
     "end_time": "2021-05-17T09:19:27.853435",
     "exception": false,
     "start_time": "2021-05-17T09:15:34.932406",
     "status": "completed"
    },
    "tags": []
   },
   "outputs": [
    {
     "name": "stdout",
     "output_type": "stream",
     "text": [
      "KNNClassifierModel Train Score is :  0.9634781519969952\n",
      "KNNClassifierModel Test Score is :  0.9516764533923079\n"
     ]
    }
   ],
   "source": [
    "#Calculating Details\n",
    "print('KNNClassifierModel Train Score is : ' , KNNClassifierModel.score(X_train, y_train))\n",
    "print('KNNClassifierModel Test Score is : ' , KNNClassifierModel.score(X_test, y_test))\n"
   ]
  },
  {
   "cell_type": "code",
   "execution_count": 106,
   "id": "organizational-parts",
   "metadata": {
    "execution": {
     "iopub.execute_input": "2021-05-17T09:19:28.138595Z",
     "iopub.status.busy": "2021-05-17T09:19:28.137900Z",
     "iopub.status.idle": "2021-05-17T09:21:59.165813Z",
     "shell.execute_reply": "2021-05-17T09:21:59.166528Z"
    },
    "papermill": {
     "duration": 151.144661,
     "end_time": "2021-05-17T09:21:59.166797",
     "exception": false,
     "start_time": "2021-05-17T09:19:28.022136",
     "status": "completed"
    },
    "tags": []
   },
   "outputs": [
    {
     "name": "stdout",
     "output_type": "stream",
     "text": [
      "Predicted Value for KNNClassifierModel is :  [1 0 1 0 0 0 1 1 0 0]\n",
      "Prediction Probabilities Value for KNNClassifierModel is :  [[0.  1. ]\n",
      " [1.  0. ]\n",
      " [0.  1. ]\n",
      " [1.  0. ]\n",
      " [1.  0. ]\n",
      " [1.  0. ]\n",
      " [0.  1. ]\n",
      " [0.  1. ]\n",
      " [0.8 0.2]\n",
      " [1.  0. ]]\n"
     ]
    }
   ],
   "source": [
    "#Calculating Prediction\n",
    "y_pred = KNNClassifierModel.predict(X_test)\n",
    "y_pred_prob = KNNClassifierModel.predict_proba(X_test)\n",
    "print('Predicted Value for KNNClassifierModel is : ' , y_pred[:10])\n",
    "print('Prediction Probabilities Value for KNNClassifierModel is : ' , y_pred_prob[:10])"
   ]
  },
  {
   "cell_type": "markdown",
   "id": "specialized-happening",
   "metadata": {
    "papermill": {
     "duration": 0.107688,
     "end_time": "2021-05-17T09:21:59.382529",
     "exception": false,
     "start_time": "2021-05-17T09:21:59.274841",
     "status": "completed"
    },
    "tags": []
   },
   "source": [
    " # It is a fantastic result with  DecisionTreeClassifier"
   ]
  },
  {
   "cell_type": "markdown",
   "id": "twelve-federal",
   "metadata": {
    "papermill": {
     "duration": 0.107433,
     "end_time": "2021-05-17T09:21:59.598831",
     "exception": false,
     "start_time": "2021-05-17T09:21:59.491398",
     "status": "completed"
    },
    "tags": []
   },
   "source": [
    "\n",
    "## If you found this notebook helpful or you just liked it , some upvotes would be very much appreciated - That will keep me motivated to update it on a regular basis"
   ]
  }
 ],
 "metadata": {
  "kernelspec": {
   "display_name": "Python 3",
   "language": "python",
   "name": "python3"
  },
  "language_info": {
   "codemirror_mode": {
    "name": "ipython",
    "version": 3
   },
   "file_extension": ".py",
   "mimetype": "text/x-python",
   "name": "python",
   "nbconvert_exporter": "python",
   "pygments_lexer": "ipython3",
   "version": "3.7.10"
  },
  "papermill": {
   "default_parameters": {},
   "duration": 548.445006,
   "end_time": "2021-05-17T09:22:01.272734",
   "environment_variables": {},
   "exception": null,
   "input_path": "__notebook__.ipynb",
   "output_path": "__notebook__.ipynb",
   "parameters": {},
   "start_time": "2021-05-17T09:12:52.827728",
   "version": "2.3.3"
  }
 },
 "nbformat": 4,
 "nbformat_minor": 5
}
